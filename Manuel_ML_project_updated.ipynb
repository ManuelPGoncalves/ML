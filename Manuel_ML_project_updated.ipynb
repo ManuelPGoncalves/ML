{
 "cells": [
  {
   "cell_type": "code",
   "execution_count": 1,
   "metadata": {},
   "outputs": [],
   "source": [
    "# Data manipulation and analysis\n",
    "import pandas as pd\n",
    "import numpy as np\n",
    "\n",
    "# Data visualization\n",
    "import matplotlib.pyplot as plt\n",
    "import seaborn as sns\n",
    "\n",
    "# Missing data visualization\n",
    "import missingno as msno\n",
    "\n",
    "# Machine learning preprocessing and modeling\n",
    "from sklearn.preprocessing import StandardScaler, MinMaxScaler, LabelEncoder\n",
    "from sklearn.model_selection import train_test_split, cross_val_score, KFold\n",
    "from sklearn.model_selection import GridSearchCV\n",
    "from sklearn.preprocessing import OneHotEncoder\n",
    "\n",
    "# Machine learning algorithms\n",
    "from sklearn.neighbors import KNeighborsClassifier\n",
    "from sklearn.linear_model import LogisticRegression, Ridge, LassoCV\n",
    "from sklearn.tree import DecisionTreeClassifier\n",
    "from sklearn.ensemble import RandomForestClassifier\n",
    "\n",
    "# Statistical scoring\n",
    "from scipy.stats import zscore\n",
    "import scipy.stats as stats\n",
    "from scipy.stats import chi2_contingency\n",
    "\n",
    "from sklearn.metrics import confusion_matrix, f1_score, recall_score, precision_score, accuracy_score\n",
    "from sklearn.neural_network import MLPClassifier\n",
    "from sklearn.feature_selection import RFE\n",
    "from sklearn.svm import SVC\n",
    "from imblearn.over_sampling import SMOTE\n",
    "from sklearn.utils.class_weight import compute_class_weight\n",
    "\n",
    "from sklearn.ensemble import VotingClassifier,AdaBoostClassifier,BaggingClassifier,GradientBoostingClassifier"
   ]
  },
  {
   "cell_type": "code",
   "execution_count": 2,
   "metadata": {
    "scrolled": false
   },
   "outputs": [
    {
     "data": {
      "text/html": [
       "<div>\n",
       "<style scoped>\n",
       "    .dataframe tbody tr th:only-of-type {\n",
       "        vertical-align: middle;\n",
       "    }\n",
       "\n",
       "    .dataframe tbody tr th {\n",
       "        vertical-align: top;\n",
       "    }\n",
       "\n",
       "    .dataframe thead th {\n",
       "        text-align: right;\n",
       "    }\n",
       "</style>\n",
       "<table border=\"1\" class=\"dataframe\">\n",
       "  <thead>\n",
       "    <tr style=\"text-align: right;\">\n",
       "      <th></th>\n",
       "      <th>encounter_id</th>\n",
       "      <th>country</th>\n",
       "      <th>patient_id</th>\n",
       "      <th>race</th>\n",
       "      <th>gender</th>\n",
       "      <th>age</th>\n",
       "      <th>weight</th>\n",
       "      <th>payer_code</th>\n",
       "      <th>outpatient_visits_in_previous_year</th>\n",
       "      <th>emergency_visits_in_previous_year</th>\n",
       "      <th>...</th>\n",
       "      <th>secondary_diagnosis</th>\n",
       "      <th>additional_diagnosis</th>\n",
       "      <th>number_diagnoses</th>\n",
       "      <th>glucose_test_result</th>\n",
       "      <th>a1c_test_result</th>\n",
       "      <th>change_in_meds_during_hospitalization</th>\n",
       "      <th>prescribed_diabetes_meds</th>\n",
       "      <th>medication</th>\n",
       "      <th>readmitted_binary</th>\n",
       "      <th>readmitted_multiclass</th>\n",
       "    </tr>\n",
       "  </thead>\n",
       "  <tbody>\n",
       "    <tr>\n",
       "      <th>0</th>\n",
       "      <td>533253</td>\n",
       "      <td>USA</td>\n",
       "      <td>70110</td>\n",
       "      <td>Caucasian</td>\n",
       "      <td>Female</td>\n",
       "      <td>[70-80)</td>\n",
       "      <td>?</td>\n",
       "      <td>?</td>\n",
       "      <td>0</td>\n",
       "      <td>0</td>\n",
       "      <td>...</td>\n",
       "      <td>276</td>\n",
       "      <td>466</td>\n",
       "      <td>8</td>\n",
       "      <td>NaN</td>\n",
       "      <td>NaN</td>\n",
       "      <td>No</td>\n",
       "      <td>No</td>\n",
       "      <td>[]</td>\n",
       "      <td>No</td>\n",
       "      <td>&gt;30 days</td>\n",
       "    </tr>\n",
       "    <tr>\n",
       "      <th>1</th>\n",
       "      <td>426224</td>\n",
       "      <td>USA</td>\n",
       "      <td>29775006</td>\n",
       "      <td>AfricanAmerican</td>\n",
       "      <td>Male</td>\n",
       "      <td>[50-60)</td>\n",
       "      <td>?</td>\n",
       "      <td>?</td>\n",
       "      <td>0</td>\n",
       "      <td>0</td>\n",
       "      <td>...</td>\n",
       "      <td>785</td>\n",
       "      <td>162</td>\n",
       "      <td>9</td>\n",
       "      <td>NaN</td>\n",
       "      <td>NaN</td>\n",
       "      <td>No</td>\n",
       "      <td>Yes</td>\n",
       "      <td>['insulin']</td>\n",
       "      <td>No</td>\n",
       "      <td>No</td>\n",
       "    </tr>\n",
       "    <tr>\n",
       "      <th>2</th>\n",
       "      <td>634063</td>\n",
       "      <td>USA</td>\n",
       "      <td>80729253</td>\n",
       "      <td>Caucasian</td>\n",
       "      <td>Female</td>\n",
       "      <td>[60-70)</td>\n",
       "      <td>?</td>\n",
       "      <td>?</td>\n",
       "      <td>0</td>\n",
       "      <td>0</td>\n",
       "      <td>...</td>\n",
       "      <td>135</td>\n",
       "      <td>250</td>\n",
       "      <td>6</td>\n",
       "      <td>NaN</td>\n",
       "      <td>NaN</td>\n",
       "      <td>Ch</td>\n",
       "      <td>Yes</td>\n",
       "      <td>['glimepiride', 'insulin']</td>\n",
       "      <td>No</td>\n",
       "      <td>No</td>\n",
       "    </tr>\n",
       "    <tr>\n",
       "      <th>3</th>\n",
       "      <td>890610</td>\n",
       "      <td>USA</td>\n",
       "      <td>2919042</td>\n",
       "      <td>AfricanAmerican</td>\n",
       "      <td>Male</td>\n",
       "      <td>[60-70)</td>\n",
       "      <td>?</td>\n",
       "      <td>MC</td>\n",
       "      <td>0</td>\n",
       "      <td>0</td>\n",
       "      <td>...</td>\n",
       "      <td>562</td>\n",
       "      <td>455</td>\n",
       "      <td>5</td>\n",
       "      <td>NaN</td>\n",
       "      <td>NaN</td>\n",
       "      <td>No</td>\n",
       "      <td>No</td>\n",
       "      <td>[]</td>\n",
       "      <td>No</td>\n",
       "      <td>No</td>\n",
       "    </tr>\n",
       "    <tr>\n",
       "      <th>4</th>\n",
       "      <td>654194</td>\n",
       "      <td>USA</td>\n",
       "      <td>84871971</td>\n",
       "      <td>Caucasian</td>\n",
       "      <td>Female</td>\n",
       "      <td>[70-80)</td>\n",
       "      <td>?</td>\n",
       "      <td>HM</td>\n",
       "      <td>1</td>\n",
       "      <td>0</td>\n",
       "      <td>...</td>\n",
       "      <td>599</td>\n",
       "      <td>428</td>\n",
       "      <td>9</td>\n",
       "      <td>NaN</td>\n",
       "      <td>NaN</td>\n",
       "      <td>No</td>\n",
       "      <td>No</td>\n",
       "      <td>[]</td>\n",
       "      <td>No</td>\n",
       "      <td>&gt;30 days</td>\n",
       "    </tr>\n",
       "  </tbody>\n",
       "</table>\n",
       "<p>5 rows × 31 columns</p>\n",
       "</div>"
      ],
      "text/plain": [
       "   encounter_id country  patient_id             race  gender      age weight  \\\n",
       "0        533253     USA       70110        Caucasian  Female  [70-80)      ?   \n",
       "1        426224     USA    29775006  AfricanAmerican    Male  [50-60)      ?   \n",
       "2        634063     USA    80729253        Caucasian  Female  [60-70)      ?   \n",
       "3        890610     USA     2919042  AfricanAmerican    Male  [60-70)      ?   \n",
       "4        654194     USA    84871971        Caucasian  Female  [70-80)      ?   \n",
       "\n",
       "  payer_code  outpatient_visits_in_previous_year  \\\n",
       "0          ?                                   0   \n",
       "1          ?                                   0   \n",
       "2          ?                                   0   \n",
       "3         MC                                   0   \n",
       "4         HM                                   1   \n",
       "\n",
       "   emergency_visits_in_previous_year  ...  secondary_diagnosis  \\\n",
       "0                                  0  ...                  276   \n",
       "1                                  0  ...                  785   \n",
       "2                                  0  ...                  135   \n",
       "3                                  0  ...                  562   \n",
       "4                                  0  ...                  599   \n",
       "\n",
       "  additional_diagnosis number_diagnoses  glucose_test_result a1c_test_result  \\\n",
       "0                  466                8                  NaN             NaN   \n",
       "1                  162                9                  NaN             NaN   \n",
       "2                  250                6                  NaN             NaN   \n",
       "3                  455                5                  NaN             NaN   \n",
       "4                  428                9                  NaN             NaN   \n",
       "\n",
       "  change_in_meds_during_hospitalization  prescribed_diabetes_meds  \\\n",
       "0                                    No                        No   \n",
       "1                                    No                       Yes   \n",
       "2                                    Ch                       Yes   \n",
       "3                                    No                        No   \n",
       "4                                    No                        No   \n",
       "\n",
       "                   medication  readmitted_binary  readmitted_multiclass  \n",
       "0                          []                 No               >30 days  \n",
       "1                 ['insulin']                 No                     No  \n",
       "2  ['glimepiride', 'insulin']                 No                     No  \n",
       "3                          []                 No                     No  \n",
       "4                          []                 No               >30 days  \n",
       "\n",
       "[5 rows x 31 columns]"
      ]
     },
     "execution_count": 2,
     "metadata": {},
     "output_type": "execute_result"
    }
   ],
   "source": [
    "original = pd.read_csv('train.csv')\n",
    "df = original.copy()\n",
    "df.head()"
   ]
  },
  {
   "cell_type": "code",
   "execution_count": 17,
   "metadata": {},
   "outputs": [
    {
     "data": {
      "text/plain": [
       "88785891    33\n",
       "1660293     19\n",
       "84428613    18\n",
       "37096866    17\n",
       "97391007    15\n",
       "            ..\n",
       "79094196     1\n",
       "76337586     1\n",
       "46057905     1\n",
       "24523182     1\n",
       "85331970     1\n",
       "Name: patient_id, Length: 53985, dtype: int64"
      ]
     },
     "execution_count": 17,
     "metadata": {},
     "output_type": "execute_result"
    }
   ],
   "source": [
    "df['patient_id'].value_counts()"
   ]
  },
  {
   "cell_type": "markdown",
   "metadata": {
    "heading_collapsed": true
   },
   "source": [
    "# 1. EDA & PreProcessing"
   ]
  },
  {
   "cell_type": "code",
   "execution_count": 165,
   "metadata": {
    "hidden": true,
    "scrolled": false
   },
   "outputs": [
    {
     "name": "stdout",
     "output_type": "stream",
     "text": [
      "Index(['encounter_id', 'country', 'patient_id', 'race', 'gender', 'age',\n",
      "       'weight', 'payer_code', 'outpatient_visits_in_previous_year',\n",
      "       'emergency_visits_in_previous_year',\n",
      "       'inpatient_visits_in_previous_year', 'admission_type',\n",
      "       'medical_specialty', 'average_pulse_bpm', 'discharge_disposition',\n",
      "       'admission_source', 'length_of_stay_in_hospital', 'number_lab_tests',\n",
      "       'non_lab_procedures', 'number_of_medications', 'primary_diagnosis',\n",
      "       'secondary_diagnosis', 'additional_diagnosis', 'number_diagnoses',\n",
      "       'glucose_test_result', 'a1c_test_result',\n",
      "       'change_in_meds_during_hospitalization', 'prescribed_diabetes_meds',\n",
      "       'medication', 'readmitted_binary', 'readmitted_multiclass'],\n",
      "      dtype='object')\n",
      "(71236, 31)\n"
     ]
    }
   ],
   "source": [
    "print(df.columns)\n",
    "print(df.shape)"
   ]
  },
  {
   "cell_type": "code",
   "execution_count": 166,
   "metadata": {
    "hidden": true
   },
   "outputs": [],
   "source": [
    "target_cols = [\n",
    "    'readmitted_binary',\n",
    "    'readmitted_multiclass'\n",
    "]\n",
    "\n",
    "id_cols = [\n",
    "    'encounter_id',\n",
    "    'patient_id'\n",
    "]\n",
    "\n",
    "numerical_cols = [\n",
    "    'average_pulse_bpm',\n",
    "    'outpatient_visits_in_previous_year',\n",
    "    'emergency_visits_in_previous_year',\n",
    "    'inpatient_visits_in_previous_year',\n",
    "    'length_of_stay_in_hospital',\n",
    "    'number_lab_tests',\n",
    "    'non_lab_procedures',\n",
    "    'number_of_medications',\n",
    "    'number_diagnoses'\n",
    "]\n",
    "\n",
    "categorical_cols = [\n",
    "    'country',\n",
    "    'race',\n",
    "    'gender',\n",
    "    'age',  # age bracket\n",
    "    'weight', # weight bracket\n",
    "    'payer_code',\n",
    "    'admission_type',\n",
    "    'medical_specialty',\n",
    "    'discharge_disposition',\n",
    "    'admission_source',\n",
    "    'primary_diagnosis',\n",
    "    'secondary_diagnosis',\n",
    "    'additional_diagnosis',\n",
    "    'glucose_test_result',\n",
    "    'a1c_test_result',\n",
    "    'change_in_meds_during_hospitalization',\n",
    "    'prescribed_diabetes_meds',\n",
    "    'medication'\n",
    "]"
   ]
  },
  {
   "cell_type": "markdown",
   "metadata": {
    "hidden": true
   },
   "source": [
    "* __'encounter_id'__ -> clean ✅\n",
    "\n",
    "Unique identifier of the encounter"
   ]
  },
  {
   "cell_type": "code",
   "execution_count": 167,
   "metadata": {
    "hidden": true,
    "scrolled": true
   },
   "outputs": [
    {
     "data": {
      "text/plain": [
       "133119    1\n",
       "590325    1\n",
       "125416    1\n",
       "909801    1\n",
       "651755    1\n",
       "         ..\n",
       "558394    1\n",
       "171321    1\n",
       "955704    1\n",
       "690410    1\n",
       "655360    1\n",
       "Name: encounter_id, Length: 71236, dtype: int64"
      ]
     },
     "execution_count": 167,
     "metadata": {},
     "output_type": "execute_result"
    }
   ],
   "source": [
    "df['encounter_id'].value_counts(dropna=False)"
   ]
  },
  {
   "cell_type": "code",
   "execution_count": 168,
   "metadata": {
    "hidden": true
   },
   "outputs": [
    {
     "data": {
      "text/plain": [
       "71236"
      ]
     },
     "execution_count": 168,
     "metadata": {},
     "output_type": "execute_result"
    }
   ],
   "source": [
    "len(set(df['encounter_id']))"
   ]
  },
  {
   "cell_type": "code",
   "execution_count": 169,
   "metadata": {
    "hidden": true
   },
   "outputs": [
    {
     "data": {
      "text/plain": [
       "dtype('int64')"
      ]
     },
     "execution_count": 169,
     "metadata": {},
     "output_type": "execute_result"
    }
   ],
   "source": [
    "df['encounter_id'].dtype"
   ]
  },
  {
   "cell_type": "markdown",
   "metadata": {
    "hidden": true
   },
   "source": [
    "* __'country'__ -> clean ✅"
   ]
  },
  {
   "cell_type": "code",
   "execution_count": 170,
   "metadata": {
    "hidden": true
   },
   "outputs": [
    {
     "data": {
      "text/plain": [
       "USA    71236\n",
       "Name: country, dtype: int64"
      ]
     },
     "execution_count": 170,
     "metadata": {},
     "output_type": "execute_result"
    }
   ],
   "source": [
    "df['country'].value_counts(dropna=False)\n",
    "# Drop! Univariate"
   ]
  },
  {
   "cell_type": "code",
   "execution_count": 171,
   "metadata": {
    "hidden": true
   },
   "outputs": [
    {
     "data": {
      "text/plain": [
       "dtype('O')"
      ]
     },
     "execution_count": 171,
     "metadata": {},
     "output_type": "execute_result"
    }
   ],
   "source": [
    "df['country'].dtype"
   ]
  },
  {
   "cell_type": "code",
   "execution_count": 172,
   "metadata": {
    "hidden": true
   },
   "outputs": [],
   "source": [
    "df = df.drop(columns=['country'])"
   ]
  },
  {
   "cell_type": "markdown",
   "metadata": {
    "hidden": true
   },
   "source": [
    "* __'patient_id'__ -> clean✅\n",
    "\n",
    "Identifier of the patient"
   ]
  },
  {
   "cell_type": "code",
   "execution_count": 173,
   "metadata": {
    "hidden": true,
    "scrolled": true
   },
   "outputs": [
    {
     "data": {
      "text/plain": [
       "88785891    33\n",
       "1660293     19\n",
       "84428613    18\n",
       "37096866    17\n",
       "97391007    15\n",
       "            ..\n",
       "79094196     1\n",
       "76337586     1\n",
       "46057905     1\n",
       "24523182     1\n",
       "85331970     1\n",
       "Name: patient_id, Length: 53985, dtype: int64"
      ]
     },
     "execution_count": 173,
     "metadata": {},
     "output_type": "execute_result"
    }
   ],
   "source": [
    "df['patient_id'].value_counts(dropna=False) "
   ]
  },
  {
   "cell_type": "code",
   "execution_count": 174,
   "metadata": {
    "hidden": true
   },
   "outputs": [
    {
     "data": {
      "text/plain": [
       "53985"
      ]
     },
     "execution_count": 174,
     "metadata": {},
     "output_type": "execute_result"
    }
   ],
   "source": [
    "len(set(df['patient_id']))"
   ]
  },
  {
   "cell_type": "code",
   "execution_count": 175,
   "metadata": {
    "hidden": true
   },
   "outputs": [
    {
     "data": {
      "text/plain": [
       "0"
      ]
     },
     "execution_count": 175,
     "metadata": {},
     "output_type": "execute_result"
    }
   ],
   "source": [
    "df['patient_id'].isna().sum()"
   ]
  },
  {
   "cell_type": "code",
   "execution_count": 176,
   "metadata": {
    "hidden": true
   },
   "outputs": [
    {
     "data": {
      "text/plain": [
       "dtype('int64')"
      ]
     },
     "execution_count": 176,
     "metadata": {},
     "output_type": "execute_result"
    }
   ],
   "source": [
    "df['patient_id'].dtype"
   ]
  },
  {
   "cell_type": "markdown",
   "metadata": {
    "hidden": true
   },
   "source": [
    "* __'race'__ -> clean❗ (minor adjustment)"
   ]
  },
  {
   "cell_type": "code",
   "execution_count": 177,
   "metadata": {
    "hidden": true,
    "scrolled": true
   },
   "outputs": [
    {
     "data": {
      "text/plain": [
       "Caucasian          50693\n",
       "AfricanAmerican    12693\n",
       "NaN                 3554\n",
       "?                   1516\n",
       "Hispanic            1364\n",
       "Other                995\n",
       "Asian                421\n",
       "Name: race, dtype: int64"
      ]
     },
     "execution_count": 177,
     "metadata": {},
     "output_type": "execute_result"
    }
   ],
   "source": [
    "df['race'].value_counts(dropna=False)"
   ]
  },
  {
   "cell_type": "code",
   "execution_count": 178,
   "metadata": {
    "hidden": true,
    "scrolled": false
   },
   "outputs": [
    {
     "data": {
      "text/plain": [
       "Caucasian          55763\n",
       "AfricanAmerican    12693\n",
       "Hispanic            1364\n",
       "Other                995\n",
       "Asian                421\n",
       "Name: race, dtype: int64"
      ]
     },
     "execution_count": 178,
     "metadata": {},
     "output_type": "execute_result"
    }
   ],
   "source": [
    "# Assigning '?' as missing values\n",
    "df['race'] = df['race'].replace('?',np.nan)\n",
    "\n",
    "# Impute Mode -> 'Caucasian'\n",
    "df['race'] = df['race'].replace(np.nan,'Caucasian')\n",
    "\n",
    "df['race'].value_counts()"
   ]
  },
  {
   "cell_type": "code",
   "execution_count": 179,
   "metadata": {
    "hidden": true
   },
   "outputs": [
    {
     "data": {
      "image/png": "[encoded data removed]",
      "text/plain": [
       "<Figure size 432x288 with 1 Axes>"
      ]
     },
     "metadata": {
      "needs_background": "light"
     },
     "output_type": "display_data"
    }
   ],
   "source": [
    "sns.countplot(x=df['race'])\n",
    "plt.xticks(rotation=90)\n",
    "plt.show()"
   ]
  },
  {
   "cell_type": "markdown",
   "metadata": {
    "hidden": true
   },
   "source": [
    "* __gender__ -> clean✅"
   ]
  },
  {
   "cell_type": "code",
   "execution_count": 180,
   "metadata": {
    "hidden": true
   },
   "outputs": [
    {
     "data": {
      "text/plain": [
       "Female             38228\n",
       "Male               33005\n",
       "Unknown/Invalid        3\n",
       "Name: gender, dtype: int64"
      ]
     },
     "execution_count": 180,
     "metadata": {},
     "output_type": "execute_result"
    }
   ],
   "source": [
    "df['gender'].value_counts(dropna=False) # Drop unknown"
   ]
  },
  {
   "cell_type": "code",
   "execution_count": 181,
   "metadata": {
    "hidden": true
   },
   "outputs": [],
   "source": [
    "df['gender'] = df['gender'].replace('Unknown/Invalid',np.nan)\n",
    "df.dropna(subset=['gender'], inplace=True)"
   ]
  },
  {
   "cell_type": "code",
   "execution_count": 182,
   "metadata": {
    "hidden": true,
    "scrolled": true
   },
   "outputs": [
    {
     "data": {
      "text/plain": [
       "dtype('O')"
      ]
     },
     "execution_count": 182,
     "metadata": {},
     "output_type": "execute_result"
    }
   ],
   "source": [
    "df['gender'].dtype"
   ]
  },
  {
   "cell_type": "code",
   "execution_count": 183,
   "metadata": {
    "hidden": true
   },
   "outputs": [
    {
     "data": {
      "text/plain": [
       "Female    38228\n",
       "Male      33005\n",
       "Name: gender, dtype: int64"
      ]
     },
     "execution_count": 183,
     "metadata": {},
     "output_type": "execute_result"
    }
   ],
   "source": [
    "df['gender'].value_counts(dropna=False)"
   ]
  },
  {
   "cell_type": "markdown",
   "metadata": {
    "hidden": true
   },
   "source": [
    "* __age__ -> clean ❗ (required adjustment)"
   ]
  },
  {
   "cell_type": "code",
   "execution_count": 184,
   "metadata": {
    "hidden": true
   },
   "outputs": [
    {
     "data": {
      "text/plain": [
       "[70-80)     17357\n",
       "[60-70)     14907\n",
       "[80-90)     11510\n",
       "[50-60)     11423\n",
       "[40-50)      6418\n",
       "NaN          3557\n",
       "[30-40)      2536\n",
       "[90-100)     1875\n",
       "[20-30)      1071\n",
       "[10-20)       474\n",
       "[0-10)        105\n",
       "Name: age, dtype: int64"
      ]
     },
     "execution_count": 184,
     "metadata": {},
     "output_type": "execute_result"
    }
   ],
   "source": [
    "df['age'].value_counts(dropna=False)"
   ]
  },
  {
   "cell_type": "code",
   "execution_count": 185,
   "metadata": {
    "hidden": true
   },
   "outputs": [
    {
     "data": {
      "text/plain": [
       "dtype('O')"
      ]
     },
     "execution_count": 185,
     "metadata": {},
     "output_type": "execute_result"
    }
   ],
   "source": [
    "df['age'].dtype"
   ]
  },
  {
   "cell_type": "code",
   "execution_count": 186,
   "metadata": {
    "hidden": true
   },
   "outputs": [
    {
     "data": {
      "text/plain": [
       "[70-80)     17357\n",
       "[60-70)     14907\n",
       "[80-90)     11510\n",
       "[50-60)     11423\n",
       "[40-50)      6418\n",
       "NaN          3557\n",
       "[30-40)      2536\n",
       "[90-100)     1875\n",
       "[20-30)      1071\n",
       "[10-20)       474\n",
       "[0-10)        105\n",
       "Name: age, dtype: int64"
      ]
     },
     "execution_count": 186,
     "metadata": {},
     "output_type": "execute_result"
    }
   ],
   "source": [
    "# Set as type 'category'\n",
    "df['age'] = df['age'].astype('category')\n",
    "\n",
    "# Order categories based on values\n",
    "df['age'] = df['age'].cat.reorder_categories(['[0-10)','[10-20)','[20-30)','[30-40)','[40-50)','[50-60)','[60-70)','[70-80)',\n",
    "                            '[80-90)','[90-100)'],ordered=True)\n",
    "\n",
    "df['age'].value_counts(dropna=False)"
   ]
  },
  {
   "cell_type": "code",
   "execution_count": 187,
   "metadata": {
    "hidden": true,
    "scrolled": false
   },
   "outputs": [
    {
     "data": {
      "image/png": "[encoded data removed]",
      "text/plain": [
       "<Figure size 432x288 with 1 Axes>"
      ]
     },
     "metadata": {
      "needs_background": "light"
     },
     "output_type": "display_data"
    }
   ],
   "source": [
    "sns.countplot(x=df['age'])\n",
    "plt.xticks(rotation=90)\n",
    "plt.show()"
   ]
  },
  {
   "cell_type": "code",
   "execution_count": 188,
   "metadata": {
    "hidden": true
   },
   "outputs": [],
   "source": [
    "df['age'] = df['age'].fillna('[70-80)')"
   ]
  },
  {
   "cell_type": "code",
   "execution_count": 189,
   "metadata": {
    "hidden": true
   },
   "outputs": [
    {
     "data": {
      "text/plain": [
       "0"
      ]
     },
     "execution_count": 189,
     "metadata": {},
     "output_type": "execute_result"
    }
   ],
   "source": [
    "df['age'].isna().sum()"
   ]
  },
  {
   "cell_type": "code",
   "execution_count": 190,
   "metadata": {
    "hidden": true
   },
   "outputs": [
    {
     "data": {
      "image/png": "[encoded data removed]",
      "text/plain": [
       "<Figure size 432x288 with 1 Axes>"
      ]
     },
     "metadata": {
      "needs_background": "light"
     },
     "output_type": "display_data"
    }
   ],
   "source": [
    "sns.countplot(x=df['age'])\n",
    "plt.xticks(rotation=90)\n",
    "plt.show()"
   ]
  },
  {
   "cell_type": "markdown",
   "metadata": {
    "hidden": true
   },
   "source": [
    "* __'weight'__ -> clean ❗ (required adjustment)"
   ]
  },
  {
   "cell_type": "code",
   "execution_count": 191,
   "metadata": {
    "hidden": true,
    "scrolled": true
   },
   "outputs": [
    {
     "data": {
      "text/plain": [
       "?            68987\n",
       "[75-100)       933\n",
       "[50-75)        636\n",
       "[100-125)      449\n",
       "[125-150)       96\n",
       "[25-50)         67\n",
       "[0-25)          35\n",
       "[150-175)       21\n",
       "[175-200)        7\n",
       ">200             2\n",
       "Name: weight, dtype: int64"
      ]
     },
     "execution_count": 191,
     "metadata": {},
     "output_type": "execute_result"
    }
   ],
   "source": [
    "df['weight'].value_counts(dropna=False)\n",
    "# Too many '?' (missing values) to consider dropping"
   ]
  },
  {
   "cell_type": "code",
   "execution_count": 192,
   "metadata": {
    "hidden": true,
    "scrolled": true
   },
   "outputs": [],
   "source": [
    "## Assign '?' as missing values\n",
    "#df['weight'] = df['weight'].replace('?',np.nan)\n",
    "#\n",
    "## Set as type 'category'\n",
    "#df['weight'] = df['weight'].astype('category')\n",
    "#\n",
    "## Order categories based on values\n",
    "#df['weight'] = df['weight'].cat.reorder_categories(['[0-25)','[25-50)','[50-75)','[75-100)','[100-125)',\n",
    "#                                                   '[125-150)','[150-175)','[175-200)','>200'],ordered=True)\n",
    "#\n",
    "#\n",
    "#df['weight'].value_counts(dropna=False)"
   ]
  },
  {
   "cell_type": "code",
   "execution_count": 193,
   "metadata": {
    "hidden": true
   },
   "outputs": [],
   "source": [
    "df = df.drop(columns=['weight'])"
   ]
  },
  {
   "cell_type": "markdown",
   "metadata": {
    "hidden": true
   },
   "source": [
    "* __'payer_code'__ -> clean ❗ (required adjustment)\n",
    "\n",
    "Code of the health insurance provider (if there is one)"
   ]
  },
  {
   "cell_type": "code",
   "execution_count": 194,
   "metadata": {
    "hidden": true
   },
   "outputs": [
    {
     "data": {
      "text/plain": [
       "?     28200\n",
       "MC    22683\n",
       "HM     4319\n",
       "SP     3541\n",
       "BC     3292\n",
       "MD     2484\n",
       "CP     1760\n",
       "UN     1733\n",
       "CM     1347\n",
       "OG      729\n",
       "PO      405\n",
       "DM      378\n",
       "CH      102\n",
       "WC       99\n",
       "OT       61\n",
       "MP       54\n",
       "SI       45\n",
       "FR        1\n",
       "Name: payer_code, dtype: int64"
      ]
     },
     "execution_count": 194,
     "metadata": {},
     "output_type": "execute_result"
    }
   ],
   "source": [
    "df['payer_code'].value_counts(dropna=False)"
   ]
  },
  {
   "cell_type": "code",
   "execution_count": 195,
   "metadata": {
    "hidden": true
   },
   "outputs": [],
   "source": [
    "# Assign '?' as a missing value\n",
    "df['payer_code'] = df['payer_code'].replace('?',np.nan)\n",
    "\n",
    "# Encode Nan value as no insurance (0) and otherwise (1)\n",
    "df['payer_code'] = df['payer_code'].notna().astype(int)"
   ]
  },
  {
   "cell_type": "code",
   "execution_count": 196,
   "metadata": {
    "hidden": true
   },
   "outputs": [],
   "source": [
    "# Assign feature as categorical\n",
    "df['payer_code'] = df['payer_code'].astype('category') "
   ]
  },
  {
   "cell_type": "code",
   "execution_count": 197,
   "metadata": {
    "hidden": true
   },
   "outputs": [
    {
     "data": {
      "text/plain": [
       "CategoricalDtype(categories=[0, 1], ordered=False)"
      ]
     },
     "execution_count": 197,
     "metadata": {},
     "output_type": "execute_result"
    }
   ],
   "source": [
    "df['payer_code'].dtype"
   ]
  },
  {
   "cell_type": "code",
   "execution_count": 198,
   "metadata": {
    "hidden": true
   },
   "outputs": [
    {
     "data": {
      "text/plain": [
       "1    43033\n",
       "0    28200\n",
       "Name: payer_code, dtype: int64"
      ]
     },
     "execution_count": 198,
     "metadata": {},
     "output_type": "execute_result"
    }
   ],
   "source": [
    "df['payer_code'].value_counts(dropna=False)"
   ]
  },
  {
   "cell_type": "markdown",
   "metadata": {
    "hidden": true
   },
   "source": [
    "* __outpatient_visits_in_previous_year__ -> clean ✅\n",
    "\n",
    "Number of outpatient visits (visits made with the intention\n",
    "of leaving on the same day) the patient made to the hospital\n",
    "in the year preceding the encounter"
   ]
  },
  {
   "cell_type": "code",
   "execution_count": 199,
   "metadata": {
    "hidden": true,
    "scrolled": true
   },
   "outputs": [
    {
     "data": {
      "text/plain": [
       "0     59584\n",
       "1      5967\n",
       "2      2465\n",
       "3      1431\n",
       "4       760\n",
       "5       370\n",
       "6       212\n",
       "7       107\n",
       "8        67\n",
       "9        59\n",
       "10       46\n",
       "11       29\n",
       "13       23\n",
       "12       21\n",
       "15       17\n",
       "14       16\n",
       "16       12\n",
       "17        5\n",
       "21        5\n",
       "20        5\n",
       "18        4\n",
       "22        4\n",
       "24        3\n",
       "27        3\n",
       "35        2\n",
       "23        2\n",
       "25        2\n",
       "29        2\n",
       "39        1\n",
       "38        1\n",
       "37        1\n",
       "36        1\n",
       "28        1\n",
       "34        1\n",
       "33        1\n",
       "19        1\n",
       "26        1\n",
       "42        1\n",
       "Name: outpatient_visits_in_previous_year, dtype: int64"
      ]
     },
     "execution_count": 199,
     "metadata": {},
     "output_type": "execute_result"
    }
   ],
   "source": [
    "df['outpatient_visits_in_previous_year'].value_counts(dropna=False)"
   ]
  },
  {
   "cell_type": "code",
   "execution_count": 200,
   "metadata": {
    "hidden": true
   },
   "outputs": [
    {
     "data": {
      "text/plain": [
       "71233"
      ]
     },
     "execution_count": 200,
     "metadata": {},
     "output_type": "execute_result"
    }
   ],
   "source": [
    "len(df['outpatient_visits_in_previous_year'])"
   ]
  },
  {
   "cell_type": "code",
   "execution_count": 201,
   "metadata": {
    "hidden": true,
    "scrolled": true
   },
   "outputs": [
    {
     "data": {
      "image/png": "[encoded data removed]",
      "text/plain": [
       "<Figure size 432x288 with 1 Axes>"
      ]
     },
     "metadata": {
      "needs_background": "light"
     },
     "output_type": "display_data"
    }
   ],
   "source": [
    "sns.boxplot(x=df['outpatient_visits_in_previous_year'])\n",
    "plt.show()"
   ]
  },
  {
   "cell_type": "code",
   "execution_count": 202,
   "metadata": {
    "hidden": true
   },
   "outputs": [
    {
     "name": "stdout",
     "output_type": "stream",
     "text": [
      "1026\n"
     ]
    }
   ],
   "source": [
    "# Calculate the Z-score for each data point in the column. \n",
    "# Points with a high absolute Z-score (typically > 3 or < -3) are considered outliers.\n",
    "z_scores = zscore(df['outpatient_visits_in_previous_year'])\n",
    "outliers = (abs(z_scores) > 3)\n",
    "\n",
    "# Identify and print the outliers\n",
    "print(len(df['outpatient_visits_in_previous_year'][outliers]))\n",
    "# Drop? "
   ]
  },
  {
   "cell_type": "code",
   "execution_count": 203,
   "metadata": {
    "hidden": true,
    "scrolled": true
   },
   "outputs": [
    {
     "data": {
      "text/plain": [
       "dtype('int64')"
      ]
     },
     "execution_count": 203,
     "metadata": {},
     "output_type": "execute_result"
    }
   ],
   "source": [
    "df['outpatient_visits_in_previous_year'].dtype"
   ]
  },
  {
   "cell_type": "code",
   "execution_count": 204,
   "metadata": {
    "hidden": true
   },
   "outputs": [
    {
     "data": {
      "image/png": "[encoded data removed]",
      "text/plain": [
       "<Figure size 432x288 with 1 Axes>"
      ]
     },
     "metadata": {
      "needs_background": "light"
     },
     "output_type": "display_data"
    }
   ],
   "source": [
    "sns.histplot(x='outpatient_visits_in_previous_year',data=df)\n",
    "plt.show()"
   ]
  },
  {
   "cell_type": "markdown",
   "metadata": {
    "hidden": true
   },
   "source": [
    "* __emergency_visits_in_previous_year__ -> clean ✅\n",
    "\n",
    "Number of emergency visits the patient made to the hospital\n",
    "in the year preceding the encounter"
   ]
  },
  {
   "cell_type": "code",
   "execution_count": 205,
   "metadata": {
    "hidden": true,
    "scrolled": true
   },
   "outputs": [
    {
     "data": {
      "text/plain": [
       "63        1\n",
       "76        1\n",
       "24        1\n",
       "15        1\n",
       "28        1\n",
       "29        1\n",
       "37        1\n",
       "25        1\n",
       "42        1\n",
       "21        2\n",
       "19        2\n",
       "14        3\n",
       "18        3\n",
       "16        3\n",
       "20        3\n",
       "22        5\n",
       "12        9\n",
       "13       10\n",
       "9        18\n",
       "11       18\n",
       "8        23\n",
       "10       24\n",
       "7        47\n",
       "6        71\n",
       "5       126\n",
       "4       262\n",
       "3       502\n",
       "2      1432\n",
       "1      5422\n",
       "0     63239\n",
       "Name: emergency_visits_in_previous_year, dtype: int64"
      ]
     },
     "execution_count": 205,
     "metadata": {},
     "output_type": "execute_result"
    }
   ],
   "source": [
    "df['emergency_visits_in_previous_year'].value_counts(dropna=False).sort_values()"
   ]
  },
  {
   "cell_type": "code",
   "execution_count": 206,
   "metadata": {
    "hidden": true,
    "scrolled": true
   },
   "outputs": [
    {
     "data": {
      "image/png": "[encoded data removed]",
      "text/plain": [
       "<Figure size 432x288 with 1 Axes>"
      ]
     },
     "metadata": {
      "needs_background": "light"
     },
     "output_type": "display_data"
    }
   ],
   "source": [
    "sns.histplot(x='emergency_visits_in_previous_year',data=df)\n",
    "plt.show()"
   ]
  },
  {
   "cell_type": "code",
   "execution_count": 207,
   "metadata": {
    "hidden": true
   },
   "outputs": [
    {
     "data": {
      "image/png": "[encoded data removed]",
      "text/plain": [
       "<Figure size 432x288 with 1 Axes>"
      ]
     },
     "metadata": {
      "needs_background": "light"
     },
     "output_type": "display_data"
    }
   ],
   "source": [
    "sns.boxplot(x=df['emergency_visits_in_previous_year'])\n",
    "plt.show()"
   ]
  },
  {
   "cell_type": "code",
   "execution_count": 208,
   "metadata": {
    "hidden": true
   },
   "outputs": [
    {
     "name": "stdout",
     "output_type": "stream",
     "text": [
      "1140\n"
     ]
    }
   ],
   "source": [
    "# Calculate the Z-score for each data point in the column. \n",
    "# Points with a high absolute Z-score (typically > 3 or < -3) are considered outliers.\n",
    "z_scores = zscore(df['emergency_visits_in_previous_year'])\n",
    "outliers = (abs(z_scores) > 3)\n",
    "\n",
    "# Identify and print the outliers\n",
    "print(len(df['emergency_visits_in_previous_year'][outliers]))\n",
    "# Drop? "
   ]
  },
  {
   "cell_type": "markdown",
   "metadata": {
    "hidden": true
   },
   "source": [
    "* __inpatient_visits_in_previous_year__ -> clean ✅\n",
    "\n",
    "Number of inpatient visits (visits with the intention to stay\n",
    "overnight) the patient made to the hospital in the year\n",
    "preceding the encounter"
   ]
  },
  {
   "cell_type": "code",
   "execution_count": 209,
   "metadata": {
    "hidden": true
   },
   "outputs": [
    {
     "data": {
      "text/plain": [
       "0     47228\n",
       "1     13706\n",
       "2      5303\n",
       "3      2407\n",
       "4      1159\n",
       "5       553\n",
       "6       361\n",
       "7       195\n",
       "8       109\n",
       "9        81\n",
       "10       42\n",
       "11       33\n",
       "12       25\n",
       "13       15\n",
       "14        4\n",
       "15        4\n",
       "16        3\n",
       "19        2\n",
       "17        1\n",
       "18        1\n",
       "21        1\n",
       "Name: inpatient_visits_in_previous_year, dtype: int64"
      ]
     },
     "execution_count": 209,
     "metadata": {},
     "output_type": "execute_result"
    }
   ],
   "source": [
    "df['inpatient_visits_in_previous_year'].value_counts(dropna=False)"
   ]
  },
  {
   "cell_type": "code",
   "execution_count": 210,
   "metadata": {
    "hidden": true,
    "scrolled": true
   },
   "outputs": [
    {
     "data": {
      "image/png": "[encoded data removed]",
      "text/plain": [
       "<Figure size 432x288 with 1 Axes>"
      ]
     },
     "metadata": {
      "needs_background": "light"
     },
     "output_type": "display_data"
    }
   ],
   "source": [
    "sns.boxplot(x=df['inpatient_visits_in_previous_year'])\n",
    "plt.show()"
   ]
  },
  {
   "cell_type": "code",
   "execution_count": 211,
   "metadata": {
    "hidden": true,
    "scrolled": true
   },
   "outputs": [
    {
     "name": "stdout",
     "output_type": "stream",
     "text": [
      "1430\n"
     ]
    }
   ],
   "source": [
    "# Calculate the Z-score for each data point in the column. \n",
    "# Points with a high absolute Z-score (typically > 3 or < -3) are considered outliers.\n",
    "z_scores = zscore(df['inpatient_visits_in_previous_year'])\n",
    "outliers = (abs(z_scores) > 3)\n",
    "\n",
    "# Identify and print the outliers\n",
    "print(len(df['inpatient_visits_in_previous_year'][outliers]))\n",
    "# Drop? "
   ]
  },
  {
   "cell_type": "code",
   "execution_count": 212,
   "metadata": {
    "hidden": true
   },
   "outputs": [
    {
     "data": {
      "text/plain": [
       "dtype('int64')"
      ]
     },
     "execution_count": 212,
     "metadata": {},
     "output_type": "execute_result"
    }
   ],
   "source": [
    "df['inpatient_visits_in_previous_year'].dtype"
   ]
  },
  {
   "cell_type": "markdown",
   "metadata": {
    "hidden": true
   },
   "source": [
    "* __admission_type__ -> clean ❗ (required adjustment)\n",
    "\n",
    "Type of admission of the patient (e.g. Emergency, Urgent,\n",
    "etc...)"
   ]
  },
  {
   "cell_type": "code",
   "execution_count": 213,
   "metadata": {
    "hidden": true,
    "scrolled": false
   },
   "outputs": [
    {
     "data": {
      "text/plain": [
       "Emergency        37740\n",
       "Elective         13210\n",
       "Urgent           13024\n",
       "NaN               3706\n",
       "Not Available     3320\n",
       "Not Mapped         214\n",
       "Trauma Center       13\n",
       "Newborn              6\n",
       "Name: admission_type, dtype: int64"
      ]
     },
     "execution_count": 213,
     "metadata": {},
     "output_type": "execute_result"
    }
   ],
   "source": [
    "df['admission_type'].value_counts(dropna=False)\n",
    "# Missing values somewhat correlated with 'admission source' which makes sense given context"
   ]
  },
  {
   "cell_type": "code",
   "execution_count": 214,
   "metadata": {
    "hidden": true
   },
   "outputs": [
    {
     "data": {
      "text/plain": [
       "7026"
      ]
     },
     "execution_count": 214,
     "metadata": {},
     "output_type": "execute_result"
    }
   ],
   "source": [
    "len(df[df['admission_type']=='Not Available'])+df['admission_type'].isna().sum()\n",
    "# Both ways missing data is represented"
   ]
  },
  {
   "cell_type": "code",
   "execution_count": 215,
   "metadata": {
    "hidden": true
   },
   "outputs": [],
   "source": [
    "df['admission_type']=df['admission_type'].replace(np.nan,'Not Available')\n",
    "# Categorize missing values as 'Not available' -> maybe useful for analysis\n",
    "df['admission_type']=df['admission_type'].replace('Not Mapped','Not Available')"
   ]
  },
  {
   "cell_type": "code",
   "execution_count": 216,
   "metadata": {
    "hidden": true
   },
   "outputs": [
    {
     "data": {
      "image/png": "[encoded data removed]",
      "text/plain": [
       "<Figure size 432x288 with 1 Axes>"
      ]
     },
     "metadata": {
      "needs_background": "light"
     },
     "output_type": "display_data"
    }
   ],
   "source": [
    "sns.countplot(x='admission_type',data=df)\n",
    "plt.xticks(rotation=60)\n",
    "plt.show()"
   ]
  },
  {
   "cell_type": "code",
   "execution_count": 217,
   "metadata": {
    "hidden": true
   },
   "outputs": [
    {
     "data": {
      "text/plain": [
       "Emergency        37740\n",
       "Elective         13210\n",
       "Urgent           13024\n",
       "Not Available     7240\n",
       "Trauma Center       13\n",
       "Newborn              6\n",
       "Name: admission_type, dtype: int64"
      ]
     },
     "execution_count": 217,
     "metadata": {},
     "output_type": "execute_result"
    }
   ],
   "source": [
    "df['admission_type'].value_counts()"
   ]
  },
  {
   "cell_type": "markdown",
   "metadata": {
    "hidden": true
   },
   "source": [
    "* __medical_specialty__ -> clean ❗\n",
    "\n",
    "Medical specialty on which the patient was admitted"
   ]
  },
  {
   "cell_type": "code",
   "execution_count": 218,
   "metadata": {
    "hidden": true
   },
   "outputs": [
    {
     "data": {
      "text/plain": [
       "?                                34920\n",
       "InternalMedicine                 10292\n",
       "Emergency/Trauma                  5319\n",
       "Family/GeneralPractice            5217\n",
       "Cardiology                        3715\n",
       "                                 ...  \n",
       "Speech                               1\n",
       "Proctology                           1\n",
       "SportsMedicine                       1\n",
       "Neurophysiology                      1\n",
       "Pediatrics-InfectiousDiseases        1\n",
       "Name: medical_specialty, Length: 69, dtype: int64"
      ]
     },
     "execution_count": 218,
     "metadata": {},
     "output_type": "execute_result"
    }
   ],
   "source": [
    "df['medical_specialty'].value_counts(dropna=False)"
   ]
  },
  {
   "cell_type": "code",
   "execution_count": 219,
   "metadata": {
    "hidden": true
   },
   "outputs": [
    {
     "data": {
      "text/plain": [
       "NaN                              34920\n",
       "InternalMedicine                 10292\n",
       "Emergency/Trauma                  5319\n",
       "Family/GeneralPractice            5217\n",
       "Cardiology                        3715\n",
       "                                 ...  \n",
       "Pediatrics-InfectiousDiseases        1\n",
       "Speech                               1\n",
       "Pediatrics-EmergencyMedicine         1\n",
       "Proctology                           1\n",
       "Neurophysiology                      1\n",
       "Name: medical_specialty, Length: 69, dtype: int64"
      ]
     },
     "execution_count": 219,
     "metadata": {},
     "output_type": "execute_result"
    }
   ],
   "source": [
    "df['medical_specialty']=df['medical_specialty'].replace('?',np.nan)\n",
    "# Replace '?' with np.nan\n",
    "\n",
    "df['medical_specialty'].value_counts(dropna=False)"
   ]
  },
  {
   "cell_type": "code",
   "execution_count": 220,
   "metadata": {
    "hidden": true
   },
   "outputs": [
    {
     "data": {
      "text/plain": [
       "{'AllergyandImmunology',\n",
       " 'Anesthesiology',\n",
       " 'Anesthesiology-Pediatric',\n",
       " 'Cardiology',\n",
       " 'Cardiology-Pediatric',\n",
       " 'DCPTEAM',\n",
       " 'Dentistry',\n",
       " 'Emergency/Trauma',\n",
       " 'Endocrinology',\n",
       " 'Endocrinology-Metabolism',\n",
       " 'Family/GeneralPractice',\n",
       " 'Gastroenterology',\n",
       " 'Gynecology',\n",
       " 'Hematology',\n",
       " 'Hematology/Oncology',\n",
       " 'Hospitalist',\n",
       " 'InfectiousDiseases',\n",
       " 'InternalMedicine',\n",
       " 'Nephrology',\n",
       " 'Neurology',\n",
       " 'Neurophysiology',\n",
       " 'Obsterics&Gynecology-GynecologicOnco',\n",
       " 'Obstetrics',\n",
       " 'ObstetricsandGynecology',\n",
       " 'Oncology',\n",
       " 'Ophthalmology',\n",
       " 'Orthopedics',\n",
       " 'Orthopedics-Reconstructive',\n",
       " 'Osteopath',\n",
       " 'Otolaryngology',\n",
       " 'OutreachServices',\n",
       " 'Pathology',\n",
       " 'Pediatrics',\n",
       " 'Pediatrics-AllergyandImmunology',\n",
       " 'Pediatrics-CriticalCare',\n",
       " 'Pediatrics-EmergencyMedicine',\n",
       " 'Pediatrics-Endocrinology',\n",
       " 'Pediatrics-Hematology-Oncology',\n",
       " 'Pediatrics-InfectiousDiseases',\n",
       " 'Pediatrics-Neurology',\n",
       " 'Pediatrics-Pulmonology',\n",
       " 'PhysicalMedicineandRehabilitation',\n",
       " 'PhysicianNotFound',\n",
       " 'Podiatry',\n",
       " 'Proctology',\n",
       " 'Psychiatry',\n",
       " 'Psychiatry-Child/Adolescent',\n",
       " 'Psychology',\n",
       " 'Pulmonology',\n",
       " 'Radiologist',\n",
       " 'Radiology',\n",
       " 'Resident',\n",
       " 'Rheumatology',\n",
       " 'Speech',\n",
       " 'SportsMedicine',\n",
       " 'Surgeon',\n",
       " 'Surgery-Cardiovascular',\n",
       " 'Surgery-Cardiovascular/Thoracic',\n",
       " 'Surgery-Colon&Rectal',\n",
       " 'Surgery-General',\n",
       " 'Surgery-Maxillofacial',\n",
       " 'Surgery-Neuro',\n",
       " 'Surgery-Pediatric',\n",
       " 'Surgery-Plastic',\n",
       " 'Surgery-Thoracic',\n",
       " 'Surgery-Vascular',\n",
       " 'SurgicalSpecialty',\n",
       " 'Urology',\n",
       " nan}"
      ]
     },
     "execution_count": 220,
     "metadata": {},
     "output_type": "execute_result"
    }
   ],
   "source": [
    "set(df['medical_specialty'])"
   ]
  },
  {
   "cell_type": "markdown",
   "metadata": {
    "hidden": true
   },
   "source": [
    "- **Either drop or consider grouping**\n",
    "\n",
    "\n",
    "- Medical Specialties (Group):\n",
    "\n",
    "Allergy and Immunology\n",
    "Anesthesiology\n",
    "Anesthesiology-Pediatric\n",
    "Cardiology\n",
    "Cardiology-Pediatric\n",
    "Endocrinology\n",
    "Endocrinology-Metabolism\n",
    "Gastroenterology\n",
    "Hematology\n",
    "Hematology/Oncology\n",
    "InfectiousDiseases\n",
    "Nephrology\n",
    "Neurology\n",
    "Neurophysiology\n",
    "Oncology\n",
    "Ophthalmology\n",
    "Orthopedics\n",
    "Orthopedics-Reconstructive\n",
    "Otolaryngology\n",
    "Pediatrics\n",
    "Pediatrics-AllergyandImmunology\n",
    "Pediatrics-CriticalCare\n",
    "Pediatrics-EmergencyMedicine\n",
    "Pediatrics-Endocrinology\n",
    "Pediatrics-Hematology-Oncology\n",
    "Pediatrics-InfectiousDiseases\n",
    "Pediatrics-Neurology\n",
    "Pediatrics-Pulmonology\n",
    "PhysicalMedicineandRehabilitation\n",
    "Psychiatry\n",
    "Psychiatry-Child/Adolescent\n",
    "Pulmonology\n",
    "Rheumatology\n",
    "SportsMedicine\n",
    "Surgery-Cardiovascular\n",
    "Surgery-Cardiovascular/Thoracic\n",
    "Surgery-Colon&Rectal\n",
    "Surgery-General\n",
    "Surgery-Neuro\n",
    "Surgery-Pediatric\n",
    "Surgery-Plastic\n",
    "Surgery-Thoracic\n",
    "Surgery-Vascular\n",
    "Urology\n",
    "\n",
    "\n",
    "- Other Specialties (Group):\n",
    "\n",
    "DCPTEAM\n",
    "Dentistry\n",
    "Family/GeneralPractice\n",
    "Hospitalist\n",
    "Obstetrics\n",
    "ObstetricsandGynecology\n",
    "Obsterics&Gynecology-GynecologicOnco\n",
    "Osteopath\n",
    "Podiatry\n",
    "Proctology\n",
    "Radiologist\n",
    "Radiology\n",
    "Resident\n",
    "SurgicalSpecialty\n",
    "Speech\n",
    "Psychology\n",
    "OutreachServices\n",
    "\n",
    "\n",
    "- Uncategorized:\n",
    "\n",
    "?\n",
    "PhysicianNotFound\n",
    "\n",
    "- For now drop!"
   ]
  },
  {
   "cell_type": "code",
   "execution_count": 221,
   "metadata": {
    "hidden": true
   },
   "outputs": [],
   "source": [
    "df = df.drop(columns=['medical_specialty'])"
   ]
  },
  {
   "cell_type": "markdown",
   "metadata": {
    "hidden": true
   },
   "source": [
    "* __average_pulse_bpm__ -> clean ✅\n",
    "\n",
    "Average pulse of the patient during their stay in the hospital\n",
    "in beats per minute\n"
   ]
  },
  {
   "cell_type": "code",
   "execution_count": 222,
   "metadata": {
    "hidden": true
   },
   "outputs": [
    {
     "data": {
      "text/plain": [
       "63     951\n",
       "89     950\n",
       "109    948\n",
       "99     946\n",
       "134    943\n",
       "      ... \n",
       "84     844\n",
       "80     835\n",
       "71     832\n",
       "97     817\n",
       "127    808\n",
       "Name: average_pulse_bpm, Length: 80, dtype: int64"
      ]
     },
     "execution_count": 222,
     "metadata": {},
     "output_type": "execute_result"
    }
   ],
   "source": [
    "df['average_pulse_bpm'].value_counts(dropna=False)"
   ]
  },
  {
   "cell_type": "code",
   "execution_count": 223,
   "metadata": {
    "hidden": true
   },
   "outputs": [
    {
     "data": {
      "text/plain": [
       "0"
      ]
     },
     "execution_count": 223,
     "metadata": {},
     "output_type": "execute_result"
    }
   ],
   "source": [
    "df['average_pulse_bpm'].isna().sum()"
   ]
  },
  {
   "cell_type": "code",
   "execution_count": 224,
   "metadata": {
    "hidden": true
   },
   "outputs": [
    {
     "data": {
      "image/png": "[encoded data removed]",
      "text/plain": [
       "<Figure size 432x288 with 1 Axes>"
      ]
     },
     "metadata": {
      "needs_background": "light"
     },
     "output_type": "display_data"
    }
   ],
   "source": [
    "sns.histplot(x='average_pulse_bpm',data=df)\n",
    "plt.show()"
   ]
  },
  {
   "cell_type": "markdown",
   "metadata": {
    "hidden": true
   },
   "source": [
    "* __discharge_disposition__ -> clean ❗\n",
    "\n",
    "Destination given to the patient after being discharged"
   ]
  },
  {
   "cell_type": "code",
   "execution_count": 225,
   "metadata": {
    "hidden": true
   },
   "outputs": [
    {
     "data": {
      "text/plain": [
       "Discharged to home                                                                                           42254\n",
       "Discharged/transferred to SNF                                                                                 9780\n",
       "Discharged/transferred to home with home health service                                                       9005\n",
       "NaN                                                                                                           2590\n",
       "Discharged/transferred to another short term hospital                                                         1488\n",
       "Discharged/transferred to another rehab fac including rehab units of a hospital .                             1392\n",
       "Expired                                                                                                       1135\n",
       "Discharged/transferred to another type of inpatient care institution                                           822\n",
       "Not Mapped                                                                                                     679\n",
       "Discharged/transferred to ICF                                                                                  571\n",
       "Left AMA                                                                                                       421\n",
       "Discharged/transferred to a long term care hospital.                                                           280\n",
       "Hospice / medical facility                                                                                     261\n",
       "Hospice / home                                                                                                 258\n",
       "Discharged/transferred/referred to a psychiatric hospital of psychiatric distinct part unit of a hospital       98\n",
       "Discharged/transferred to home under care of Home IV provider                                                   81\n",
       "Discharged/transferred within this institution to Medicare approved swing bed                                   44\n",
       "Discharged/transferred to a nursing facility certified under Medicaid but not certified under Medicare.         32\n",
       "Admitted as an inpatient to this hospital                                                                       13\n",
       "Discharged/transferred/referred to this institution for outpatient services                                      8\n",
       "Discharged/transferred/referred another institution for outpatient services                                      7\n",
       "Expired at home. Medicaid only, hospice.                                                                         6\n",
       "Discharged/transferred to a federal health care facility.                                                        3\n",
       "Still patient or expected to return for outpatient services                                                      2\n",
       "Neonate discharged to another hospital for neonatal aftercare                                                    2\n",
       "Expired in a medical facility. Medicaid only, hospice.                                                           1\n",
       "Name: discharge_disposition, dtype: int64"
      ]
     },
     "execution_count": 225,
     "metadata": {},
     "output_type": "execute_result"
    }
   ],
   "source": [
    "df['discharge_disposition'].value_counts(dropna=False)"
   ]
  },
  {
   "cell_type": "code",
   "execution_count": 226,
   "metadata": {
    "hidden": true
   },
   "outputs": [],
   "source": [
    "df['discharge_disposition'] =df['discharge_disposition'].replace(np.nan,'Not Mapped')\n",
    "# Assign missing values as 'Not Mapped'"
   ]
  },
  {
   "cell_type": "markdown",
   "metadata": {
    "hidden": true
   },
   "source": [
    "- **Possible grouping**\n",
    "- Home Discharge:\n",
    "\n",
    "Discharged to home\n",
    "Discharged/transferred to home under care of Home IV provider\n",
    "Discharged/transferred to home with home health service\n",
    "Admitted as an inpatient to this hospital (This could indicate a return to the home after being admitted)\n",
    "\n",
    "\n",
    "- Facility Transfers:\n",
    "\n",
    "Discharged/transferred to ICF\n",
    "Discharged/transferred to SNF\n",
    "Discharged/transferred to a federal health care facility.\n",
    "Discharged/transferred to a long-term care hospital.\n",
    "Discharged/transferred to a nursing facility certified under Medicaid but not certified under Medicare.\n",
    "Discharged/transferred to another rehab fac including rehab units of a hospital.\n",
    "Discharged/transferred to another short-term hospital\n",
    "Discharged/transferred to another type of inpatient care institution\n",
    "Discharged/transferred within this institution to Medicare approved swing bed\n",
    "Neonate discharged to another hospital for neonatal aftercare\n",
    "\n",
    "\n",
    "- Outpatient Services:\n",
    "\n",
    "Discharged/transferred/referred another institution for outpatient services\n",
    "Discharged/transferred/referred to this institution for outpatient services\n",
    "\n",
    "\n",
    "- Hospice Care:\n",
    "\n",
    "Hospice / home\n",
    "Hospice / medical facility\n",
    "Expired at home. Medicaid only, hospice.\n",
    "Expired in a medical facility. Medicaid only, hospice.\n",
    "\n",
    "\n",
    "- Other:\n",
    "\n",
    "Discharged/transferred/referred to a psychiatric hospital or psychiatric distinct part unit of a hospital\n",
    "Expired\n",
    "Left AMA (Against Medical Advice)\n",
    "Still patient or expected to return for outpatient services\n",
    "\n",
    "\n",
    "- Uncategorized:\n",
    "\n",
    "Not Mapped"
   ]
  },
  {
   "cell_type": "code",
   "execution_count": 227,
   "metadata": {
    "hidden": true
   },
   "outputs": [],
   "source": [
    "def map_discharge_group(disposition):\n",
    "    if pd.isna(disposition):\n",
    "        return 'Uncategorized'\n",
    "    elif 'home' in disposition.lower():\n",
    "        return 'Home Discharge'\n",
    "    elif 'discharged/transferred to' in disposition.lower():\n",
    "        return 'Facility Transfers'\n",
    "    elif 'outpatient' in disposition.lower():\n",
    "        return 'Outpatient Services'\n",
    "    elif 'hospice' in disposition.lower() or 'expired' in disposition.lower():\n",
    "        return 'Hospice Care'\n",
    "    elif 'psychiatric' in disposition.lower() or 'left ama' in disposition.lower():\n",
    "        return 'Other'\n",
    "    else:\n",
    "        return 'Uncategorized'\n",
    "\n",
    "# Create a new column for grouped discharge dispositions\n",
    "df['discharge_disposition'] = df['discharge_disposition'].apply(map_discharge_group)"
   ]
  },
  {
   "cell_type": "code",
   "execution_count": 228,
   "metadata": {
    "hidden": true
   },
   "outputs": [
    {
     "data": {
      "text/plain": [
       "Home Discharge         51604\n",
       "Facility Transfers     14368\n",
       "Uncategorized           3328\n",
       "Hospice Care            1397\n",
       "Other                    519\n",
       "Outpatient Services       17\n",
       "Name: discharge_disposition, dtype: int64"
      ]
     },
     "execution_count": 228,
     "metadata": {},
     "output_type": "execute_result"
    }
   ],
   "source": [
    "df['discharge_disposition'].value_counts(dropna=False)"
   ]
  },
  {
   "cell_type": "markdown",
   "metadata": {
    "hidden": true
   },
   "source": [
    "* __admission_source__ -> clean ❗\n",
    "\n",
    "Source of the patient before being admitted in the current\n",
    "encounter"
   ]
  },
  {
   "cell_type": "code",
   "execution_count": 229,
   "metadata": {
    "hidden": true
   },
   "outputs": [
    {
     "data": {
      "text/plain": [
       " Emergency Room                                               40317\n",
       " Physician Referral                                           20677\n",
       "NaN                                                            4718\n",
       "Transfer from a hospital                                       2230\n",
       " Transfer from another health care facility                    1562\n",
       "Clinic Referral                                                 779\n",
       " Transfer from a Skilled Nursing Facility (SNF)                 595\n",
       "HMO Referral                                                    129\n",
       " Not Mapped                                                     107\n",
       " Not Available                                                   88\n",
       " Court/Law Enforcement                                           11\n",
       " Transfer from hospital inpt/same fac reslt in a sep claim        8\n",
       " Transfer from critial access hospital                            7\n",
       " Transfer from Ambulatory Surgery Center                          2\n",
       " Extramural Birth                                                 1\n",
       " Sick Baby                                                        1\n",
       "Normal Delivery                                                   1\n",
       "Name: admission_source, dtype: int64"
      ]
     },
     "execution_count": 229,
     "metadata": {},
     "output_type": "execute_result"
    }
   ],
   "source": [
    "df['admission_source'].value_counts(dropna=False)\n",
    "# Missing value somewhat positively corr with 'admission_type' "
   ]
  },
  {
   "cell_type": "code",
   "execution_count": 230,
   "metadata": {
    "hidden": true,
    "scrolled": true
   },
   "outputs": [
    {
     "data": {
      "text/plain": [
       "{' Court/Law Enforcement',\n",
       " ' Emergency Room',\n",
       " ' Extramural Birth',\n",
       " ' Not Available',\n",
       " ' Not Mapped',\n",
       " ' Physician Referral',\n",
       " ' Sick Baby',\n",
       " ' Transfer from Ambulatory Surgery Center',\n",
       " ' Transfer from a Skilled Nursing Facility (SNF)',\n",
       " ' Transfer from another health care facility',\n",
       " ' Transfer from critial access hospital',\n",
       " ' Transfer from hospital inpt/same fac reslt in a sep claim',\n",
       " 'Clinic Referral',\n",
       " 'HMO Referral',\n",
       " 'Normal Delivery',\n",
       " 'Transfer from a hospital',\n",
       " nan}"
      ]
     },
     "execution_count": 230,
     "metadata": {},
     "output_type": "execute_result"
    }
   ],
   "source": [
    "set(df['admission_source'])"
   ]
  },
  {
   "cell_type": "markdown",
   "metadata": {
    "hidden": true
   },
   "source": [
    "- **Possible Grouping**\n",
    "- Emergency Services:\n",
    "\n",
    "Emergency Room\n",
    "Transfer from critial access hospital\n",
    "\n",
    "\n",
    "- Referral Sources:\n",
    "\n",
    "Clinic Referral\n",
    "HMO Referral\n",
    "Physician Referral\n",
    "\n",
    "\n",
    "- Transfers:\n",
    "\n",
    "Transfer from Ambulatory Surgery Center\n",
    "Transfer from a Skilled Nursing Facility (SNF)\n",
    "Transfer from another health care facility\n",
    "Transfer from hospital inpt/same fac reslt in a sep claim\n",
    "Transfer from a hospital\n",
    "\n",
    "\n",
    "- Other:\n",
    "\n",
    "Court/Law Enforcement\n",
    "Extramural Birth\n",
    "Sick Baby\n",
    "Normal Delivery\n",
    "\n",
    "\n",
    "- Uncategorized:\n",
    "\n",
    "Not Available\n",
    "Not Mapped\n",
    "nan"
   ]
  },
  {
   "cell_type": "code",
   "execution_count": 231,
   "metadata": {
    "hidden": true
   },
   "outputs": [],
   "source": [
    "df['admission_source'] = df['admission_source'].replace(['Not Mapped','Not Available'],np.nan)\n",
    "\n",
    "def map_admission_group(source):\n",
    "    if pd.isna(source):\n",
    "        return 'Uncategorized'\n",
    "    elif 'emergency' in source.lower():\n",
    "        return 'Emergency Services'\n",
    "    elif 'referral' in source.lower():\n",
    "        return 'Referral Sources'\n",
    "    elif 'transfer' in source.lower():\n",
    "        return 'Transfers'\n",
    "    else:\n",
    "        return 'Other'\n",
    "\n",
    "# Create a new column for grouped admission sources\n",
    "df['admission_source'] = df['admission_source'].apply(map_admission_group)"
   ]
  },
  {
   "cell_type": "code",
   "execution_count": 232,
   "metadata": {
    "hidden": true
   },
   "outputs": [
    {
     "data": {
      "text/plain": [
       "Emergency Services    40317\n",
       "Referral Sources      21585\n",
       "Uncategorized          4718\n",
       "Transfers              4404\n",
       "Other                   209\n",
       "Name: admission_source, dtype: int64"
      ]
     },
     "execution_count": 232,
     "metadata": {},
     "output_type": "execute_result"
    }
   ],
   "source": [
    "# Same procedure as for 'admission_type'\n",
    "df['admission_source'].value_counts(dropna=False)"
   ]
  },
  {
   "cell_type": "markdown",
   "metadata": {
    "hidden": true
   },
   "source": [
    "* __length_of_stay_in_hospital__ -> clean ✅\n",
    "\n",
    "Number of days between admission and discharge\n"
   ]
  },
  {
   "cell_type": "code",
   "execution_count": 233,
   "metadata": {
    "hidden": true
   },
   "outputs": [
    {
     "data": {
      "text/plain": [
       "3     12434\n",
       "2     12119\n",
       "1     10008\n",
       "4      9656\n",
       "5      6967\n",
       "6      5237\n",
       "7      4154\n",
       "8      3002\n",
       "9      2105\n",
       "10     1637\n",
       "11     1322\n",
       "12     1010\n",
       "13      859\n",
       "14      723\n",
       "Name: length_of_stay_in_hospital, dtype: int64"
      ]
     },
     "execution_count": 233,
     "metadata": {},
     "output_type": "execute_result"
    }
   ],
   "source": [
    "df['length_of_stay_in_hospital'].value_counts(dropna=False)"
   ]
  },
  {
   "cell_type": "code",
   "execution_count": 234,
   "metadata": {
    "hidden": true
   },
   "outputs": [
    {
     "data": {
      "image/png": "[encoded data removed]",
      "text/plain": [
       "<Figure size 432x288 with 1 Axes>"
      ]
     },
     "metadata": {
      "needs_background": "light"
     },
     "output_type": "display_data"
    }
   ],
   "source": [
    "sns.countplot(x='length_of_stay_in_hospital',data=df)\n",
    "plt.show()"
   ]
  },
  {
   "cell_type": "code",
   "execution_count": 235,
   "metadata": {
    "hidden": true
   },
   "outputs": [
    {
     "data": {
      "image/png": "[encoded data removed]",
      "text/plain": [
       "<Figure size 432x288 with 1 Axes>"
      ]
     },
     "metadata": {
      "needs_background": "light"
     },
     "output_type": "display_data"
    }
   ],
   "source": [
    "sns.boxplot(x='length_of_stay_in_hospital',data=df)\n",
    "plt.show()"
   ]
  },
  {
   "cell_type": "markdown",
   "metadata": {
    "hidden": true
   },
   "source": [
    "* __number_lab_tests__ -> clean ✅\n",
    "\n",
    "Number of lab tests performed during the encounter"
   ]
  },
  {
   "cell_type": "code",
   "execution_count": 236,
   "metadata": {
    "hidden": true
   },
   "outputs": [
    {
     "data": {
      "text/plain": [
       "1      2183\n",
       "43     1965\n",
       "44     1787\n",
       "45     1672\n",
       "40     1553\n",
       "       ... \n",
       "104       2\n",
       "118       1\n",
       "107       1\n",
       "114       1\n",
       "121       1\n",
       "Name: number_lab_tests, Length: 114, dtype: int64"
      ]
     },
     "execution_count": 236,
     "metadata": {},
     "output_type": "execute_result"
    }
   ],
   "source": [
    "df['number_lab_tests'].value_counts(dropna=False)"
   ]
  },
  {
   "cell_type": "code",
   "execution_count": 237,
   "metadata": {
    "hidden": true
   },
   "outputs": [
    {
     "data": {
      "text/plain": [
       "0"
      ]
     },
     "execution_count": 237,
     "metadata": {},
     "output_type": "execute_result"
    }
   ],
   "source": [
    "df['number_lab_tests'].isna().sum()"
   ]
  },
  {
   "cell_type": "code",
   "execution_count": 238,
   "metadata": {
    "hidden": true
   },
   "outputs": [
    {
     "data": {
      "image/png": "[encoded data removed]",
      "text/plain": [
       "<Figure size 432x288 with 1 Axes>"
      ]
     },
     "metadata": {
      "needs_background": "light"
     },
     "output_type": "display_data"
    }
   ],
   "source": [
    "sns.histplot(x='number_lab_tests',data=df)\n",
    "plt.show()"
   ]
  },
  {
   "cell_type": "code",
   "execution_count": 239,
   "metadata": {
    "hidden": true
   },
   "outputs": [
    {
     "data": {
      "image/png": "[encoded data removed]",
      "text/plain": [
       "<Figure size 432x288 with 1 Axes>"
      ]
     },
     "metadata": {
      "needs_background": "light"
     },
     "output_type": "display_data"
    }
   ],
   "source": [
    "sns.boxplot(x='number_lab_tests',data=df)\n",
    "plt.show()"
   ]
  },
  {
   "cell_type": "markdown",
   "metadata": {
    "hidden": true
   },
   "source": [
    "* __non_lab_procedures__ -> clean ✅\n",
    "\n",
    "Number of non-lab procedures performed during the\n",
    "encounter"
   ]
  },
  {
   "cell_type": "code",
   "execution_count": 240,
   "metadata": {
    "hidden": true
   },
   "outputs": [
    {
     "data": {
      "text/plain": [
       "0    32632\n",
       "1    14532\n",
       "2     8895\n",
       "3     6614\n",
       "6     3478\n",
       "4     2928\n",
       "5     2154\n",
       "Name: non_lab_procedures, dtype: int64"
      ]
     },
     "execution_count": 240,
     "metadata": {},
     "output_type": "execute_result"
    }
   ],
   "source": [
    "df['non_lab_procedures'].value_counts(dropna=False)"
   ]
  },
  {
   "cell_type": "code",
   "execution_count": 241,
   "metadata": {
    "hidden": true
   },
   "outputs": [
    {
     "data": {
      "image/png": "[encoded data removed]",
      "text/plain": [
       "<Figure size 432x288 with 1 Axes>"
      ]
     },
     "metadata": {
      "needs_background": "light"
     },
     "output_type": "display_data"
    }
   ],
   "source": [
    "sns.countplot(x='non_lab_procedures',data=df)\n",
    "plt.show()"
   ]
  },
  {
   "cell_type": "code",
   "execution_count": 242,
   "metadata": {
    "hidden": true
   },
   "outputs": [
    {
     "data": {
      "image/png": "[encoded data removed]",
      "text/plain": [
       "<Figure size 432x288 with 1 Axes>"
      ]
     },
     "metadata": {
      "needs_background": "light"
     },
     "output_type": "display_data"
    }
   ],
   "source": [
    "sns.boxplot(x='non_lab_procedures',data=df)\n",
    "plt.show()"
   ]
  },
  {
   "cell_type": "markdown",
   "metadata": {
    "hidden": true
   },
   "source": [
    "* __number_of_medications__ -> clean ✅\n",
    "\n",
    "Number of distinct types of medication administered during\n",
    "the encounter"
   ]
  },
  {
   "cell_type": "code",
   "execution_count": 243,
   "metadata": {
    "hidden": true
   },
   "outputs": [
    {
     "data": {
      "text/plain": [
       "13    4315\n",
       "12    4171\n",
       "15    4065\n",
       "11    4051\n",
       "14    4029\n",
       "      ... \n",
       "69       4\n",
       "68       3\n",
       "70       2\n",
       "75       2\n",
       "74       1\n",
       "Name: number_of_medications, Length: 72, dtype: int64"
      ]
     },
     "execution_count": 243,
     "metadata": {},
     "output_type": "execute_result"
    }
   ],
   "source": [
    "df['number_of_medications'].value_counts(dropna=False)"
   ]
  },
  {
   "cell_type": "code",
   "execution_count": 244,
   "metadata": {
    "hidden": true
   },
   "outputs": [
    {
     "data": {
      "text/plain": [
       "0"
      ]
     },
     "execution_count": 244,
     "metadata": {},
     "output_type": "execute_result"
    }
   ],
   "source": [
    "df['number_of_medications'].isna().sum()"
   ]
  },
  {
   "cell_type": "code",
   "execution_count": 245,
   "metadata": {
    "hidden": true
   },
   "outputs": [
    {
     "data": {
      "image/png": "[encoded data removed]",
      "text/plain": [
       "<Figure size 432x288 with 1 Axes>"
      ]
     },
     "metadata": {
      "needs_background": "light"
     },
     "output_type": "display_data"
    }
   ],
   "source": [
    "sns.histplot(x='number_of_medications',data=df)\n",
    "plt.show()"
   ]
  },
  {
   "cell_type": "code",
   "execution_count": 246,
   "metadata": {
    "hidden": true
   },
   "outputs": [
    {
     "data": {
      "image/png": "[encoded data removed]",
      "text/plain": [
       "<Figure size 432x288 with 1 Axes>"
      ]
     },
     "metadata": {
      "needs_background": "light"
     },
     "output_type": "display_data"
    }
   ],
   "source": [
    "sns.boxplot(x='number_of_medications',data=df)\n",
    "plt.show()"
   ]
  },
  {
   "cell_type": "markdown",
   "metadata": {
    "hidden": true
   },
   "source": [
    "* __primary_diagnosis__ -> clean ❗\n",
    "\n",
    "Primary diagnosis (coded as first three digits of ICD9)"
   ]
  },
  {
   "cell_type": "code",
   "execution_count": 247,
   "metadata": {
    "hidden": true,
    "scrolled": false
   },
   "outputs": [
    {
     "data": {
      "text/plain": [
       "523          1\n",
       "131          1\n",
       "374          1\n",
       "906          1\n",
       "250.51       1\n",
       "          ... \n",
       "486       2488\n",
       "410       2513\n",
       "786       2846\n",
       "414       4595\n",
       "428       4776\n",
       "Name: primary_diagnosis, Length: 687, dtype: int64"
      ]
     },
     "execution_count": 247,
     "metadata": {},
     "output_type": "execute_result"
    }
   ],
   "source": [
    "df['primary_diagnosis'].value_counts(dropna=False).sort_values()"
   ]
  },
  {
   "cell_type": "code",
   "execution_count": 248,
   "metadata": {
    "hidden": true,
    "scrolled": true
   },
   "outputs": [
    {
     "data": {
      "text/plain": [
       "{'10',\n",
       " '11',\n",
       " '110',\n",
       " '112',\n",
       " '114',\n",
       " '115',\n",
       " '117',\n",
       " '131',\n",
       " '133',\n",
       " '135',\n",
       " '136',\n",
       " '141',\n",
       " '142',\n",
       " '143',\n",
       " '146',\n",
       " '147',\n",
       " '149',\n",
       " '150',\n",
       " '151',\n",
       " '152',\n",
       " '153',\n",
       " '154',\n",
       " '155',\n",
       " '156',\n",
       " '157',\n",
       " '158',\n",
       " '160',\n",
       " '161',\n",
       " '162',\n",
       " '163',\n",
       " '164',\n",
       " '170',\n",
       " '171',\n",
       " '172',\n",
       " '173',\n",
       " '174',\n",
       " '175',\n",
       " '179',\n",
       " '180',\n",
       " '182',\n",
       " '183',\n",
       " '184',\n",
       " '185',\n",
       " '188',\n",
       " '189',\n",
       " '191',\n",
       " '192',\n",
       " '193',\n",
       " '194',\n",
       " '195',\n",
       " '196',\n",
       " '197',\n",
       " '198',\n",
       " '199',\n",
       " '200',\n",
       " '201',\n",
       " '202',\n",
       " '203',\n",
       " '204',\n",
       " '205',\n",
       " '207',\n",
       " '208',\n",
       " '210',\n",
       " '211',\n",
       " '212',\n",
       " '214',\n",
       " '215',\n",
       " '216',\n",
       " '217',\n",
       " '218',\n",
       " '219',\n",
       " '220',\n",
       " '223',\n",
       " '225',\n",
       " '226',\n",
       " '227',\n",
       " '228',\n",
       " '229',\n",
       " '23',\n",
       " '230',\n",
       " '233',\n",
       " '235',\n",
       " '236',\n",
       " '237',\n",
       " '238',\n",
       " '239',\n",
       " '240',\n",
       " '241',\n",
       " '242',\n",
       " '244',\n",
       " '245',\n",
       " '246',\n",
       " '250',\n",
       " '250.01',\n",
       " '250.02',\n",
       " '250.03',\n",
       " '250.1',\n",
       " '250.11',\n",
       " '250.12',\n",
       " '250.13',\n",
       " '250.2',\n",
       " '250.21',\n",
       " '250.22',\n",
       " '250.23',\n",
       " '250.3',\n",
       " '250.31',\n",
       " '250.32',\n",
       " '250.33',\n",
       " '250.4',\n",
       " '250.41',\n",
       " '250.42',\n",
       " '250.43',\n",
       " '250.5',\n",
       " '250.51',\n",
       " '250.52',\n",
       " '250.53',\n",
       " '250.6',\n",
       " '250.7',\n",
       " '250.8',\n",
       " '250.81',\n",
       " '250.82',\n",
       " '250.83',\n",
       " '250.9',\n",
       " '250.91',\n",
       " '250.92',\n",
       " '250.93',\n",
       " '251',\n",
       " '252',\n",
       " '253',\n",
       " '255',\n",
       " '261',\n",
       " '262',\n",
       " '263',\n",
       " '266',\n",
       " '27',\n",
       " '271',\n",
       " '272',\n",
       " '273',\n",
       " '274',\n",
       " '275',\n",
       " '276',\n",
       " '277',\n",
       " '278',\n",
       " '279',\n",
       " '280',\n",
       " '281',\n",
       " '282',\n",
       " '283',\n",
       " '284',\n",
       " '285',\n",
       " '286',\n",
       " '287',\n",
       " '288',\n",
       " '289',\n",
       " '290',\n",
       " '291',\n",
       " '292',\n",
       " '293',\n",
       " '294',\n",
       " '295',\n",
       " '296',\n",
       " '297',\n",
       " '298',\n",
       " '299',\n",
       " '3',\n",
       " '300',\n",
       " '301',\n",
       " '303',\n",
       " '304',\n",
       " '305',\n",
       " '306',\n",
       " '307',\n",
       " '308',\n",
       " '309',\n",
       " '31',\n",
       " '310',\n",
       " '311',\n",
       " '312',\n",
       " '314',\n",
       " '320',\n",
       " '323',\n",
       " '324',\n",
       " '325',\n",
       " '327',\n",
       " '331',\n",
       " '332',\n",
       " '333',\n",
       " '334',\n",
       " '335',\n",
       " '336',\n",
       " '337',\n",
       " '338',\n",
       " '34',\n",
       " '340',\n",
       " '341',\n",
       " '342',\n",
       " '344',\n",
       " '345',\n",
       " '346',\n",
       " '347',\n",
       " '348',\n",
       " '349',\n",
       " '35',\n",
       " '350',\n",
       " '351',\n",
       " '352',\n",
       " '353',\n",
       " '354',\n",
       " '355',\n",
       " '356',\n",
       " '357',\n",
       " '358',\n",
       " '359',\n",
       " '36',\n",
       " '360',\n",
       " '361',\n",
       " '362',\n",
       " '366',\n",
       " '368',\n",
       " '369',\n",
       " '370',\n",
       " '372',\n",
       " '373',\n",
       " '374',\n",
       " '375',\n",
       " '376',\n",
       " '377',\n",
       " '378',\n",
       " '379',\n",
       " '38',\n",
       " '380',\n",
       " '381',\n",
       " '382',\n",
       " '383',\n",
       " '385',\n",
       " '386',\n",
       " '388',\n",
       " '389',\n",
       " '39',\n",
       " '394',\n",
       " '395',\n",
       " '396',\n",
       " '397',\n",
       " '398',\n",
       " '401',\n",
       " '402',\n",
       " '403',\n",
       " '404',\n",
       " '405',\n",
       " '41',\n",
       " '410',\n",
       " '411',\n",
       " '412',\n",
       " '413',\n",
       " '414',\n",
       " '415',\n",
       " '416',\n",
       " '417',\n",
       " '42',\n",
       " '420',\n",
       " '421',\n",
       " '422',\n",
       " '423',\n",
       " '424',\n",
       " '425',\n",
       " '426',\n",
       " '427',\n",
       " '428',\n",
       " '429',\n",
       " '430',\n",
       " '431',\n",
       " '432',\n",
       " '433',\n",
       " '434',\n",
       " '435',\n",
       " '436',\n",
       " '437',\n",
       " '438',\n",
       " '440',\n",
       " '441',\n",
       " '442',\n",
       " '443',\n",
       " '444',\n",
       " '445',\n",
       " '446',\n",
       " '447',\n",
       " '448',\n",
       " '451',\n",
       " '452',\n",
       " '453',\n",
       " '454',\n",
       " '455',\n",
       " '456',\n",
       " '457',\n",
       " '458',\n",
       " '459',\n",
       " '461',\n",
       " '462',\n",
       " '463',\n",
       " '464',\n",
       " '465',\n",
       " '466',\n",
       " '47',\n",
       " '470',\n",
       " '471',\n",
       " '473',\n",
       " '474',\n",
       " '475',\n",
       " '477',\n",
       " '478',\n",
       " '48',\n",
       " '480',\n",
       " '481',\n",
       " '482',\n",
       " '483',\n",
       " '485',\n",
       " '486',\n",
       " '487',\n",
       " '49',\n",
       " '490',\n",
       " '491',\n",
       " '492',\n",
       " '493',\n",
       " '494',\n",
       " '495',\n",
       " '496',\n",
       " '5',\n",
       " '500',\n",
       " '501',\n",
       " '506',\n",
       " '507',\n",
       " '508',\n",
       " '510',\n",
       " '511',\n",
       " '512',\n",
       " '513',\n",
       " '514',\n",
       " '515',\n",
       " '516',\n",
       " '518',\n",
       " '519',\n",
       " '52',\n",
       " '521',\n",
       " '522',\n",
       " '523',\n",
       " '524',\n",
       " '526',\n",
       " '527',\n",
       " '528',\n",
       " '529',\n",
       " '53',\n",
       " '530',\n",
       " '531',\n",
       " '532',\n",
       " '533',\n",
       " '534',\n",
       " '535',\n",
       " '536',\n",
       " '537',\n",
       " '54',\n",
       " '540',\n",
       " '541',\n",
       " '542',\n",
       " '543',\n",
       " '550',\n",
       " '551',\n",
       " '552',\n",
       " '553',\n",
       " '555',\n",
       " '556',\n",
       " '557',\n",
       " '558',\n",
       " '560',\n",
       " '562',\n",
       " '564',\n",
       " '565',\n",
       " '566',\n",
       " '567',\n",
       " '568',\n",
       " '569',\n",
       " '57',\n",
       " '570',\n",
       " '571',\n",
       " '572',\n",
       " '573',\n",
       " '574',\n",
       " '575',\n",
       " '576',\n",
       " '577',\n",
       " '578',\n",
       " '579',\n",
       " '58',\n",
       " '580',\n",
       " '581',\n",
       " '582',\n",
       " '583',\n",
       " '584',\n",
       " '585',\n",
       " '586',\n",
       " '588',\n",
       " '590',\n",
       " '591',\n",
       " '592',\n",
       " '593',\n",
       " '594',\n",
       " '595',\n",
       " '596',\n",
       " '598',\n",
       " '599',\n",
       " '600',\n",
       " '601',\n",
       " '602',\n",
       " '603',\n",
       " '604',\n",
       " '605',\n",
       " '607',\n",
       " '608',\n",
       " '61',\n",
       " '610',\n",
       " '611',\n",
       " '614',\n",
       " '615',\n",
       " '616',\n",
       " '617',\n",
       " '618',\n",
       " '619',\n",
       " '620',\n",
       " '621',\n",
       " '622',\n",
       " '623',\n",
       " '625',\n",
       " '626',\n",
       " '627',\n",
       " '632',\n",
       " '633',\n",
       " '634',\n",
       " '637',\n",
       " '640',\n",
       " '641',\n",
       " '642',\n",
       " '643',\n",
       " '644',\n",
       " '645',\n",
       " '646',\n",
       " '647',\n",
       " '648',\n",
       " '649',\n",
       " '652',\n",
       " '653',\n",
       " '654',\n",
       " '655',\n",
       " '656',\n",
       " '658',\n",
       " '659',\n",
       " '66',\n",
       " '660',\n",
       " '661',\n",
       " '663',\n",
       " '664',\n",
       " '665',\n",
       " '669',\n",
       " '674',\n",
       " '680',\n",
       " '681',\n",
       " '682',\n",
       " '683',\n",
       " '684',\n",
       " '685',\n",
       " '686',\n",
       " '690',\n",
       " '691',\n",
       " '692',\n",
       " '693',\n",
       " '694',\n",
       " '695',\n",
       " '696',\n",
       " '698',\n",
       " '7',\n",
       " '70',\n",
       " '700',\n",
       " '703',\n",
       " '705',\n",
       " '707',\n",
       " '708',\n",
       " '709',\n",
       " '710',\n",
       " '711',\n",
       " '714',\n",
       " '715',\n",
       " '716',\n",
       " '717',\n",
       " '718',\n",
       " '719',\n",
       " '720',\n",
       " '721',\n",
       " '722',\n",
       " '723',\n",
       " '724',\n",
       " '725',\n",
       " '726',\n",
       " '727',\n",
       " '728',\n",
       " '729',\n",
       " '730',\n",
       " '731',\n",
       " '732',\n",
       " '733',\n",
       " '734',\n",
       " '735',\n",
       " '736',\n",
       " '737',\n",
       " '738',\n",
       " '745',\n",
       " '746',\n",
       " '747',\n",
       " '75',\n",
       " '751',\n",
       " '753',\n",
       " '756',\n",
       " '759',\n",
       " '78',\n",
       " '780',\n",
       " '781',\n",
       " '782',\n",
       " '783',\n",
       " '784',\n",
       " '785',\n",
       " '786',\n",
       " '787',\n",
       " '788',\n",
       " '789',\n",
       " '79',\n",
       " '790',\n",
       " '792',\n",
       " '793',\n",
       " '794',\n",
       " '795',\n",
       " '796',\n",
       " '797',\n",
       " '799',\n",
       " '8',\n",
       " '800',\n",
       " '801',\n",
       " '802',\n",
       " '803',\n",
       " '805',\n",
       " '806',\n",
       " '807',\n",
       " '808',\n",
       " '810',\n",
       " '812',\n",
       " '813',\n",
       " '814',\n",
       " '815',\n",
       " '816',\n",
       " '817',\n",
       " '82',\n",
       " '820',\n",
       " '821',\n",
       " '822',\n",
       " '823',\n",
       " '824',\n",
       " '825',\n",
       " '826',\n",
       " '827',\n",
       " '831',\n",
       " '832',\n",
       " '834',\n",
       " '835',\n",
       " '836',\n",
       " '837',\n",
       " '838',\n",
       " '839',\n",
       " '84',\n",
       " '840',\n",
       " '842',\n",
       " '843',\n",
       " '844',\n",
       " '845',\n",
       " '846',\n",
       " '847',\n",
       " '848',\n",
       " '850',\n",
       " '851',\n",
       " '852',\n",
       " '853',\n",
       " '854',\n",
       " '860',\n",
       " '861',\n",
       " '862',\n",
       " '863',\n",
       " '864',\n",
       " '865',\n",
       " '866',\n",
       " '867',\n",
       " '868',\n",
       " '870',\n",
       " '871',\n",
       " '873',\n",
       " '875',\n",
       " '878',\n",
       " '879',\n",
       " '88',\n",
       " '880',\n",
       " '881',\n",
       " '882',\n",
       " '883',\n",
       " '885',\n",
       " '886',\n",
       " '890',\n",
       " '891',\n",
       " '892',\n",
       " '893',\n",
       " '895',\n",
       " '897',\n",
       " '9',\n",
       " '903',\n",
       " '904',\n",
       " '906',\n",
       " '911',\n",
       " '914',\n",
       " '916',\n",
       " '917',\n",
       " '920',\n",
       " '921',\n",
       " '922',\n",
       " '923',\n",
       " '924',\n",
       " '928',\n",
       " '933',\n",
       " '934',\n",
       " '935',\n",
       " '936',\n",
       " '939',\n",
       " '94',\n",
       " '941',\n",
       " '942',\n",
       " '944',\n",
       " '945',\n",
       " '952',\n",
       " '957',\n",
       " '958',\n",
       " '959',\n",
       " '962',\n",
       " '963',\n",
       " '964',\n",
       " '965',\n",
       " '966',\n",
       " '967',\n",
       " '968',\n",
       " '969',\n",
       " '970',\n",
       " '971',\n",
       " '972',\n",
       " '973',\n",
       " '974',\n",
       " '975',\n",
       " '976',\n",
       " '977',\n",
       " '98',\n",
       " '980',\n",
       " '983',\n",
       " '986',\n",
       " '987',\n",
       " '989',\n",
       " '990',\n",
       " '991',\n",
       " '992',\n",
       " '994',\n",
       " '995',\n",
       " '996',\n",
       " '997',\n",
       " '998',\n",
       " '999',\n",
       " '?',\n",
       " 'V25',\n",
       " 'V43',\n",
       " 'V45',\n",
       " 'V51',\n",
       " 'V53',\n",
       " 'V54',\n",
       " 'V55',\n",
       " 'V56',\n",
       " 'V57',\n",
       " 'V58',\n",
       " 'V63',\n",
       " 'V71'}"
      ]
     },
     "execution_count": 248,
     "metadata": {},
     "output_type": "execute_result"
    }
   ],
   "source": [
    "set(df['primary_diagnosis'])"
   ]
  },
  {
   "cell_type": "markdown",
   "metadata": {
    "hidden": true
   },
   "source": [
    "- **Possible Grouping**\n",
    "- Main Category:\n",
    "\n",
    "If the code consists entirely of digits, it is considered for grouping into a main category based on the first character or the first two characters.\n",
    "If the first character is a digit from '1' to '9', it is assigned to the 'Main Category' followed by the first digit.\n",
    "If the first two characters form a valid number, it is assigned to the 'Main Category' followed by the first two digits.\n",
    "\n",
    "- Supplementary Classification:\n",
    "\n",
    "If the code starts with either 'V' or 'E', it is likely a supplementary classification code. These codes are often used for factors influencing health status and encounters for external causes.\n",
    "\n",
    "\n",
    "- Uncategorized:\n",
    "\n",
    "If the code does not fit into any of the specified conditions, it is marked as 'Uncategorized'"
   ]
  },
  {
   "cell_type": "code",
   "execution_count": 249,
   "metadata": {
    "hidden": true
   },
   "outputs": [],
   "source": [
    "def map_diagnosis_group(code):\n",
    "    if pd.isna(code):\n",
    "        return 'Uncategorized'\n",
    "    elif code.startswith(('V', 'E')):\n",
    "        return 'Supplementary Classification'\n",
    "    elif code.isdigit():\n",
    "        # Assuming the first character or first two characters represent a category\n",
    "        first_digit = code[0]\n",
    "        if first_digit in ('1', '2', '3', '4', '5', '6', '7', '8', '9'):\n",
    "            return 'Main Category ' + first_digit\n",
    "        elif code[:2].isdigit():\n",
    "            return 'Main Category ' + code[:2]\n",
    "    return 'Uncategorized'\n",
    "\n",
    "# Create a new column for grouped primary diagnosis codes\n",
    "df['primary_diagnosis'] = df['primary_diagnosis'].apply(map_diagnosis_group)"
   ]
  },
  {
   "cell_type": "code",
   "execution_count": 250,
   "metadata": {
    "hidden": true,
    "scrolled": true
   },
   "outputs": [
    {
     "data": {
      "text/plain": [
       "Main Category 4                 26795\n",
       "Main Category 5                 11136\n",
       "Main Category 7                  9150\n",
       "Uncategorized                    5951\n",
       "Main Category 2                  4686\n",
       "Main Category 9                  2746\n",
       "Main Category 6                  2661\n",
       "Main Category 8                  2560\n",
       "Main Category 3                  2454\n",
       "Main Category 1                  1939\n",
       "Supplementary Classification     1155\n",
       "Name: primary_diagnosis, dtype: int64"
      ]
     },
     "execution_count": 250,
     "metadata": {},
     "output_type": "execute_result"
    }
   ],
   "source": [
    "df['primary_diagnosis'].value_counts(dropna=False)"
   ]
  },
  {
   "cell_type": "markdown",
   "metadata": {
    "hidden": true
   },
   "source": [
    "* __secondary_diagnosis__ -> clean ❗\n",
    "\n",
    "Secondary diagnosis (first three digits of ICD9)"
   ]
  },
  {
   "cell_type": "code",
   "execution_count": 251,
   "metadata": {
    "hidden": true
   },
   "outputs": [
    {
     "data": {
      "text/plain": [
       "276     4694\n",
       "428     4685\n",
       "250     4257\n",
       "427     3537\n",
       "401     2624\n",
       "        ... \n",
       "V60        1\n",
       "E883       1\n",
       "V11        1\n",
       "755        1\n",
       "E938       1\n",
       "Name: secondary_diagnosis, Length: 699, dtype: int64"
      ]
     },
     "execution_count": 251,
     "metadata": {},
     "output_type": "execute_result"
    }
   ],
   "source": [
    "df['secondary_diagnosis'].value_counts(dropna=False)"
   ]
  },
  {
   "cell_type": "code",
   "execution_count": 252,
   "metadata": {
    "hidden": true
   },
   "outputs": [],
   "source": [
    "df['secondary_diagnosis'] = df['secondary_diagnosis'].apply(map_diagnosis_group)"
   ]
  },
  {
   "cell_type": "code",
   "execution_count": 253,
   "metadata": {
    "hidden": true
   },
   "outputs": [
    {
     "data": {
      "text/plain": [
       "Main Category 4                 27606\n",
       "Main Category 2                 13246\n",
       "Main Category 5                  9830\n",
       "Main Category 7                  6151\n",
       "Uncategorized                    4943\n",
       "Main Category 3                  2565\n",
       "Supplementary Classification     1780\n",
       "Main Category 6                  1644\n",
       "Main Category 1                  1577\n",
       "Main Category 9                  1280\n",
       "Main Category 8                   611\n",
       "Name: secondary_diagnosis, dtype: int64"
      ]
     },
     "execution_count": 253,
     "metadata": {},
     "output_type": "execute_result"
    }
   ],
   "source": [
    "df['secondary_diagnosis'].value_counts(dropna=False)"
   ]
  },
  {
   "cell_type": "markdown",
   "metadata": {
    "hidden": true
   },
   "source": [
    "* __additional_diagnosis__ -> clean ❗\n",
    "\n",
    "Additional secondary diagnosis (first three digits of ICD9)"
   ]
  },
  {
   "cell_type": "code",
   "execution_count": 254,
   "metadata": {
    "hidden": true,
    "scrolled": true
   },
   "outputs": [
    {
     "data": {
      "text/plain": [
       "250    8070\n",
       "401    5783\n",
       "276    3599\n",
       "428    3240\n",
       "427    2767\n",
       "       ... \n",
       "834       1\n",
       "540       1\n",
       "271       1\n",
       "755       1\n",
       "669       1\n",
       "Name: additional_diagnosis, Length: 747, dtype: int64"
      ]
     },
     "execution_count": 254,
     "metadata": {},
     "output_type": "execute_result"
    }
   ],
   "source": [
    "df['additional_diagnosis'].value_counts(dropna=False)"
   ]
  },
  {
   "cell_type": "code",
   "execution_count": 255,
   "metadata": {
    "hidden": true
   },
   "outputs": [],
   "source": [
    "df['additional_diagnosis'] = df['additional_diagnosis'].apply(map_diagnosis_group)"
   ]
  },
  {
   "cell_type": "code",
   "execution_count": 256,
   "metadata": {
    "hidden": true
   },
   "outputs": [
    {
     "data": {
      "text/plain": [
       "Main Category 4                 24786\n",
       "Main Category 2                 17389\n",
       "Main Category 5                  7850\n",
       "Main Category 7                  5744\n",
       "Uncategorized                    4865\n",
       "Supplementary Classification     3541\n",
       "Main Category 3                  3065\n",
       "Main Category 6                  1298\n",
       "Main Category 1                  1155\n",
       "Main Category 9                  1088\n",
       "Main Category 8                   452\n",
       "Name: additional_diagnosis, dtype: int64"
      ]
     },
     "execution_count": 256,
     "metadata": {},
     "output_type": "execute_result"
    }
   ],
   "source": [
    "df['additional_diagnosis'].value_counts(dropna=False)"
   ]
  },
  {
   "cell_type": "markdown",
   "metadata": {
    "hidden": true
   },
   "source": [
    "* __number_diagnoses__ -> clean ✅\n",
    "\n",
    "Number of diagnoses entered to the system"
   ]
  },
  {
   "cell_type": "code",
   "execution_count": 257,
   "metadata": {
    "hidden": true
   },
   "outputs": [
    {
     "data": {
      "text/plain": [
       "9     34668\n",
       "5      7920\n",
       "8      7375\n",
       "7      7264\n",
       "6      7134\n",
       "4      3902\n",
       "3      1994\n",
       "2       727\n",
       "1       164\n",
       "16       33\n",
       "10       15\n",
       "13       13\n",
       "12        7\n",
       "11        7\n",
       "15        6\n",
       "14        4\n",
       "Name: number_diagnoses, dtype: int64"
      ]
     },
     "execution_count": 257,
     "metadata": {},
     "output_type": "execute_result"
    }
   ],
   "source": [
    "df['number_diagnoses'].value_counts(dropna=False)"
   ]
  },
  {
   "cell_type": "code",
   "execution_count": 258,
   "metadata": {
    "hidden": true
   },
   "outputs": [
    {
     "data": {
      "text/plain": [
       "dtype('int64')"
      ]
     },
     "execution_count": 258,
     "metadata": {},
     "output_type": "execute_result"
    }
   ],
   "source": [
    "df['number_diagnoses'].dtype"
   ]
  },
  {
   "cell_type": "code",
   "execution_count": 259,
   "metadata": {
    "hidden": true
   },
   "outputs": [
    {
     "data": {
      "image/png": "[encoded data removed]",
      "text/plain": [
       "<Figure size 432x288 with 1 Axes>"
      ]
     },
     "metadata": {
      "needs_background": "light"
     },
     "output_type": "display_data"
    }
   ],
   "source": [
    "sns.boxplot(x='number_diagnoses',data=df)\n",
    "plt.show()"
   ]
  },
  {
   "cell_type": "markdown",
   "metadata": {
    "hidden": true
   },
   "source": [
    "* __glucose_test_result__ -> clean ❗\n",
    "\n",
    "Range of the glucose test results or if the test was not taken.\n",
    "Values: “>200,” “>300,” “normal,” and “none” if not measured"
   ]
  },
  {
   "cell_type": "code",
   "execution_count": 260,
   "metadata": {
    "hidden": true
   },
   "outputs": [
    {
     "data": {
      "text/plain": [
       "NaN     67545\n",
       "Norm     1806\n",
       ">200     1055\n",
       ">300      827\n",
       "Name: glucose_test_result, dtype: int64"
      ]
     },
     "execution_count": 260,
     "metadata": {},
     "output_type": "execute_result"
    }
   ],
   "source": [
    "df['glucose_test_result'].value_counts(dropna=False)"
   ]
  },
  {
   "cell_type": "code",
   "execution_count": 261,
   "metadata": {
    "hidden": true
   },
   "outputs": [],
   "source": [
    "df['glucose_test_result'] = df['glucose_test_result'].fillna('None')\n",
    "# Fill missing values according to metadata"
   ]
  },
  {
   "cell_type": "code",
   "execution_count": 262,
   "metadata": {
    "hidden": true
   },
   "outputs": [
    {
     "data": {
      "text/plain": [
       "None    67545\n",
       "Norm     1806\n",
       ">200     1055\n",
       ">300      827\n",
       "Name: glucose_test_result, dtype: int64"
      ]
     },
     "execution_count": 262,
     "metadata": {},
     "output_type": "execute_result"
    }
   ],
   "source": [
    "df['glucose_test_result'].value_counts(dropna=False)"
   ]
  },
  {
   "cell_type": "markdown",
   "metadata": {
    "hidden": true
   },
   "source": [
    "* __a1c_test_result__ -> clean ❗\n",
    "\n",
    "Range of the A1C test results or if the test was not taken.\n",
    "Values: “>8” if greater than 8%, “>7” if greater than 7% but\n",
    "less than 8%, “normal” if less than 7%, and “none” if not\n",
    "measured."
   ]
  },
  {
   "cell_type": "code",
   "execution_count": 263,
   "metadata": {
    "hidden": true
   },
   "outputs": [
    {
     "data": {
      "text/plain": [
       "NaN     59317\n",
       ">8       5705\n",
       "Norm     3503\n",
       ">7       2708\n",
       "Name: a1c_test_result, dtype: int64"
      ]
     },
     "execution_count": 263,
     "metadata": {},
     "output_type": "execute_result"
    }
   ],
   "source": [
    "df['a1c_test_result'].value_counts(dropna=False)"
   ]
  },
  {
   "cell_type": "code",
   "execution_count": 264,
   "metadata": {
    "hidden": true
   },
   "outputs": [],
   "source": [
    "df['a1c_test_result'] = df['a1c_test_result'].fillna('None')\n",
    "# Fill missing values according to metadata"
   ]
  },
  {
   "cell_type": "code",
   "execution_count": 265,
   "metadata": {
    "hidden": true
   },
   "outputs": [
    {
     "data": {
      "text/plain": [
       "None    59317\n",
       ">8       5705\n",
       "Norm     3503\n",
       ">7       2708\n",
       "Name: a1c_test_result, dtype: int64"
      ]
     },
     "execution_count": 265,
     "metadata": {},
     "output_type": "execute_result"
    }
   ],
   "source": [
    "df['a1c_test_result'].value_counts(dropna=False)"
   ]
  },
  {
   "cell_type": "markdown",
   "metadata": {
    "hidden": true
   },
   "source": [
    "* __change_in_meds_during_hospitalization__ -> clean ✅\n",
    "\n",
    "Indicates if there was a change in diabetic medications\n",
    "(dosage or generic name). Values: “change” and “no change”"
   ]
  },
  {
   "cell_type": "code",
   "execution_count": 266,
   "metadata": {
    "hidden": true
   },
   "outputs": [
    {
     "data": {
      "text/plain": [
       "No    38325\n",
       "Ch    32908\n",
       "Name: change_in_meds_during_hospitalization, dtype: int64"
      ]
     },
     "execution_count": 266,
     "metadata": {},
     "output_type": "execute_result"
    }
   ],
   "source": [
    "df['change_in_meds_during_hospitalization'].value_counts(dropna=False)"
   ]
  },
  {
   "cell_type": "code",
   "execution_count": 267,
   "metadata": {
    "hidden": true
   },
   "outputs": [
    {
     "data": {
      "text/plain": [
       "dtype('O')"
      ]
     },
     "execution_count": 267,
     "metadata": {},
     "output_type": "execute_result"
    }
   ],
   "source": [
    "df['change_in_meds_during_hospitalization'].dtype"
   ]
  },
  {
   "cell_type": "code",
   "execution_count": 268,
   "metadata": {
    "hidden": true,
    "scrolled": true
   },
   "outputs": [
    {
     "data": {
      "image/png": "[encoded data removed]",
      "text/plain": [
       "<Figure size 432x288 with 1 Axes>"
      ]
     },
     "metadata": {
      "needs_background": "light"
     },
     "output_type": "display_data"
    }
   ],
   "source": [
    "sns.countplot(x='change_in_meds_during_hospitalization',data=df)\n",
    "plt.show()"
   ]
  },
  {
   "cell_type": "markdown",
   "metadata": {
    "hidden": true
   },
   "source": [
    "* __prescribed_diabetes_meds__ -> clean ✅\n",
    "\n",
    "Yes if patient has diabetes medication perscribed. No\n",
    "otherwise."
   ]
  },
  {
   "cell_type": "code",
   "execution_count": 269,
   "metadata": {
    "hidden": true
   },
   "outputs": [
    {
     "data": {
      "text/plain": [
       "Yes    54888\n",
       "No     16345\n",
       "Name: prescribed_diabetes_meds, dtype: int64"
      ]
     },
     "execution_count": 269,
     "metadata": {},
     "output_type": "execute_result"
    }
   ],
   "source": [
    "df['prescribed_diabetes_meds'].value_counts(dropna=False)"
   ]
  },
  {
   "cell_type": "code",
   "execution_count": 270,
   "metadata": {
    "hidden": true
   },
   "outputs": [
    {
     "data": {
      "text/plain": [
       "dtype('O')"
      ]
     },
     "execution_count": 270,
     "metadata": {},
     "output_type": "execute_result"
    }
   ],
   "source": [
    "df['prescribed_diabetes_meds'].dtype"
   ]
  },
  {
   "cell_type": "markdown",
   "metadata": {
    "hidden": true
   },
   "source": [
    "* __medication__ -> clean ✅"
   ]
  },
  {
   "cell_type": "code",
   "execution_count": 271,
   "metadata": {
    "hidden": true
   },
   "outputs": [
    {
     "data": {
      "text/plain": [
       "['insulin']                                                              21715\n",
       "[]                                                                       16345\n",
       "['metformin']                                                             3152\n",
       "['metformin', 'insulin']                                                  3041\n",
       "['glipizide']                                                             2727\n",
       "                                                                         ...  \n",
       "['pioglitazone', 'acarbose']                                                 1\n",
       "['glipizide', 'rosiglitazone', 'acarbose', 'insulin']                        1\n",
       "['glipizide', 'glyburide', 'acarbose', 'insulin']                            1\n",
       "['metformin', 'glimepiride', 'glipizide', 'rosiglitazone', 'insulin']        1\n",
       "['metformin', 'rosiglitazone', 'acarbose']                                   1\n",
       "Name: medication, Length: 303, dtype: int64"
      ]
     },
     "execution_count": 271,
     "metadata": {},
     "output_type": "execute_result"
    }
   ],
   "source": [
    "df['medication'].value_counts(dropna=False)\n",
    "# Empty list -> no medication was prescribed"
   ]
  },
  {
   "cell_type": "code",
   "execution_count": 272,
   "metadata": {
    "hidden": true,
    "scrolled": true
   },
   "outputs": [
    {
     "data": {
      "text/plain": [
       "dtype('O')"
      ]
     },
     "execution_count": 272,
     "metadata": {},
     "output_type": "execute_result"
    }
   ],
   "source": [
    "df['medication'].dtype"
   ]
  },
  {
   "cell_type": "code",
   "execution_count": 273,
   "metadata": {
    "hidden": true
   },
   "outputs": [],
   "source": [
    "def comma_counter(string):\n",
    "    commas = 0\n",
    "    for i in string:\n",
    "        if i == ',':\n",
    "            commas += 1\n",
    "    return commas"
   ]
  },
  {
   "cell_type": "code",
   "execution_count": 274,
   "metadata": {
    "hidden": true
   },
   "outputs": [],
   "source": [
    "# Values in 'medication' column are lists inside strings\n",
    "# Any list with length larger than 2 is not empty\n",
    "# Create function to binary classify if person takes medication (1) or not (0)\n",
    "def map_medication(medication_list):\n",
    "    if len(medication_list) > 2:\n",
    "        return 1\n",
    "    return 0"
   ]
  },
  {
   "cell_type": "code",
   "execution_count": 275,
   "metadata": {
    "hidden": true
   },
   "outputs": [],
   "source": [
    "# Apply function\n",
    "df['medication'] = df['medication'].apply(map_medication)"
   ]
  },
  {
   "cell_type": "code",
   "execution_count": 276,
   "metadata": {
    "hidden": true
   },
   "outputs": [],
   "source": [
    "# Quantify as category\n",
    "df['medication'] = df['medication'].astype('category')"
   ]
  },
  {
   "cell_type": "code",
   "execution_count": 277,
   "metadata": {
    "hidden": true
   },
   "outputs": [
    {
     "data": {
      "text/plain": [
       "1    54888\n",
       "0    16345\n",
       "Name: medication, dtype: int64"
      ]
     },
     "execution_count": 277,
     "metadata": {},
     "output_type": "execute_result"
    }
   ],
   "source": [
    "df['medication'].value_counts()"
   ]
  },
  {
   "cell_type": "code",
   "execution_count": 278,
   "metadata": {
    "hidden": true,
    "scrolled": true
   },
   "outputs": [
    {
     "data": {
      "text/plain": [
       "encounter_id                             0\n",
       "patient_id                               0\n",
       "race                                     0\n",
       "gender                                   0\n",
       "age                                      0\n",
       "payer_code                               0\n",
       "outpatient_visits_in_previous_year       0\n",
       "emergency_visits_in_previous_year        0\n",
       "inpatient_visits_in_previous_year        0\n",
       "admission_type                           0\n",
       "average_pulse_bpm                        0\n",
       "discharge_disposition                    0\n",
       "admission_source                         0\n",
       "length_of_stay_in_hospital               0\n",
       "number_lab_tests                         0\n",
       "non_lab_procedures                       0\n",
       "number_of_medications                    0\n",
       "primary_diagnosis                        0\n",
       "secondary_diagnosis                      0\n",
       "additional_diagnosis                     0\n",
       "number_diagnoses                         0\n",
       "glucose_test_result                      0\n",
       "a1c_test_result                          0\n",
       "change_in_meds_during_hospitalization    0\n",
       "prescribed_diabetes_meds                 0\n",
       "medication                               0\n",
       "readmitted_binary                        0\n",
       "readmitted_multiclass                    0\n",
       "dtype: int64"
      ]
     },
     "execution_count": 278,
     "metadata": {},
     "output_type": "execute_result"
    }
   ],
   "source": [
    "df.isna().sum()"
   ]
  },
  {
   "cell_type": "code",
   "execution_count": 279,
   "metadata": {
    "hidden": true
   },
   "outputs": [],
   "source": [
    "df['readmitted_binary'] = df['readmitted_binary'].map({'No': 0, 'Yes': 1})"
   ]
  },
  {
   "cell_type": "code",
   "execution_count": 280,
   "metadata": {
    "hidden": true
   },
   "outputs": [
    {
     "data": {
      "text/html": [
       "<div>\n",
       "<style scoped>\n",
       "    .dataframe tbody tr th:only-of-type {\n",
       "        vertical-align: middle;\n",
       "    }\n",
       "\n",
       "    .dataframe tbody tr th {\n",
       "        vertical-align: top;\n",
       "    }\n",
       "\n",
       "    .dataframe thead th {\n",
       "        text-align: right;\n",
       "    }\n",
       "</style>\n",
       "<table border=\"1\" class=\"dataframe\">\n",
       "  <thead>\n",
       "    <tr style=\"text-align: right;\">\n",
       "      <th></th>\n",
       "      <th>count</th>\n",
       "      <th>unique</th>\n",
       "      <th>top</th>\n",
       "      <th>freq</th>\n",
       "      <th>mean</th>\n",
       "      <th>std</th>\n",
       "      <th>min</th>\n",
       "      <th>25%</th>\n",
       "      <th>50%</th>\n",
       "      <th>75%</th>\n",
       "      <th>max</th>\n",
       "    </tr>\n",
       "  </thead>\n",
       "  <tbody>\n",
       "    <tr>\n",
       "      <th>encounter_id</th>\n",
       "      <td>71233</td>\n",
       "      <td>NaN</td>\n",
       "      <td>NaN</td>\n",
       "      <td>NaN</td>\n",
       "      <td>548793</td>\n",
       "      <td>259699</td>\n",
       "      <td>100000</td>\n",
       "      <td>323120</td>\n",
       "      <td>548350</td>\n",
       "      <td>774051</td>\n",
       "      <td>999980</td>\n",
       "    </tr>\n",
       "    <tr>\n",
       "      <th>patient_id</th>\n",
       "      <td>71233</td>\n",
       "      <td>NaN</td>\n",
       "      <td>NaN</td>\n",
       "      <td>NaN</td>\n",
       "      <td>5.43012e+07</td>\n",
       "      <td>3.87962e+07</td>\n",
       "      <td>135</td>\n",
       "      <td>2.33964e+07</td>\n",
       "      <td>4.53056e+07</td>\n",
       "      <td>8.75584e+07</td>\n",
       "      <td>1.89503e+08</td>\n",
       "    </tr>\n",
       "    <tr>\n",
       "      <th>race</th>\n",
       "      <td>71233</td>\n",
       "      <td>5</td>\n",
       "      <td>Caucasian</td>\n",
       "      <td>55761</td>\n",
       "      <td>NaN</td>\n",
       "      <td>NaN</td>\n",
       "      <td>NaN</td>\n",
       "      <td>NaN</td>\n",
       "      <td>NaN</td>\n",
       "      <td>NaN</td>\n",
       "      <td>NaN</td>\n",
       "    </tr>\n",
       "    <tr>\n",
       "      <th>gender</th>\n",
       "      <td>71233</td>\n",
       "      <td>2</td>\n",
       "      <td>Female</td>\n",
       "      <td>38228</td>\n",
       "      <td>NaN</td>\n",
       "      <td>NaN</td>\n",
       "      <td>NaN</td>\n",
       "      <td>NaN</td>\n",
       "      <td>NaN</td>\n",
       "      <td>NaN</td>\n",
       "      <td>NaN</td>\n",
       "    </tr>\n",
       "    <tr>\n",
       "      <th>age</th>\n",
       "      <td>71233</td>\n",
       "      <td>10</td>\n",
       "      <td>[70-80)</td>\n",
       "      <td>20914</td>\n",
       "      <td>NaN</td>\n",
       "      <td>NaN</td>\n",
       "      <td>NaN</td>\n",
       "      <td>NaN</td>\n",
       "      <td>NaN</td>\n",
       "      <td>NaN</td>\n",
       "      <td>NaN</td>\n",
       "    </tr>\n",
       "    <tr>\n",
       "      <th>payer_code</th>\n",
       "      <td>71233</td>\n",
       "      <td>2</td>\n",
       "      <td>1</td>\n",
       "      <td>43033</td>\n",
       "      <td>NaN</td>\n",
       "      <td>NaN</td>\n",
       "      <td>NaN</td>\n",
       "      <td>NaN</td>\n",
       "      <td>NaN</td>\n",
       "      <td>NaN</td>\n",
       "      <td>NaN</td>\n",
       "    </tr>\n",
       "    <tr>\n",
       "      <th>outpatient_visits_in_previous_year</th>\n",
       "      <td>71233</td>\n",
       "      <td>NaN</td>\n",
       "      <td>NaN</td>\n",
       "      <td>NaN</td>\n",
       "      <td>0.369604</td>\n",
       "      <td>1.28749</td>\n",
       "      <td>0</td>\n",
       "      <td>0</td>\n",
       "      <td>0</td>\n",
       "      <td>0</td>\n",
       "      <td>42</td>\n",
       "    </tr>\n",
       "    <tr>\n",
       "      <th>emergency_visits_in_previous_year</th>\n",
       "      <td>71233</td>\n",
       "      <td>NaN</td>\n",
       "      <td>NaN</td>\n",
       "      <td>NaN</td>\n",
       "      <td>0.196257</td>\n",
       "      <td>0.910872</td>\n",
       "      <td>0</td>\n",
       "      <td>0</td>\n",
       "      <td>0</td>\n",
       "      <td>0</td>\n",
       "      <td>76</td>\n",
       "    </tr>\n",
       "    <tr>\n",
       "      <th>inpatient_visits_in_previous_year</th>\n",
       "      <td>71233</td>\n",
       "      <td>NaN</td>\n",
       "      <td>NaN</td>\n",
       "      <td>NaN</td>\n",
       "      <td>0.640181</td>\n",
       "      <td>1.26729</td>\n",
       "      <td>0</td>\n",
       "      <td>0</td>\n",
       "      <td>0</td>\n",
       "      <td>1</td>\n",
       "      <td>21</td>\n",
       "    </tr>\n",
       "    <tr>\n",
       "      <th>admission_type</th>\n",
       "      <td>71233</td>\n",
       "      <td>6</td>\n",
       "      <td>Emergency</td>\n",
       "      <td>37740</td>\n",
       "      <td>NaN</td>\n",
       "      <td>NaN</td>\n",
       "      <td>NaN</td>\n",
       "      <td>NaN</td>\n",
       "      <td>NaN</td>\n",
       "      <td>NaN</td>\n",
       "      <td>NaN</td>\n",
       "    </tr>\n",
       "    <tr>\n",
       "      <th>average_pulse_bpm</th>\n",
       "      <td>71233</td>\n",
       "      <td>NaN</td>\n",
       "      <td>NaN</td>\n",
       "      <td>NaN</td>\n",
       "      <td>99.611</td>\n",
       "      <td>23.0409</td>\n",
       "      <td>60</td>\n",
       "      <td>80</td>\n",
       "      <td>100</td>\n",
       "      <td>119</td>\n",
       "      <td>139</td>\n",
       "    </tr>\n",
       "    <tr>\n",
       "      <th>discharge_disposition</th>\n",
       "      <td>71233</td>\n",
       "      <td>6</td>\n",
       "      <td>Home Discharge</td>\n",
       "      <td>51604</td>\n",
       "      <td>NaN</td>\n",
       "      <td>NaN</td>\n",
       "      <td>NaN</td>\n",
       "      <td>NaN</td>\n",
       "      <td>NaN</td>\n",
       "      <td>NaN</td>\n",
       "      <td>NaN</td>\n",
       "    </tr>\n",
       "    <tr>\n",
       "      <th>admission_source</th>\n",
       "      <td>71233</td>\n",
       "      <td>5</td>\n",
       "      <td>Emergency Services</td>\n",
       "      <td>40317</td>\n",
       "      <td>NaN</td>\n",
       "      <td>NaN</td>\n",
       "      <td>NaN</td>\n",
       "      <td>NaN</td>\n",
       "      <td>NaN</td>\n",
       "      <td>NaN</td>\n",
       "      <td>NaN</td>\n",
       "    </tr>\n",
       "    <tr>\n",
       "      <th>length_of_stay_in_hospital</th>\n",
       "      <td>71233</td>\n",
       "      <td>NaN</td>\n",
       "      <td>NaN</td>\n",
       "      <td>NaN</td>\n",
       "      <td>4.39107</td>\n",
       "      <td>2.98872</td>\n",
       "      <td>1</td>\n",
       "      <td>2</td>\n",
       "      <td>4</td>\n",
       "      <td>6</td>\n",
       "      <td>14</td>\n",
       "    </tr>\n",
       "    <tr>\n",
       "      <th>number_lab_tests</th>\n",
       "      <td>71233</td>\n",
       "      <td>NaN</td>\n",
       "      <td>NaN</td>\n",
       "      <td>NaN</td>\n",
       "      <td>43.096</td>\n",
       "      <td>19.6427</td>\n",
       "      <td>1</td>\n",
       "      <td>31</td>\n",
       "      <td>44</td>\n",
       "      <td>57</td>\n",
       "      <td>121</td>\n",
       "    </tr>\n",
       "    <tr>\n",
       "      <th>non_lab_procedures</th>\n",
       "      <td>71233</td>\n",
       "      <td>NaN</td>\n",
       "      <td>NaN</td>\n",
       "      <td>NaN</td>\n",
       "      <td>1.34087</td>\n",
       "      <td>1.70664</td>\n",
       "      <td>0</td>\n",
       "      <td>0</td>\n",
       "      <td>1</td>\n",
       "      <td>2</td>\n",
       "      <td>6</td>\n",
       "    </tr>\n",
       "    <tr>\n",
       "      <th>number_of_medications</th>\n",
       "      <td>71233</td>\n",
       "      <td>NaN</td>\n",
       "      <td>NaN</td>\n",
       "      <td>NaN</td>\n",
       "      <td>15.9954</td>\n",
       "      <td>8.12238</td>\n",
       "      <td>1</td>\n",
       "      <td>10</td>\n",
       "      <td>15</td>\n",
       "      <td>20</td>\n",
       "      <td>75</td>\n",
       "    </tr>\n",
       "    <tr>\n",
       "      <th>primary_diagnosis</th>\n",
       "      <td>71233</td>\n",
       "      <td>11</td>\n",
       "      <td>Main Category 4</td>\n",
       "      <td>26795</td>\n",
       "      <td>NaN</td>\n",
       "      <td>NaN</td>\n",
       "      <td>NaN</td>\n",
       "      <td>NaN</td>\n",
       "      <td>NaN</td>\n",
       "      <td>NaN</td>\n",
       "      <td>NaN</td>\n",
       "    </tr>\n",
       "    <tr>\n",
       "      <th>secondary_diagnosis</th>\n",
       "      <td>71233</td>\n",
       "      <td>11</td>\n",
       "      <td>Main Category 4</td>\n",
       "      <td>27606</td>\n",
       "      <td>NaN</td>\n",
       "      <td>NaN</td>\n",
       "      <td>NaN</td>\n",
       "      <td>NaN</td>\n",
       "      <td>NaN</td>\n",
       "      <td>NaN</td>\n",
       "      <td>NaN</td>\n",
       "    </tr>\n",
       "    <tr>\n",
       "      <th>additional_diagnosis</th>\n",
       "      <td>71233</td>\n",
       "      <td>11</td>\n",
       "      <td>Main Category 4</td>\n",
       "      <td>24786</td>\n",
       "      <td>NaN</td>\n",
       "      <td>NaN</td>\n",
       "      <td>NaN</td>\n",
       "      <td>NaN</td>\n",
       "      <td>NaN</td>\n",
       "      <td>NaN</td>\n",
       "      <td>NaN</td>\n",
       "    </tr>\n",
       "    <tr>\n",
       "      <th>number_diagnoses</th>\n",
       "      <td>71233</td>\n",
       "      <td>NaN</td>\n",
       "      <td>NaN</td>\n",
       "      <td>NaN</td>\n",
       "      <td>7.42108</td>\n",
       "      <td>1.93778</td>\n",
       "      <td>1</td>\n",
       "      <td>6</td>\n",
       "      <td>8</td>\n",
       "      <td>9</td>\n",
       "      <td>16</td>\n",
       "    </tr>\n",
       "    <tr>\n",
       "      <th>glucose_test_result</th>\n",
       "      <td>71233</td>\n",
       "      <td>4</td>\n",
       "      <td>None</td>\n",
       "      <td>67545</td>\n",
       "      <td>NaN</td>\n",
       "      <td>NaN</td>\n",
       "      <td>NaN</td>\n",
       "      <td>NaN</td>\n",
       "      <td>NaN</td>\n",
       "      <td>NaN</td>\n",
       "      <td>NaN</td>\n",
       "    </tr>\n",
       "    <tr>\n",
       "      <th>a1c_test_result</th>\n",
       "      <td>71233</td>\n",
       "      <td>4</td>\n",
       "      <td>None</td>\n",
       "      <td>59317</td>\n",
       "      <td>NaN</td>\n",
       "      <td>NaN</td>\n",
       "      <td>NaN</td>\n",
       "      <td>NaN</td>\n",
       "      <td>NaN</td>\n",
       "      <td>NaN</td>\n",
       "      <td>NaN</td>\n",
       "    </tr>\n",
       "    <tr>\n",
       "      <th>change_in_meds_during_hospitalization</th>\n",
       "      <td>71233</td>\n",
       "      <td>2</td>\n",
       "      <td>No</td>\n",
       "      <td>38325</td>\n",
       "      <td>NaN</td>\n",
       "      <td>NaN</td>\n",
       "      <td>NaN</td>\n",
       "      <td>NaN</td>\n",
       "      <td>NaN</td>\n",
       "      <td>NaN</td>\n",
       "      <td>NaN</td>\n",
       "    </tr>\n",
       "    <tr>\n",
       "      <th>prescribed_diabetes_meds</th>\n",
       "      <td>71233</td>\n",
       "      <td>2</td>\n",
       "      <td>Yes</td>\n",
       "      <td>54888</td>\n",
       "      <td>NaN</td>\n",
       "      <td>NaN</td>\n",
       "      <td>NaN</td>\n",
       "      <td>NaN</td>\n",
       "      <td>NaN</td>\n",
       "      <td>NaN</td>\n",
       "      <td>NaN</td>\n",
       "    </tr>\n",
       "    <tr>\n",
       "      <th>medication</th>\n",
       "      <td>71233</td>\n",
       "      <td>2</td>\n",
       "      <td>1</td>\n",
       "      <td>54888</td>\n",
       "      <td>NaN</td>\n",
       "      <td>NaN</td>\n",
       "      <td>NaN</td>\n",
       "      <td>NaN</td>\n",
       "      <td>NaN</td>\n",
       "      <td>NaN</td>\n",
       "      <td>NaN</td>\n",
       "    </tr>\n",
       "    <tr>\n",
       "      <th>readmitted_binary</th>\n",
       "      <td>71233</td>\n",
       "      <td>NaN</td>\n",
       "      <td>NaN</td>\n",
       "      <td>NaN</td>\n",
       "      <td>0.111606</td>\n",
       "      <td>0.314883</td>\n",
       "      <td>0</td>\n",
       "      <td>0</td>\n",
       "      <td>0</td>\n",
       "      <td>0</td>\n",
       "      <td>1</td>\n",
       "    </tr>\n",
       "    <tr>\n",
       "      <th>readmitted_multiclass</th>\n",
       "      <td>71233</td>\n",
       "      <td>3</td>\n",
       "      <td>No</td>\n",
       "      <td>38402</td>\n",
       "      <td>NaN</td>\n",
       "      <td>NaN</td>\n",
       "      <td>NaN</td>\n",
       "      <td>NaN</td>\n",
       "      <td>NaN</td>\n",
       "      <td>NaN</td>\n",
       "      <td>NaN</td>\n",
       "    </tr>\n",
       "  </tbody>\n",
       "</table>\n",
       "</div>"
      ],
      "text/plain": [
       "                                       count unique                 top  \\\n",
       "encounter_id                           71233    NaN                 NaN   \n",
       "patient_id                             71233    NaN                 NaN   \n",
       "race                                   71233      5           Caucasian   \n",
       "gender                                 71233      2              Female   \n",
       "age                                    71233     10             [70-80)   \n",
       "payer_code                             71233      2                   1   \n",
       "outpatient_visits_in_previous_year     71233    NaN                 NaN   \n",
       "emergency_visits_in_previous_year      71233    NaN                 NaN   \n",
       "inpatient_visits_in_previous_year      71233    NaN                 NaN   \n",
       "admission_type                         71233      6           Emergency   \n",
       "average_pulse_bpm                      71233    NaN                 NaN   \n",
       "discharge_disposition                  71233      6      Home Discharge   \n",
       "admission_source                       71233      5  Emergency Services   \n",
       "length_of_stay_in_hospital             71233    NaN                 NaN   \n",
       "number_lab_tests                       71233    NaN                 NaN   \n",
       "non_lab_procedures                     71233    NaN                 NaN   \n",
       "number_of_medications                  71233    NaN                 NaN   \n",
       "primary_diagnosis                      71233     11     Main Category 4   \n",
       "secondary_diagnosis                    71233     11     Main Category 4   \n",
       "additional_diagnosis                   71233     11     Main Category 4   \n",
       "number_diagnoses                       71233    NaN                 NaN   \n",
       "glucose_test_result                    71233      4                None   \n",
       "a1c_test_result                        71233      4                None   \n",
       "change_in_meds_during_hospitalization  71233      2                  No   \n",
       "prescribed_diabetes_meds               71233      2                 Yes   \n",
       "medication                             71233      2                   1   \n",
       "readmitted_binary                      71233    NaN                 NaN   \n",
       "readmitted_multiclass                  71233      3                  No   \n",
       "\n",
       "                                        freq         mean          std  \\\n",
       "encounter_id                             NaN       548793       259699   \n",
       "patient_id                               NaN  5.43012e+07  3.87962e+07   \n",
       "race                                   55761          NaN          NaN   \n",
       "gender                                 38228          NaN          NaN   \n",
       "age                                    20914          NaN          NaN   \n",
       "payer_code                             43033          NaN          NaN   \n",
       "outpatient_visits_in_previous_year       NaN     0.369604      1.28749   \n",
       "emergency_visits_in_previous_year        NaN     0.196257     0.910872   \n",
       "inpatient_visits_in_previous_year        NaN     0.640181      1.26729   \n",
       "admission_type                         37740          NaN          NaN   \n",
       "average_pulse_bpm                        NaN       99.611      23.0409   \n",
       "discharge_disposition                  51604          NaN          NaN   \n",
       "admission_source                       40317          NaN          NaN   \n",
       "length_of_stay_in_hospital               NaN      4.39107      2.98872   \n",
       "number_lab_tests                         NaN       43.096      19.6427   \n",
       "non_lab_procedures                       NaN      1.34087      1.70664   \n",
       "number_of_medications                    NaN      15.9954      8.12238   \n",
       "primary_diagnosis                      26795          NaN          NaN   \n",
       "secondary_diagnosis                    27606          NaN          NaN   \n",
       "additional_diagnosis                   24786          NaN          NaN   \n",
       "number_diagnoses                         NaN      7.42108      1.93778   \n",
       "glucose_test_result                    67545          NaN          NaN   \n",
       "a1c_test_result                        59317          NaN          NaN   \n",
       "change_in_meds_during_hospitalization  38325          NaN          NaN   \n",
       "prescribed_diabetes_meds               54888          NaN          NaN   \n",
       "medication                             54888          NaN          NaN   \n",
       "readmitted_binary                        NaN     0.111606     0.314883   \n",
       "readmitted_multiclass                  38402          NaN          NaN   \n",
       "\n",
       "                                          min          25%          50%  \\\n",
       "encounter_id                           100000       323120       548350   \n",
       "patient_id                                135  2.33964e+07  4.53056e+07   \n",
       "race                                      NaN          NaN          NaN   \n",
       "gender                                    NaN          NaN          NaN   \n",
       "age                                       NaN          NaN          NaN   \n",
       "payer_code                                NaN          NaN          NaN   \n",
       "outpatient_visits_in_previous_year          0            0            0   \n",
       "emergency_visits_in_previous_year           0            0            0   \n",
       "inpatient_visits_in_previous_year           0            0            0   \n",
       "admission_type                            NaN          NaN          NaN   \n",
       "average_pulse_bpm                          60           80          100   \n",
       "discharge_disposition                     NaN          NaN          NaN   \n",
       "admission_source                          NaN          NaN          NaN   \n",
       "length_of_stay_in_hospital                  1            2            4   \n",
       "number_lab_tests                            1           31           44   \n",
       "non_lab_procedures                          0            0            1   \n",
       "number_of_medications                       1           10           15   \n",
       "primary_diagnosis                         NaN          NaN          NaN   \n",
       "secondary_diagnosis                       NaN          NaN          NaN   \n",
       "additional_diagnosis                      NaN          NaN          NaN   \n",
       "number_diagnoses                            1            6            8   \n",
       "glucose_test_result                       NaN          NaN          NaN   \n",
       "a1c_test_result                           NaN          NaN          NaN   \n",
       "change_in_meds_during_hospitalization     NaN          NaN          NaN   \n",
       "prescribed_diabetes_meds                  NaN          NaN          NaN   \n",
       "medication                                NaN          NaN          NaN   \n",
       "readmitted_binary                           0            0            0   \n",
       "readmitted_multiclass                     NaN          NaN          NaN   \n",
       "\n",
       "                                               75%          max  \n",
       "encounter_id                                774051       999980  \n",
       "patient_id                             8.75584e+07  1.89503e+08  \n",
       "race                                           NaN          NaN  \n",
       "gender                                         NaN          NaN  \n",
       "age                                            NaN          NaN  \n",
       "payer_code                                     NaN          NaN  \n",
       "outpatient_visits_in_previous_year               0           42  \n",
       "emergency_visits_in_previous_year                0           76  \n",
       "inpatient_visits_in_previous_year                1           21  \n",
       "admission_type                                 NaN          NaN  \n",
       "average_pulse_bpm                              119          139  \n",
       "discharge_disposition                          NaN          NaN  \n",
       "admission_source                               NaN          NaN  \n",
       "length_of_stay_in_hospital                       6           14  \n",
       "number_lab_tests                                57          121  \n",
       "non_lab_procedures                               2            6  \n",
       "number_of_medications                           20           75  \n",
       "primary_diagnosis                              NaN          NaN  \n",
       "secondary_diagnosis                            NaN          NaN  \n",
       "additional_diagnosis                           NaN          NaN  \n",
       "number_diagnoses                                 9           16  \n",
       "glucose_test_result                            NaN          NaN  \n",
       "a1c_test_result                                NaN          NaN  \n",
       "change_in_meds_during_hospitalization          NaN          NaN  \n",
       "prescribed_diabetes_meds                       NaN          NaN  \n",
       "medication                                     NaN          NaN  \n",
       "readmitted_binary                                0            1  \n",
       "readmitted_multiclass                          NaN          NaN  "
      ]
     },
     "execution_count": 280,
     "metadata": {},
     "output_type": "execute_result"
    }
   ],
   "source": [
    "# Data description\n",
    "df.describe(include='all').T"
   ]
  },
  {
   "cell_type": "markdown",
   "metadata": {
    "heading_collapsed": true
   },
   "source": [
    "# 2. Prelim Modeling"
   ]
  },
  {
   "cell_type": "code",
   "execution_count": 281,
   "metadata": {
    "hidden": true
   },
   "outputs": [],
   "source": [
    "target_cols = [\n",
    "    'readmitted_binary',\n",
    "    'readmitted_multiclass'\n",
    "]\n",
    "\n",
    "id_cols = [\n",
    "    'encounter_id',\n",
    "    'patient_id'\n",
    "]\n",
    "\n",
    "numerical_cols = [\n",
    "    'average_pulse_bpm',\n",
    "    'outpatient_visits_in_previous_year',\n",
    "    'emergency_visits_in_previous_year',\n",
    "    'inpatient_visits_in_previous_year',\n",
    "    'length_of_stay_in_hospital',\n",
    "    'number_lab_tests',\n",
    "    'non_lab_procedures',\n",
    "    'number_of_medications',\n",
    "    'number_diagnoses'\n",
    "]\n",
    "\n",
    "updated_categorical_cols = [\n",
    "    'race',\n",
    "    'gender',\n",
    "    'age',  # age bracket\n",
    "    'payer_code',\n",
    "    'admission_type',\n",
    "    'discharge_disposition',\n",
    "    'admission_source',\n",
    "    'primary_diagnosis',\n",
    "    'secondary_diagnosis',\n",
    "    'additional_diagnosis',\n",
    "    'glucose_test_result',\n",
    "    'a1c_test_result',\n",
    "    'change_in_meds_during_hospitalization',\n",
    "    'prescribed_diabetes_meds',\n",
    "    'medication'\n",
    "]"
   ]
  },
  {
   "cell_type": "code",
   "execution_count": 282,
   "metadata": {
    "hidden": true
   },
   "outputs": [],
   "source": [
    "# Apply moddeling\n",
    "# Assign explanatory and target variables\n",
    "X = df.drop(columns=id_cols+target_cols)\n",
    "y = df['readmitted_binary']"
   ]
  },
  {
   "cell_type": "code",
   "execution_count": 283,
   "metadata": {
    "hidden": true
   },
   "outputs": [],
   "source": [
    "# Split the data \n",
    "X_train, X_test, y_train, y_test = train_test_split(X,y, test_size = 0.3, \n",
    "                                                  random_state = 21, \n",
    "                                                  stratify = y, \n",
    "                                                  shuffle = True)"
   ]
  },
  {
   "cell_type": "markdown",
   "metadata": {
    "heading_collapsed": true,
    "hidden": true
   },
   "source": [
    "## Feature Selection"
   ]
  },
  {
   "cell_type": "markdown",
   "metadata": {
    "heading_collapsed": true,
    "hidden": true
   },
   "source": [
    "### Preliminary Selection"
   ]
  },
  {
   "cell_type": "code",
   "execution_count": 284,
   "metadata": {
    "hidden": true
   },
   "outputs": [],
   "source": [
    "# Split into categorical and numerical\n",
    "X_train_num = X_train.drop(columns=updated_categorical_cols)\n",
    "\n",
    "X_train_cat = X_train.drop(columns=numerical_cols)\n",
    "\n",
    "# Repeat for Test\n",
    "X_test_num = X_test.drop(columns=updated_categorical_cols)\n",
    "\n",
    "X_test_cat = X_test.drop(columns=numerical_cols)"
   ]
  },
  {
   "cell_type": "code",
   "execution_count": 285,
   "metadata": {
    "hidden": true
   },
   "outputs": [
    {
     "data": {
      "text/plain": [
       "array([[0.41666667, 0.        , 0.        , ..., 0.        , 0.09459459,\n",
       "        0.53333333],\n",
       "       [0.        , 0.        , 0.        , ..., 0.        , 0.18918919,\n",
       "        0.4       ],\n",
       "       [0.        , 0.        , 0.        , ..., 0.33333333, 0.44594595,\n",
       "        0.53333333],\n",
       "       ...,\n",
       "       [0.        , 0.        , 0.        , ..., 0.16666667, 0.16216216,\n",
       "        0.46666667],\n",
       "       [0.        , 0.        , 0.        , ..., 0.33333333, 0.36486486,\n",
       "        0.53333333],\n",
       "       [0.        , 0.        , 0.04761905, ..., 0.5       , 0.28378378,\n",
       "        0.53333333]])"
      ]
     },
     "execution_count": 285,
     "metadata": {},
     "output_type": "execute_result"
    }
   ],
   "source": [
    "# Normalize the numerical data using the MinMaxScaler\n",
    "#call function to scale the data\n",
    "scaler = MinMaxScaler()\n",
    "\n",
    "#fit to training data\n",
    "scaler.fit(X_train_num)\n",
    "\n",
    "#transform the data\n",
    "X_train_num_scaled = scaler.transform(X_train_num) # this will return an array\n",
    "\n",
    "#show results\n",
    "X_train_num_scaled"
   ]
  },
  {
   "cell_type": "code",
   "execution_count": 286,
   "metadata": {
    "hidden": true
   },
   "outputs": [
    {
     "data": {
      "text/html": [
       "<div>\n",
       "<style scoped>\n",
       "    .dataframe tbody tr th:only-of-type {\n",
       "        vertical-align: middle;\n",
       "    }\n",
       "\n",
       "    .dataframe tbody tr th {\n",
       "        vertical-align: top;\n",
       "    }\n",
       "\n",
       "    .dataframe thead th {\n",
       "        text-align: right;\n",
       "    }\n",
       "</style>\n",
       "<table border=\"1\" class=\"dataframe\">\n",
       "  <thead>\n",
       "    <tr style=\"text-align: right;\">\n",
       "      <th></th>\n",
       "      <th>outpatient_visits_in_previous_year</th>\n",
       "      <th>emergency_visits_in_previous_year</th>\n",
       "      <th>inpatient_visits_in_previous_year</th>\n",
       "      <th>average_pulse_bpm</th>\n",
       "      <th>length_of_stay_in_hospital</th>\n",
       "      <th>number_lab_tests</th>\n",
       "      <th>non_lab_procedures</th>\n",
       "      <th>number_of_medications</th>\n",
       "      <th>number_diagnoses</th>\n",
       "    </tr>\n",
       "  </thead>\n",
       "  <tbody>\n",
       "    <tr>\n",
       "      <th>32068</th>\n",
       "      <td>0.416667</td>\n",
       "      <td>0.000000</td>\n",
       "      <td>0.000000</td>\n",
       "      <td>0.139241</td>\n",
       "      <td>0.230769</td>\n",
       "      <td>0.591667</td>\n",
       "      <td>0.000000</td>\n",
       "      <td>0.094595</td>\n",
       "      <td>0.533333</td>\n",
       "    </tr>\n",
       "    <tr>\n",
       "      <th>50212</th>\n",
       "      <td>0.000000</td>\n",
       "      <td>0.000000</td>\n",
       "      <td>0.000000</td>\n",
       "      <td>0.329114</td>\n",
       "      <td>0.384615</td>\n",
       "      <td>0.533333</td>\n",
       "      <td>0.000000</td>\n",
       "      <td>0.189189</td>\n",
       "      <td>0.400000</td>\n",
       "    </tr>\n",
       "    <tr>\n",
       "      <th>10039</th>\n",
       "      <td>0.000000</td>\n",
       "      <td>0.000000</td>\n",
       "      <td>0.000000</td>\n",
       "      <td>0.405063</td>\n",
       "      <td>0.692308</td>\n",
       "      <td>0.475000</td>\n",
       "      <td>0.333333</td>\n",
       "      <td>0.445946</td>\n",
       "      <td>0.533333</td>\n",
       "    </tr>\n",
       "    <tr>\n",
       "      <th>12720</th>\n",
       "      <td>0.000000</td>\n",
       "      <td>0.000000</td>\n",
       "      <td>0.000000</td>\n",
       "      <td>0.987342</td>\n",
       "      <td>0.538462</td>\n",
       "      <td>0.491667</td>\n",
       "      <td>0.000000</td>\n",
       "      <td>0.391892</td>\n",
       "      <td>0.533333</td>\n",
       "    </tr>\n",
       "    <tr>\n",
       "      <th>44848</th>\n",
       "      <td>0.083333</td>\n",
       "      <td>0.015873</td>\n",
       "      <td>0.047619</td>\n",
       "      <td>0.911392</td>\n",
       "      <td>0.153846</td>\n",
       "      <td>0.325000</td>\n",
       "      <td>0.000000</td>\n",
       "      <td>0.256757</td>\n",
       "      <td>0.533333</td>\n",
       "    </tr>\n",
       "    <tr>\n",
       "      <th>...</th>\n",
       "      <td>...</td>\n",
       "      <td>...</td>\n",
       "      <td>...</td>\n",
       "      <td>...</td>\n",
       "      <td>...</td>\n",
       "      <td>...</td>\n",
       "      <td>...</td>\n",
       "      <td>...</td>\n",
       "      <td>...</td>\n",
       "    </tr>\n",
       "    <tr>\n",
       "      <th>60366</th>\n",
       "      <td>0.055556</td>\n",
       "      <td>0.000000</td>\n",
       "      <td>0.047619</td>\n",
       "      <td>0.379747</td>\n",
       "      <td>0.000000</td>\n",
       "      <td>0.291667</td>\n",
       "      <td>0.666667</td>\n",
       "      <td>0.283784</td>\n",
       "      <td>0.533333</td>\n",
       "    </tr>\n",
       "    <tr>\n",
       "      <th>47641</th>\n",
       "      <td>0.000000</td>\n",
       "      <td>0.000000</td>\n",
       "      <td>0.285714</td>\n",
       "      <td>0.379747</td>\n",
       "      <td>0.000000</td>\n",
       "      <td>0.516667</td>\n",
       "      <td>0.000000</td>\n",
       "      <td>0.040541</td>\n",
       "      <td>0.133333</td>\n",
       "    </tr>\n",
       "    <tr>\n",
       "      <th>5019</th>\n",
       "      <td>0.000000</td>\n",
       "      <td>0.000000</td>\n",
       "      <td>0.000000</td>\n",
       "      <td>0.784810</td>\n",
       "      <td>0.384615</td>\n",
       "      <td>0.591667</td>\n",
       "      <td>0.166667</td>\n",
       "      <td>0.162162</td>\n",
       "      <td>0.466667</td>\n",
       "    </tr>\n",
       "    <tr>\n",
       "      <th>7430</th>\n",
       "      <td>0.000000</td>\n",
       "      <td>0.000000</td>\n",
       "      <td>0.000000</td>\n",
       "      <td>0.949367</td>\n",
       "      <td>0.230769</td>\n",
       "      <td>0.491667</td>\n",
       "      <td>0.333333</td>\n",
       "      <td>0.364865</td>\n",
       "      <td>0.533333</td>\n",
       "    </tr>\n",
       "    <tr>\n",
       "      <th>70939</th>\n",
       "      <td>0.000000</td>\n",
       "      <td>0.000000</td>\n",
       "      <td>0.047619</td>\n",
       "      <td>0.367089</td>\n",
       "      <td>0.307692</td>\n",
       "      <td>0.258333</td>\n",
       "      <td>0.500000</td>\n",
       "      <td>0.283784</td>\n",
       "      <td>0.533333</td>\n",
       "    </tr>\n",
       "  </tbody>\n",
       "</table>\n",
       "<p>49863 rows × 9 columns</p>\n",
       "</div>"
      ],
      "text/plain": [
       "       outpatient_visits_in_previous_year  emergency_visits_in_previous_year  \\\n",
       "32068                            0.416667                           0.000000   \n",
       "50212                            0.000000                           0.000000   \n",
       "10039                            0.000000                           0.000000   \n",
       "12720                            0.000000                           0.000000   \n",
       "44848                            0.083333                           0.015873   \n",
       "...                                   ...                                ...   \n",
       "60366                            0.055556                           0.000000   \n",
       "47641                            0.000000                           0.000000   \n",
       "5019                             0.000000                           0.000000   \n",
       "7430                             0.000000                           0.000000   \n",
       "70939                            0.000000                           0.000000   \n",
       "\n",
       "       inpatient_visits_in_previous_year  average_pulse_bpm  \\\n",
       "32068                           0.000000           0.139241   \n",
       "50212                           0.000000           0.329114   \n",
       "10039                           0.000000           0.405063   \n",
       "12720                           0.000000           0.987342   \n",
       "44848                           0.047619           0.911392   \n",
       "...                                  ...                ...   \n",
       "60366                           0.047619           0.379747   \n",
       "47641                           0.285714           0.379747   \n",
       "5019                            0.000000           0.784810   \n",
       "7430                            0.000000           0.949367   \n",
       "70939                           0.047619           0.367089   \n",
       "\n",
       "       length_of_stay_in_hospital  number_lab_tests  non_lab_procedures  \\\n",
       "32068                    0.230769          0.591667            0.000000   \n",
       "50212                    0.384615          0.533333            0.000000   \n",
       "10039                    0.692308          0.475000            0.333333   \n",
       "12720                    0.538462          0.491667            0.000000   \n",
       "44848                    0.153846          0.325000            0.000000   \n",
       "...                           ...               ...                 ...   \n",
       "60366                    0.000000          0.291667            0.666667   \n",
       "47641                    0.000000          0.516667            0.000000   \n",
       "5019                     0.384615          0.591667            0.166667   \n",
       "7430                     0.230769          0.491667            0.333333   \n",
       "70939                    0.307692          0.258333            0.500000   \n",
       "\n",
       "       number_of_medications  number_diagnoses  \n",
       "32068               0.094595          0.533333  \n",
       "50212               0.189189          0.400000  \n",
       "10039               0.445946          0.533333  \n",
       "12720               0.391892          0.533333  \n",
       "44848               0.256757          0.533333  \n",
       "...                      ...               ...  \n",
       "60366               0.283784          0.533333  \n",
       "47641               0.040541          0.133333  \n",
       "5019                0.162162          0.466667  \n",
       "7430                0.364865          0.533333  \n",
       "70939               0.283784          0.533333  \n",
       "\n",
       "[49863 rows x 9 columns]"
      ]
     },
     "execution_count": 286,
     "metadata": {},
     "output_type": "execute_result"
    }
   ],
   "source": [
    "# Convert the array to a pandas dataframe\n",
    "X_train_num_scaled = pd.DataFrame(X_train_num_scaled, columns = X_train_num.columns).set_index(X_train.index)\n",
    "X_train_num_scaled"
   ]
  },
  {
   "cell_type": "code",
   "execution_count": 287,
   "metadata": {
    "hidden": true
   },
   "outputs": [
    {
     "data": {
      "text/html": [
       "<div>\n",
       "<style scoped>\n",
       "    .dataframe tbody tr th:only-of-type {\n",
       "        vertical-align: middle;\n",
       "    }\n",
       "\n",
       "    .dataframe tbody tr th {\n",
       "        vertical-align: top;\n",
       "    }\n",
       "\n",
       "    .dataframe thead th {\n",
       "        text-align: right;\n",
       "    }\n",
       "</style>\n",
       "<table border=\"1\" class=\"dataframe\">\n",
       "  <thead>\n",
       "    <tr style=\"text-align: right;\">\n",
       "      <th></th>\n",
       "      <th>outpatient_visits_in_previous_year</th>\n",
       "      <th>emergency_visits_in_previous_year</th>\n",
       "      <th>inpatient_visits_in_previous_year</th>\n",
       "      <th>average_pulse_bpm</th>\n",
       "      <th>length_of_stay_in_hospital</th>\n",
       "      <th>number_lab_tests</th>\n",
       "      <th>non_lab_procedures</th>\n",
       "      <th>number_of_medications</th>\n",
       "      <th>number_diagnoses</th>\n",
       "    </tr>\n",
       "  </thead>\n",
       "  <tbody>\n",
       "    <tr>\n",
       "      <th>14487</th>\n",
       "      <td>0.0</td>\n",
       "      <td>0.0</td>\n",
       "      <td>0.000000</td>\n",
       "      <td>0.860759</td>\n",
       "      <td>0.692308</td>\n",
       "      <td>0.375000</td>\n",
       "      <td>0.5</td>\n",
       "      <td>0.270270</td>\n",
       "      <td>0.466667</td>\n",
       "    </tr>\n",
       "    <tr>\n",
       "      <th>19398</th>\n",
       "      <td>0.0</td>\n",
       "      <td>0.0</td>\n",
       "      <td>0.000000</td>\n",
       "      <td>0.772152</td>\n",
       "      <td>0.000000</td>\n",
       "      <td>0.208333</td>\n",
       "      <td>0.0</td>\n",
       "      <td>0.121622</td>\n",
       "      <td>0.533333</td>\n",
       "    </tr>\n",
       "    <tr>\n",
       "      <th>29332</th>\n",
       "      <td>0.0</td>\n",
       "      <td>0.0</td>\n",
       "      <td>0.047619</td>\n",
       "      <td>0.696203</td>\n",
       "      <td>0.384615</td>\n",
       "      <td>0.325000</td>\n",
       "      <td>0.0</td>\n",
       "      <td>0.216216</td>\n",
       "      <td>0.533333</td>\n",
       "    </tr>\n",
       "  </tbody>\n",
       "</table>\n",
       "</div>"
      ],
      "text/plain": [
       "       outpatient_visits_in_previous_year  emergency_visits_in_previous_year  \\\n",
       "14487                                 0.0                                0.0   \n",
       "19398                                 0.0                                0.0   \n",
       "29332                                 0.0                                0.0   \n",
       "\n",
       "       inpatient_visits_in_previous_year  average_pulse_bpm  \\\n",
       "14487                           0.000000           0.860759   \n",
       "19398                           0.000000           0.772152   \n",
       "29332                           0.047619           0.696203   \n",
       "\n",
       "       length_of_stay_in_hospital  number_lab_tests  non_lab_procedures  \\\n",
       "14487                    0.692308          0.375000                 0.5   \n",
       "19398                    0.000000          0.208333                 0.0   \n",
       "29332                    0.384615          0.325000                 0.0   \n",
       "\n",
       "       number_of_medications  number_diagnoses  \n",
       "14487               0.270270          0.466667  \n",
       "19398               0.121622          0.533333  \n",
       "29332               0.216216          0.533333  "
      ]
     },
     "execution_count": 287,
     "metadata": {},
     "output_type": "execute_result"
    }
   ],
   "source": [
    "# Same for test set\n",
    "X_test_num_scaled = scaler.transform(X_test_num)\n",
    "X_test_num_scaled = pd.DataFrame(X_test_num_scaled, columns = X_test_num.columns).set_index(X_test.index)\n",
    "X_test_num_scaled.head(3)"
   ]
  },
  {
   "cell_type": "code",
   "execution_count": 288,
   "metadata": {
    "hidden": true
   },
   "outputs": [
    {
     "data": {
      "text/plain": [
       "emergency_visits_in_previous_year     0.000204\n",
       "outpatient_visits_in_previous_year    0.001229\n",
       "inpatient_visits_in_previous_year     0.003577\n",
       "number_of_medications                 0.011953\n",
       "number_diagnoses                      0.016618\n",
       "number_lab_tests                      0.026789\n",
       "length_of_stay_in_hospital            0.053131\n",
       "non_lab_procedures                    0.080653\n",
       "average_pulse_bpm                     0.085197\n",
       "dtype: float64"
      ]
     },
     "execution_count": 288,
     "metadata": {},
     "output_type": "execute_result"
    }
   ],
   "source": [
    "# Check for variance in numerical variables\n",
    "X_train_num_scaled.var().sort_values()"
   ]
  },
  {
   "cell_type": "code",
   "execution_count": 289,
   "metadata": {
    "hidden": true
   },
   "outputs": [],
   "source": [
    "# Heatmap function\n",
    "def cor_heatmap(cor):\n",
    "    plt.figure(figsize=(12,10))\n",
    "    sns.heatmap(data = cor, annot = True, cmap = plt.cm.Reds, fmt='.1')\n",
    "    plt.show()"
   ]
  },
  {
   "cell_type": "code",
   "execution_count": 290,
   "metadata": {
    "hidden": true
   },
   "outputs": [
    {
     "data": {
      "image/png": "[encoded data removed]",
      "text/plain": [
       "<Figure size 864x720 with 2 Axes>"
      ]
     },
     "metadata": {
      "needs_background": "light"
     },
     "output_type": "display_data"
    }
   ],
   "source": [
    "# Observe correlation between numerical variables\n",
    "cor_heatmap(X_train_num_scaled.corr(method ='spearman'))\n",
    "# No alarming observations"
   ]
  },
  {
   "cell_type": "code",
   "execution_count": 291,
   "metadata": {
    "hidden": true
   },
   "outputs": [],
   "source": [
    "# Chi-Square for categorical data\n",
    "def TestIndependence(X,y,var,alpha=0.05):        \n",
    "    dfObserved = pd.crosstab(y,X) \n",
    "    chi2, p, dof, expected = stats.chi2_contingency(dfObserved.values)\n",
    "    dfExpected = pd.DataFrame(expected, columns=dfObserved.columns, index = dfObserved.index)\n",
    "    if p<alpha:\n",
    "        result=\"{0} is IMPORTANT for Prediction\".format(var)\n",
    "    else:\n",
    "        result=\"{0} is NOT an important predictor. (Discard {0} from model)\".format(var)\n",
    "    print(result)"
   ]
  },
  {
   "cell_type": "code",
   "execution_count": 292,
   "metadata": {
    "hidden": true
   },
   "outputs": [
    {
     "name": "stdout",
     "output_type": "stream",
     "text": [
      "race is NOT an important predictor. (Discard race from model)\n",
      "gender is NOT an important predictor. (Discard gender from model)\n",
      "age is IMPORTANT for Prediction\n",
      "payer_code is IMPORTANT for Prediction\n",
      "admission_type is IMPORTANT for Prediction\n",
      "discharge_disposition is IMPORTANT for Prediction\n",
      "admission_source is IMPORTANT for Prediction\n",
      "primary_diagnosis is IMPORTANT for Prediction\n",
      "secondary_diagnosis is IMPORTANT for Prediction\n",
      "additional_diagnosis is IMPORTANT for Prediction\n",
      "glucose_test_result is NOT an important predictor. (Discard glucose_test_result from model)\n",
      "a1c_test_result is IMPORTANT for Prediction\n",
      "change_in_meds_during_hospitalization is IMPORTANT for Prediction\n",
      "prescribed_diabetes_meds is IMPORTANT for Prediction\n",
      "medication is IMPORTANT for Prediction\n"
     ]
    }
   ],
   "source": [
    "for var in X_train_cat:\n",
    "    TestIndependence(X_train_cat[var],y_train, var)"
   ]
  },
  {
   "cell_type": "code",
   "execution_count": 293,
   "metadata": {
    "hidden": true
   },
   "outputs": [],
   "source": [
    "# According to the chi-square test we should discard 'race', 'gender' and 'glucose_test_result'"
   ]
  },
  {
   "cell_type": "code",
   "execution_count": 294,
   "metadata": {
    "hidden": true,
    "scrolled": true
   },
   "outputs": [
    {
     "data": {
      "image/png": "[encoded data removed]",
      "text/plain": [
       "<Figure size 1080x360 with 2 Axes>"
      ]
     },
     "metadata": {
      "needs_background": "light"
     },
     "output_type": "display_data"
    }
   ],
   "source": [
    "# first join all the training data\n",
    "all_train = X_train.join(y_train)\n",
    "\n",
    "\n",
    "def bar_charts_categorical(df, feature, target):\n",
    "    cont_tab = pd.crosstab(df[feature], df[target], margins = True)\n",
    "    categories = cont_tab.index[:-1]\n",
    "        \n",
    "    fig = plt.figure(figsize=(15, 5))\n",
    "    \n",
    "    plt.subplot(121)\n",
    "    p1 = plt.bar(categories, cont_tab.iloc[:-1, 0].values, 0.55, color=\"gray\")\n",
    "    p2 = plt.bar(categories, cont_tab.iloc[:-1, 1].values, 0.55, bottom=cont_tab.iloc[:-1, 0], color=\"yellowgreen\")\n",
    "    plt.legend((p2[0], p1[0]), ('$y_i=1$', '$y_i=0$'))\n",
    "    plt.title(\"Frequency bar chart\")\n",
    "    plt.xlabel(feature)\n",
    "    plt.ylabel(\"$Frequency$\")\n",
    "\n",
    "    # auxiliary data for 122\n",
    "    obs_pct = np.array([np.divide(cont_tab.iloc[:-1, 0].values, cont_tab.iloc[:-1, 2].values), \n",
    "                        np.divide(cont_tab.iloc[:-1, 1].values, cont_tab.iloc[:-1, 2].values)])\n",
    "      \n",
    "    plt.subplot(122)\n",
    "    p1 = plt.bar(categories, obs_pct[0], 0.55, color=\"gray\")\n",
    "    p2 = plt.bar(categories, obs_pct[1], 0.55, bottom=obs_pct[0], color=\"yellowgreen\")\n",
    "    plt.legend((p2[0], p1[0]), ('$y_i=1$', '$y_i=0$'))\n",
    "    plt.title(\"Proportion bar chart\")\n",
    "    plt.xlabel(feature)\n",
    "    plt.ylabel(\"$p$\")\n",
    "\n",
    "    plt.show()\n",
    "    \n",
    "bar_charts_categorical(all_train, \"medication\", \"readmitted_binary\")"
   ]
  },
  {
   "cell_type": "code",
   "execution_count": 295,
   "metadata": {
    "hidden": true
   },
   "outputs": [],
   "source": [
    "# The first plot will represent the frequency of each value of the dependent variable in the different categories,\n",
    "# and the second plot will make this representation more intuitive by checking the proportion of the presence of \n",
    "# each label of the depedent variable in each category."
   ]
  },
  {
   "cell_type": "markdown",
   "metadata": {
    "hidden": true
   },
   "source": [
    "- For Categorical Data -> drop race ; gender ; glucose_test_result"
   ]
  },
  {
   "cell_type": "markdown",
   "metadata": {
    "heading_collapsed": true,
    "hidden": true
   },
   "source": [
    "### Wrapper Methods"
   ]
  },
  {
   "cell_type": "markdown",
   "metadata": {
    "hidden": true
   },
   "source": [
    "- **RFE**\n",
    "\n",
    "Recursive Feature Elimination (RFE / Backwards) will allow to select the most important features to keep. RFE uses a predictive model to run multiple times, always removing the \"least important\" variable before running again."
   ]
  },
  {
   "cell_type": "code",
   "execution_count": 296,
   "metadata": {
    "hidden": true
   },
   "outputs": [],
   "source": [
    "log_model = LogisticRegression()"
   ]
  },
  {
   "cell_type": "code",
   "execution_count": 297,
   "metadata": {
    "hidden": true
   },
   "outputs": [],
   "source": [
    "# Using RFE, create a RFE instance called rfe\n",
    "rfe = RFE(estimator = log_model, n_features_to_select = 3)"
   ]
  },
  {
   "cell_type": "code",
   "execution_count": 298,
   "metadata": {
    "hidden": true
   },
   "outputs": [],
   "source": [
    "# Transform the data using RFE by applying the method fit_transform() to the instance rfe, where X should be assigned to \n",
    "# your independent variables and y to the dependent variable and assign it to the object X_rfe\n",
    "X_rfe = rfe.fit_transform(X = X_train_num_scaled, y = y_train)"
   ]
  },
  {
   "cell_type": "code",
   "execution_count": 299,
   "metadata": {
    "hidden": true
   },
   "outputs": [
    {
     "name": "stdout",
     "output_type": "stream",
     "text": [
      "Index(['outpatient_visits_in_previous_year',\n",
      "       'emergency_visits_in_previous_year',\n",
      "       'inpatient_visits_in_previous_year', 'average_pulse_bpm',\n",
      "       'length_of_stay_in_hospital', 'number_lab_tests', 'non_lab_procedures',\n",
      "       'number_of_medications', 'number_diagnoses'],\n",
      "      dtype='object')\n",
      "[False  True  True False False False False False  True]\n"
     ]
    }
   ],
   "source": [
    "# Check the variables that were selected by RFE as the most \"important\" ones\n",
    "print(X_train_num_scaled.columns)\n",
    "print(rfe.support_)"
   ]
  },
  {
   "cell_type": "code",
   "execution_count": 300,
   "metadata": {
    "hidden": true
   },
   "outputs": [
    {
     "data": {
      "text/plain": [
       "array([3, 1, 1, 6, 2, 7, 5, 4, 1])"
      ]
     },
     "execution_count": 300,
     "metadata": {},
     "output_type": "execute_result"
    }
   ],
   "source": [
    "# The ranking of the variables defined by RFE as the most \"important\" ones\n",
    "rfe.ranking_"
   ]
  },
  {
   "cell_type": "code",
   "execution_count": 301,
   "metadata": {
    "hidden": true
   },
   "outputs": [
    {
     "data": {
      "text/plain": [
       "outpatient_visits_in_previous_year    False\n",
       "emergency_visits_in_previous_year      True\n",
       "inpatient_visits_in_previous_year      True\n",
       "average_pulse_bpm                     False\n",
       "length_of_stay_in_hospital            False\n",
       "number_lab_tests                      False\n",
       "non_lab_procedures                    False\n",
       "number_of_medications                 False\n",
       "number_diagnoses                       True\n",
       "dtype: bool"
      ]
     },
     "execution_count": 301,
     "metadata": {},
     "output_type": "execute_result"
    }
   ],
   "source": [
    "selected_features = pd.Series(rfe.support_, index = X_train_num_scaled.columns)\n",
    "selected_features"
   ]
  },
  {
   "cell_type": "code",
   "execution_count": 302,
   "metadata": {
    "hidden": true
   },
   "outputs": [
    {
     "name": "stdout",
     "output_type": "stream",
     "text": [
      "Optimum number of features: 6\n",
      "Score with 6 features: 0.888629\n"
     ]
    }
   ],
   "source": [
    "# Number of features\n",
    "nof_list=np.arange(1,10)            \n",
    "high_score=0\n",
    "\n",
    "# Variable to store the optimum features\n",
    "nof=0           \n",
    "train_score_list =[]\n",
    "test_score_list = []\n",
    "\n",
    "for n in range(len(nof_list)):\n",
    "    model = LogisticRegression()\n",
    "    \n",
    "    rfe = RFE(estimator = model,n_features_to_select = nof_list[n])\n",
    "    X_train_rfe = rfe.fit_transform(X_train_num_scaled,y_train)\n",
    "    X_test_rfe = rfe.transform(X_test_num_scaled)\n",
    "    model.fit(X_train_rfe,y_train)\n",
    "    \n",
    "    # Storing results on training data\n",
    "    train_score = model.score(X_train_rfe,y_train)\n",
    "    train_score_list.append(train_score)\n",
    "    \n",
    "    # Storing results on training data\n",
    "    test_score = model.score(X_test_rfe,y_test)\n",
    "    test_score_list.append(test_score)\n",
    "    \n",
    "    # Check best score\n",
    "    if(test_score >= high_score):\n",
    "        high_score = test_score\n",
    "        nof = nof_list[n]\n",
    "print(\"Optimum number of features: %d\" %nof)\n",
    "print(\"Score with %d features: %f\" % (nof, high_score))"
   ]
  },
  {
   "cell_type": "code",
   "execution_count": 303,
   "metadata": {
    "hidden": true
   },
   "outputs": [
    {
     "name": "stdout",
     "output_type": "stream",
     "text": [
      "LogisticRegression() Optimum number of features: 2\n",
      "LogisticRegression() Score with 2 features: 0.036261\n",
      "DecisionTreeClassifier() Optimum number of features: 8\n",
      "DecisionTreeClassifier() Score with 8 features: 0.145543\n"
     ]
    }
   ],
   "source": [
    "# Number of features\n",
    "nof_list=np.arange(1,10)            \n",
    "high_score=0\n",
    "\n",
    "# Variable to store the optimum features\n",
    "nof=0           \n",
    "f1_train_score_list =[]\n",
    "f1_test_score_list = []\n",
    "\n",
    "for n in range(len(nof_list)):\n",
    "    model = LogisticRegression()\n",
    "    \n",
    "    rfe = RFE(estimator = model,n_features_to_select = nof_list[n])\n",
    "    X_train_rfe = rfe.fit_transform(X_train_num_scaled,y_train)\n",
    "    X_test_rfe = rfe.transform(X_test_num_scaled)\n",
    "    model.fit(X_train_rfe,y_train)\n",
    "    \n",
    "    # Storing results on training data\n",
    "    y_pred_train = model.predict(X_train_rfe)\n",
    "    f1_train_score = f1_score(y_pred_train,y_train)\n",
    "    f1_train_score_list.append(f1_train_score)\n",
    "    \n",
    "    # Storing results on training data\n",
    "    y_pred_test = model.predict(X_test_rfe)\n",
    "    f1_test_score = f1_score(y_pred_test,y_test)\n",
    "    f1_test_score_list.append(f1_test_score)\n",
    "    \n",
    "    # Check best score\n",
    "    if(f1_test_score >= high_score):\n",
    "        high_score = f1_test_score\n",
    "        nof = nof_list[n]\n",
    "print(f\"{model} Optimum number of features: %d\" %nof)\n",
    "print(f\"{model} Score with %d features: %f\" % (nof, high_score))\n",
    "\n",
    "\n",
    "# Number of features\n",
    "nof_list=np.arange(1,10)            \n",
    "high_score=0\n",
    "\n",
    "# Variable to store the optimum features\n",
    "nof=0           \n",
    "f1_train_score_list =[]\n",
    "f1_test_score_list = []\n",
    "\n",
    "for n in range(len(nof_list)):\n",
    "    model = DecisionTreeClassifier()\n",
    "    \n",
    "    rfe = RFE(estimator = model,n_features_to_select = nof_list[n])\n",
    "    X_train_rfe = rfe.fit_transform(X_train_num_scaled,y_train)\n",
    "    X_test_rfe = rfe.transform(X_test_num_scaled)\n",
    "    model.fit(X_train_rfe,y_train)\n",
    "    \n",
    "    # Storing results on training data\n",
    "    y_pred_train = model.predict(X_train_rfe)\n",
    "    f1_train_score = f1_score(y_pred_train,y_train)\n",
    "    f1_train_score_list.append(f1_train_score)\n",
    "    \n",
    "    # Storing results on training data\n",
    "    y_pred_test = model.predict(X_test_rfe)\n",
    "    f1_test_score = f1_score(y_pred_test,y_test)\n",
    "    f1_test_score_list.append(f1_test_score)\n",
    "    \n",
    "    # Check best score\n",
    "    if(f1_test_score >= high_score):\n",
    "        high_score = f1_test_score\n",
    "        nof = nof_list[n]\n",
    "print(f\"{model} Optimum number of features: %d\" %nof)\n",
    "print(f\"{model} Score with %d features: %f\" % (nof, high_score))"
   ]
  },
  {
   "cell_type": "markdown",
   "metadata": {
    "hidden": true
   },
   "source": [
    "- According to RFE using Logistic Regression, the best number of numerical features to use for this data is 6 and we know, from before, that the numerical variables that we should drop are average_pulse_bpm, number_lab_tests and non_lab_procedures"
   ]
  },
  {
   "cell_type": "code",
   "execution_count": 304,
   "metadata": {
    "hidden": true,
    "scrolled": true
   },
   "outputs": [],
   "source": [
    "# #no of features\n",
    "# nof_list=np.arange(1,10)            \n",
    "# high_score=0\n",
    "# #Variable to store the optimum features\n",
    "# nof=0           \n",
    "# train_score_list =[]\n",
    "# test_score_list = []\n",
    "# \n",
    "# for n in range(len(nof_list)):\n",
    "#     #call support vector machines classifier\n",
    "#     model = SVC(kernel = 'linear')\n",
    "#     \n",
    "#     #create RFE instance\n",
    "#     rfe = RFE(estimator = model,n_features_to_select = nof_list[n])\n",
    "#     \n",
    "#     #fit and transform for training data, transform for val data\n",
    "#     X_train_rfe = rfe.fit_transform(X_train_num_scaled,y_train)\n",
    "#     X_test_rfe = rfe.transform(X_test_num_scaled)\n",
    "#     \n",
    "#     model.fit(X_train_rfe,y_train)\n",
    "#     \n",
    "#     #storing results on training data\n",
    "#     train_score = model.score(X_train_rfe,y_train)\n",
    "#     train_score_list.append(train_score)\n",
    "#     \n",
    "#     #storing results on training data\n",
    "#     test_score = model.score(X_test_rfe,y_test)\n",
    "#     test_score_list.append(test_score)\n",
    "#     \n",
    "#     #check best score\n",
    "#     if(test_score > high_score):\n",
    "#         high_score = test_score\n",
    "#         nof = nof_list[n]\n",
    "#         \n",
    "#         #adding mention of variables to keep\n",
    "#         features_to_select = pd.Series(rfe.support_, index = X_train_num_scaled.columns)\n",
    "#         \n",
    "# print(\"Optimum number of features: %d\" %nof)\n",
    "# print(\"Score with %d features: %f\" % (nof, high_score))\n",
    "# print(f\"Features to select: \\n{features_to_select}\")"
   ]
  },
  {
   "attachments": {
    "image.png": {
     "image/png": "[encoded data removed]"
    }
   },
   "cell_type": "markdown",
   "metadata": {
    "hidden": true
   },
   "source": [
    "![image.png](attachment:image.png)"
   ]
  },
  {
   "cell_type": "markdown",
   "metadata": {
    "heading_collapsed": true,
    "hidden": true
   },
   "source": [
    "### Embedded Methods"
   ]
  },
  {
   "cell_type": "markdown",
   "metadata": {
    "hidden": true
   },
   "source": [
    "- **Lasso Regression**"
   ]
  },
  {
   "cell_type": "code",
   "execution_count": 305,
   "metadata": {
    "hidden": true
   },
   "outputs": [],
   "source": [
    "# Function to plot the importance of the features\n",
    "def plot_importance(coef,name):\n",
    "    imp_coef = coef.sort_values()\n",
    "    plt.figure(figsize=(8,10))\n",
    "    imp_coef.plot(kind = \"barh\")\n",
    "    plt.title(\"Feature importance using \" + name + \" Model\")\n",
    "    plt.show()"
   ]
  },
  {
   "cell_type": "code",
   "execution_count": 306,
   "metadata": {
    "hidden": true
   },
   "outputs": [],
   "source": [
    "reg = LassoCV()"
   ]
  },
  {
   "cell_type": "code",
   "execution_count": 307,
   "metadata": {
    "hidden": true
   },
   "outputs": [],
   "source": [
    "# Use label encoding to convert categorical values into numerical values\n",
    "label_encoder = LabelEncoder()\n",
    "y_train_encoded = label_encoder.fit_transform(y_train)"
   ]
  },
  {
   "cell_type": "code",
   "execution_count": 308,
   "metadata": {
    "hidden": true,
    "scrolled": true
   },
   "outputs": [
    {
     "data": {
      "text/html": [
       "<style>#sk-container-id-2 {color: black;}#sk-container-id-2 pre{padding: 0;}#sk-container-id-2 div.sk-toggleable {background-color: white;}#sk-container-id-2 label.sk-toggleable__label {cursor: pointer;display: block;width: 100%;margin-bottom: 0;padding: 0.3em;box-sizing: border-box;text-align: center;}#sk-container-id-2 label.sk-toggleable__label-arrow:before {content: \"▸\";float: left;margin-right: 0.25em;color: #696969;}#sk-container-id-2 label.sk-toggleable__label-arrow:hover:before {color: black;}#sk-container-id-2 div.sk-estimator:hover label.sk-toggleable__label-arrow:before {color: black;}#sk-container-id-2 div.sk-toggleable__content {max-height: 0;max-width: 0;overflow: hidden;text-align: left;background-color: #f0f8ff;}#sk-container-id-2 div.sk-toggleable__content pre {margin: 0.2em;color: black;border-radius: 0.25em;background-color: #f0f8ff;}#sk-container-id-2 input.sk-toggleable__control:checked~div.sk-toggleable__content {max-height: 200px;max-width: 100%;overflow: auto;}#sk-container-id-2 input.sk-toggleable__control:checked~label.sk-toggleable__label-arrow:before {content: \"▾\";}#sk-container-id-2 div.sk-estimator input.sk-toggleable__control:checked~label.sk-toggleable__label {background-color: #d4ebff;}#sk-container-id-2 div.sk-label input.sk-toggleable__control:checked~label.sk-toggleable__label {background-color: #d4ebff;}#sk-container-id-2 input.sk-hidden--visually {border: 0;clip: rect(1px 1px 1px 1px);clip: rect(1px, 1px, 1px, 1px);height: 1px;margin: -1px;overflow: hidden;padding: 0;position: absolute;width: 1px;}#sk-container-id-2 div.sk-estimator {font-family: monospace;background-color: #f0f8ff;border: 1px dotted black;border-radius: 0.25em;box-sizing: border-box;margin-bottom: 0.5em;}#sk-container-id-2 div.sk-estimator:hover {background-color: #d4ebff;}#sk-container-id-2 div.sk-parallel-item::after {content: \"\";width: 100%;border-bottom: 1px solid gray;flex-grow: 1;}#sk-container-id-2 div.sk-label:hover label.sk-toggleable__label {background-color: #d4ebff;}#sk-container-id-2 div.sk-serial::before {content: \"\";position: absolute;border-left: 1px solid gray;box-sizing: border-box;top: 0;bottom: 0;left: 50%;z-index: 0;}#sk-container-id-2 div.sk-serial {display: flex;flex-direction: column;align-items: center;background-color: white;padding-right: 0.2em;padding-left: 0.2em;position: relative;}#sk-container-id-2 div.sk-item {position: relative;z-index: 1;}#sk-container-id-2 div.sk-parallel {display: flex;align-items: stretch;justify-content: center;background-color: white;position: relative;}#sk-container-id-2 div.sk-item::before, #sk-container-id-2 div.sk-parallel-item::before {content: \"\";position: absolute;border-left: 1px solid gray;box-sizing: border-box;top: 0;bottom: 0;left: 50%;z-index: -1;}#sk-container-id-2 div.sk-parallel-item {display: flex;flex-direction: column;z-index: 1;position: relative;background-color: white;}#sk-container-id-2 div.sk-parallel-item:first-child::after {align-self: flex-end;width: 50%;}#sk-container-id-2 div.sk-parallel-item:last-child::after {align-self: flex-start;width: 50%;}#sk-container-id-2 div.sk-parallel-item:only-child::after {width: 0;}#sk-container-id-2 div.sk-dashed-wrapped {border: 1px dashed gray;margin: 0 0.4em 0.5em 0.4em;box-sizing: border-box;padding-bottom: 0.4em;background-color: white;}#sk-container-id-2 div.sk-label label {font-family: monospace;font-weight: bold;display: inline-block;line-height: 1.2em;}#sk-container-id-2 div.sk-label-container {text-align: center;}#sk-container-id-2 div.sk-container {/* jupyter's `normalize.less` sets `[hidden] { display: none; }` but bootstrap.min.css set `[hidden] { display: none !important; }` so we also need the `!important` here to be able to override the default hidden behavior on the sphinx rendered scikit-learn.org. See: https://github.com/scikit-learn/scikit-learn/issues/21755 */display: inline-block !important;position: relative;}#sk-container-id-2 div.sk-text-repr-fallback {display: none;}</style><div id=\"sk-container-id-2\" class=\"sk-top-container\"><div class=\"sk-text-repr-fallback\"><pre>LassoCV()</pre><b>In a Jupyter environment, please rerun this cell to show the HTML representation or trust the notebook. <br />On GitHub, the HTML representation is unable to render, please try loading this page with nbviewer.org.</b></div><div class=\"sk-container\" hidden><div class=\"sk-item\"><div class=\"sk-estimator sk-toggleable\"><input class=\"sk-toggleable__control sk-hidden--visually\" id=\"sk-estimator-id-2\" type=\"checkbox\" checked><label for=\"sk-estimator-id-2\" class=\"sk-toggleable__label sk-toggleable__label-arrow\">LassoCV</label><div class=\"sk-toggleable__content\"><pre>LassoCV()</pre></div></div></div></div></div>"
      ],
      "text/plain": [
       "LassoCV()"
      ]
     },
     "execution_count": 308,
     "metadata": {},
     "output_type": "execute_result"
    }
   ],
   "source": [
    "reg.fit(X_train_num_scaled, y_train_encoded)"
   ]
  },
  {
   "cell_type": "code",
   "execution_count": 309,
   "metadata": {
    "hidden": true
   },
   "outputs": [
    {
     "data": {
      "text/plain": [
       "outpatient_visits_in_previous_year    0.000000\n",
       "emergency_visits_in_previous_year     0.000000\n",
       "inpatient_visits_in_previous_year     0.832773\n",
       "average_pulse_bpm                    -0.005117\n",
       "length_of_stay_in_hospital            0.028447\n",
       "number_lab_tests                      0.001161\n",
       "non_lab_procedures                   -0.013108\n",
       "number_of_medications                 0.022983\n",
       "number_diagnoses                      0.065549\n",
       "dtype: float64"
      ]
     },
     "execution_count": 309,
     "metadata": {},
     "output_type": "execute_result"
    }
   ],
   "source": [
    "coef = pd.Series(reg.coef_, index = X_train_num_scaled.columns)\n",
    "coef"
   ]
  },
  {
   "cell_type": "code",
   "execution_count": 310,
   "metadata": {
    "hidden": true
   },
   "outputs": [
    {
     "name": "stdout",
     "output_type": "stream",
     "text": [
      "Lasso picked 7 variables and eliminated the other 2 variables\n"
     ]
    }
   ],
   "source": [
    "print(\"Lasso picked \" + str(sum(coef != 0)) + \" variables and eliminated the other \" +  str(sum(coef == 0)) + \" variables\")"
   ]
  },
  {
   "cell_type": "code",
   "execution_count": 311,
   "metadata": {
    "hidden": true
   },
   "outputs": [
    {
     "data": {
      "image/png": "[encoded data removed]",
      "text/plain": [
       "<Figure size 576x720 with 1 Axes>"
      ]
     },
     "metadata": {
      "needs_background": "light"
     },
     "output_type": "display_data"
    }
   ],
   "source": [
    "plot_importance(coef,'Lasso')"
   ]
  },
  {
   "cell_type": "markdown",
   "metadata": {
    "hidden": true
   },
   "source": [
    "- According to Lasso, we should remove outpatient_visits_in_previous_year and emergency_visits_in_previous_year (coef == 0)"
   ]
  },
  {
   "cell_type": "markdown",
   "metadata": {
    "heading_collapsed": true,
    "hidden": true
   },
   "source": [
    "##  Final Insights on Feature Selection"
   ]
  },
  {
   "cell_type": "markdown",
   "metadata": {
    "hidden": true
   },
   "source": [
    "- **Numerical Data**"
   ]
  },
  {
   "cell_type": "markdown",
   "metadata": {
    "hidden": true
   },
   "source": [
    "| Predictor                        | Spearman | RFE LR | Lasso | What to do? |\n",
    "| ------------------------------- | -------- | ------ | ----- | ---------------------------------------- |\n",
    "| outpatient_visits_in_previous_year    | Keep         | Keep       | Remove      | Remove                                         |\n",
    "| emergency_visits_in_previous_year     | Keep         | Keep       | Remove      | Remove                                         |\n",
    "| inpatient_visits_in_previous_year     | Keep         | Keep       | Keep      | Include in the model                                     |\n",
    "| average_pulse_bpm                    | Keep         | Remove       | Keep      | Remove?                                         |\n",
    "| length_of_stay_in_hospital           | Keep?         | Keep       | Keep      | Include in the model                                       |\n",
    "| number_lab_tests                     | Keep         | Remove       | Keep      | Remove?                                         |\n",
    "| non_lab_procedures                   | Keep         | Remove       | Keep      | Remove?                                         |\n",
    "| number_of_medications                | Keep?         | Keep       | Keep      | Include in the model                                          |\n",
    "| number_diagnoses                     | Keep         | Keep       | Keep      | Include in the model                                         |\n"
   ]
  },
  {
   "cell_type": "markdown",
   "metadata": {
    "hidden": true
   },
   "source": [
    "- **Categorical Data**"
   ]
  },
  {
   "cell_type": "markdown",
   "metadata": {
    "hidden": true
   },
   "source": [
    "| Predictor                                | Chi-Square | \n",
    "| ---------------------------------------- | ---------- | \n",
    "| race                                     | Remove     | \n",
    "| gender                                   | Remove     | \n",
    "| age (age bracket)                        | Keep       | \n",
    "| payer_code                               | Keep       | \n",
    "| admission_type                           | Keep       | \n",
    "| discharge_disposition                    | Keep       | \n",
    "| admission_source                         | Keep       | \n",
    "| primary_diagnosis                        | Keep       | \n",
    "| secondary_diagnosis                      | Keep       | \n",
    "| additional_diagnosis                     | Keep       | \n",
    "| glucose_test_result                      | Remove     | \n",
    "| a1c_test_result                          | Keep       | \n",
    "| change_in_meds_during_hospitalization   | Keep       | \n",
    "| prescribed_diabetes_meds                 | Keep       | \n",
    "| medication                               | Keep       | \n"
   ]
  },
  {
   "cell_type": "code",
   "execution_count": 312,
   "metadata": {
    "hidden": true
   },
   "outputs": [],
   "source": [
    "df = df.drop(columns=['outpatient_visits_in_previous_year','emergency_visits_in_previous_year',\n",
    "                      'average_pulse_bpm','number_lab_tests','non_lab_procedures','race',\n",
    "                     'gender','glucose_test_result'])"
   ]
  },
  {
   "cell_type": "markdown",
   "metadata": {
    "heading_collapsed": true
   },
   "source": [
    "# 3. Testing Binary"
   ]
  },
  {
   "cell_type": "code",
   "execution_count": 313,
   "metadata": {
    "hidden": true
   },
   "outputs": [],
   "source": [
    "target_cols = [\n",
    "    'readmitted_binary',\n",
    "    'readmitted_multiclass'\n",
    "]\n",
    "\n",
    "id_cols = [\n",
    "    'encounter_id',\n",
    "    'patient_id'\n",
    "]\n",
    "\n",
    "model_numerical_cols = [\n",
    "    'inpatient_visits_in_previous_year',\n",
    "    'length_of_stay_in_hospital',\n",
    "    'number_of_medications',\n",
    "    'number_diagnoses'\n",
    "]\n",
    "\n",
    "model_categorical_cols = [\n",
    "    'age',  # age bracket\n",
    "    'payer_code',\n",
    "    'admission_type',\n",
    "    'discharge_disposition',\n",
    "    'admission_source',\n",
    "    'primary_diagnosis',\n",
    "    'secondary_diagnosis',\n",
    "    'additional_diagnosis',\n",
    "    'a1c_test_result',\n",
    "    'change_in_meds_during_hospitalization',\n",
    "    'prescribed_diabetes_meds',\n",
    "    'medication'\n",
    "]"
   ]
  },
  {
   "cell_type": "code",
   "execution_count": 314,
   "metadata": {
    "hidden": true
   },
   "outputs": [],
   "source": [
    "encoded_categorical_cols = [\n",
    "    'age',  # age bracket\n",
    "    'admission_type',\n",
    "    'discharge_disposition',\n",
    "    'admission_source',\n",
    "    'primary_diagnosis',\n",
    "    'secondary_diagnosis',\n",
    "    'additional_diagnosis',\n",
    "    'a1c_test_result',\n",
    "    'change_in_meds_during_hospitalization',\n",
    "    'prescribed_diabetes_meds',\n",
    "]\n",
    "\n",
    "# Select the relevant categorical columns\n",
    "categorical_cols = df[encoded_categorical_cols]\n",
    "\n",
    "# Use one-hot encoding\n",
    "df_encoded = pd.get_dummies(categorical_cols, prefix=encoded_categorical_cols)\n",
    "\n",
    "# Replace the original categorical columns with the encoded ones\n",
    "df = pd.concat([df.drop(columns=encoded_categorical_cols), df_encoded], axis=1)"
   ]
  },
  {
   "cell_type": "code",
   "execution_count": 315,
   "metadata": {
    "hidden": true,
    "scrolled": false
   },
   "outputs": [
    {
     "data": {
      "text/html": [
       "<div>\n",
       "<style scoped>\n",
       "    .dataframe tbody tr th:only-of-type {\n",
       "        vertical-align: middle;\n",
       "    }\n",
       "\n",
       "    .dataframe tbody tr th {\n",
       "        vertical-align: top;\n",
       "    }\n",
       "\n",
       "    .dataframe thead th {\n",
       "        text-align: right;\n",
       "    }\n",
       "</style>\n",
       "<table border=\"1\" class=\"dataframe\">\n",
       "  <thead>\n",
       "    <tr style=\"text-align: right;\">\n",
       "      <th></th>\n",
       "      <th>encounter_id</th>\n",
       "      <th>patient_id</th>\n",
       "      <th>payer_code</th>\n",
       "      <th>inpatient_visits_in_previous_year</th>\n",
       "      <th>length_of_stay_in_hospital</th>\n",
       "      <th>number_of_medications</th>\n",
       "      <th>number_diagnoses</th>\n",
       "      <th>medication</th>\n",
       "      <th>readmitted_binary</th>\n",
       "      <th>readmitted_multiclass</th>\n",
       "      <th>...</th>\n",
       "      <th>additional_diagnosis_Supplementary Classification</th>\n",
       "      <th>additional_diagnosis_Uncategorized</th>\n",
       "      <th>a1c_test_result_&gt;7</th>\n",
       "      <th>a1c_test_result_&gt;8</th>\n",
       "      <th>a1c_test_result_None</th>\n",
       "      <th>a1c_test_result_Norm</th>\n",
       "      <th>change_in_meds_during_hospitalization_Ch</th>\n",
       "      <th>change_in_meds_during_hospitalization_No</th>\n",
       "      <th>prescribed_diabetes_meds_No</th>\n",
       "      <th>prescribed_diabetes_meds_Yes</th>\n",
       "    </tr>\n",
       "  </thead>\n",
       "  <tbody>\n",
       "    <tr>\n",
       "      <th>0</th>\n",
       "      <td>533253</td>\n",
       "      <td>70110</td>\n",
       "      <td>0</td>\n",
       "      <td>2</td>\n",
       "      <td>2</td>\n",
       "      <td>20</td>\n",
       "      <td>8</td>\n",
       "      <td>0</td>\n",
       "      <td>0</td>\n",
       "      <td>&gt;30 days</td>\n",
       "      <td>...</td>\n",
       "      <td>0</td>\n",
       "      <td>0</td>\n",
       "      <td>0</td>\n",
       "      <td>0</td>\n",
       "      <td>1</td>\n",
       "      <td>0</td>\n",
       "      <td>0</td>\n",
       "      <td>1</td>\n",
       "      <td>1</td>\n",
       "      <td>0</td>\n",
       "    </tr>\n",
       "    <tr>\n",
       "      <th>1</th>\n",
       "      <td>426224</td>\n",
       "      <td>29775006</td>\n",
       "      <td>0</td>\n",
       "      <td>0</td>\n",
       "      <td>14</td>\n",
       "      <td>25</td>\n",
       "      <td>9</td>\n",
       "      <td>1</td>\n",
       "      <td>0</td>\n",
       "      <td>No</td>\n",
       "      <td>...</td>\n",
       "      <td>0</td>\n",
       "      <td>0</td>\n",
       "      <td>0</td>\n",
       "      <td>0</td>\n",
       "      <td>1</td>\n",
       "      <td>0</td>\n",
       "      <td>0</td>\n",
       "      <td>1</td>\n",
       "      <td>0</td>\n",
       "      <td>1</td>\n",
       "    </tr>\n",
       "    <tr>\n",
       "      <th>2</th>\n",
       "      <td>634063</td>\n",
       "      <td>80729253</td>\n",
       "      <td>0</td>\n",
       "      <td>1</td>\n",
       "      <td>6</td>\n",
       "      <td>22</td>\n",
       "      <td>6</td>\n",
       "      <td>1</td>\n",
       "      <td>0</td>\n",
       "      <td>No</td>\n",
       "      <td>...</td>\n",
       "      <td>0</td>\n",
       "      <td>0</td>\n",
       "      <td>0</td>\n",
       "      <td>0</td>\n",
       "      <td>1</td>\n",
       "      <td>0</td>\n",
       "      <td>1</td>\n",
       "      <td>0</td>\n",
       "      <td>0</td>\n",
       "      <td>1</td>\n",
       "    </tr>\n",
       "    <tr>\n",
       "      <th>3</th>\n",
       "      <td>890610</td>\n",
       "      <td>2919042</td>\n",
       "      <td>1</td>\n",
       "      <td>1</td>\n",
       "      <td>6</td>\n",
       "      <td>9</td>\n",
       "      <td>5</td>\n",
       "      <td>0</td>\n",
       "      <td>0</td>\n",
       "      <td>No</td>\n",
       "      <td>...</td>\n",
       "      <td>0</td>\n",
       "      <td>0</td>\n",
       "      <td>0</td>\n",
       "      <td>0</td>\n",
       "      <td>1</td>\n",
       "      <td>0</td>\n",
       "      <td>0</td>\n",
       "      <td>1</td>\n",
       "      <td>1</td>\n",
       "      <td>0</td>\n",
       "    </tr>\n",
       "    <tr>\n",
       "      <th>4</th>\n",
       "      <td>654194</td>\n",
       "      <td>84871971</td>\n",
       "      <td>1</td>\n",
       "      <td>0</td>\n",
       "      <td>6</td>\n",
       "      <td>15</td>\n",
       "      <td>9</td>\n",
       "      <td>0</td>\n",
       "      <td>0</td>\n",
       "      <td>&gt;30 days</td>\n",
       "      <td>...</td>\n",
       "      <td>0</td>\n",
       "      <td>0</td>\n",
       "      <td>0</td>\n",
       "      <td>0</td>\n",
       "      <td>1</td>\n",
       "      <td>0</td>\n",
       "      <td>0</td>\n",
       "      <td>1</td>\n",
       "      <td>1</td>\n",
       "      <td>0</td>\n",
       "    </tr>\n",
       "  </tbody>\n",
       "</table>\n",
       "<p>5 rows × 78 columns</p>\n",
       "</div>"
      ],
      "text/plain": [
       "   encounter_id  patient_id payer_code  inpatient_visits_in_previous_year  \\\n",
       "0        533253       70110          0                                  2   \n",
       "1        426224    29775006          0                                  0   \n",
       "2        634063    80729253          0                                  1   \n",
       "3        890610     2919042          1                                  1   \n",
       "4        654194    84871971          1                                  0   \n",
       "\n",
       "   length_of_stay_in_hospital  number_of_medications  number_diagnoses  \\\n",
       "0                           2                     20                 8   \n",
       "1                          14                     25                 9   \n",
       "2                           6                     22                 6   \n",
       "3                           6                      9                 5   \n",
       "4                           6                     15                 9   \n",
       "\n",
       "  medication  readmitted_binary readmitted_multiclass  ...  \\\n",
       "0          0                  0              >30 days  ...   \n",
       "1          1                  0                    No  ...   \n",
       "2          1                  0                    No  ...   \n",
       "3          0                  0                    No  ...   \n",
       "4          0                  0              >30 days  ...   \n",
       "\n",
       "   additional_diagnosis_Supplementary Classification  \\\n",
       "0                                                  0   \n",
       "1                                                  0   \n",
       "2                                                  0   \n",
       "3                                                  0   \n",
       "4                                                  0   \n",
       "\n",
       "   additional_diagnosis_Uncategorized  a1c_test_result_>7  a1c_test_result_>8  \\\n",
       "0                                   0                   0                   0   \n",
       "1                                   0                   0                   0   \n",
       "2                                   0                   0                   0   \n",
       "3                                   0                   0                   0   \n",
       "4                                   0                   0                   0   \n",
       "\n",
       "   a1c_test_result_None  a1c_test_result_Norm  \\\n",
       "0                     1                     0   \n",
       "1                     1                     0   \n",
       "2                     1                     0   \n",
       "3                     1                     0   \n",
       "4                     1                     0   \n",
       "\n",
       "   change_in_meds_during_hospitalization_Ch  \\\n",
       "0                                         0   \n",
       "1                                         0   \n",
       "2                                         1   \n",
       "3                                         0   \n",
       "4                                         0   \n",
       "\n",
       "   change_in_meds_during_hospitalization_No  prescribed_diabetes_meds_No  \\\n",
       "0                                         1                            1   \n",
       "1                                         1                            0   \n",
       "2                                         0                            0   \n",
       "3                                         1                            1   \n",
       "4                                         1                            1   \n",
       "\n",
       "   prescribed_diabetes_meds_Yes  \n",
       "0                             0  \n",
       "1                             1  \n",
       "2                             1  \n",
       "3                             0  \n",
       "4                             0  \n",
       "\n",
       "[5 rows x 78 columns]"
      ]
     },
     "execution_count": 315,
     "metadata": {},
     "output_type": "execute_result"
    }
   ],
   "source": [
    "df.head()"
   ]
  },
  {
   "cell_type": "code",
   "execution_count": 316,
   "metadata": {
    "hidden": true
   },
   "outputs": [],
   "source": [
    "X = df.drop(columns=id_cols+target_cols)\n",
    "y = df['readmitted_binary']"
   ]
  },
  {
   "cell_type": "code",
   "execution_count": 317,
   "metadata": {
    "hidden": true
   },
   "outputs": [
    {
     "data": {
      "text/plain": [
       "0    63283\n",
       "1     7950\n",
       "Name: readmitted_binary, dtype: int64"
      ]
     },
     "execution_count": 317,
     "metadata": {},
     "output_type": "execute_result"
    }
   ],
   "source": [
    "df['readmitted_binary'].value_counts()"
   ]
  },
  {
   "cell_type": "code",
   "execution_count": 318,
   "metadata": {
    "hidden": true
   },
   "outputs": [],
   "source": [
    "X_train, X_test, y_train, y_test = train_test_split(X,y, test_size = 0.3,\n",
    "                                                                    random_state = 21,stratify = y,shuffle = True)"
   ]
  },
  {
   "cell_type": "code",
   "execution_count": 319,
   "metadata": {
    "hidden": true
   },
   "outputs": [],
   "source": [
    "X_train, X_test, y_train, y_test = train_test_split(X,y, test_size = 0.3,\n",
    "                                                                    random_state = 21)"
   ]
  },
  {
   "cell_type": "code",
   "execution_count": 320,
   "metadata": {
    "hidden": true
   },
   "outputs": [],
   "source": [
    "scaler = StandardScaler()\n",
    "\n",
    "X_train[model_numerical_cols] = scaler.fit_transform(X_train[model_numerical_cols])\n",
    "X_test[model_numerical_cols] = scaler.transform(X_test[model_numerical_cols])"
   ]
  },
  {
   "cell_type": "code",
   "execution_count": 321,
   "metadata": {
    "hidden": true,
    "scrolled": true
   },
   "outputs": [
    {
     "name": "stdout",
     "output_type": "stream",
     "text": [
      "[0 0 0 ... 0 0 0]\n"
     ]
    },
    {
     "data": {
      "text/plain": [
       "array([[18955,    41],\n",
       "       [ 2335,    39]], dtype=int64)"
      ]
     },
     "metadata": {},
     "output_type": "display_data"
    },
    {
     "name": "stdout",
     "output_type": "stream",
     "text": [
      "0.031784841075794615\n"
     ]
    }
   ],
   "source": [
    "log_model = LogisticRegression(max_iter=500)\n",
    "log_model.fit(X_train,y_train)\n",
    "y_pred = log_model.predict(X_test)\n",
    "print(y_pred)\n",
    "cm = confusion_matrix(y_test,y_pred)\n",
    "display(cm)\n",
    "f1 = f1_score(y_test, y_pred, pos_label=1)\n",
    "print(f1)"
   ]
  },
  {
   "cell_type": "code",
   "execution_count": 322,
   "metadata": {
    "hidden": true
   },
   "outputs": [
    {
     "data": {
      "text/plain": [
       "0.8879329362453121"
      ]
     },
     "execution_count": 322,
     "metadata": {},
     "output_type": "execute_result"
    }
   ],
   "source": [
    "log_model.score(X_train,y_train)"
   ]
  },
  {
   "cell_type": "markdown",
   "metadata": {
    "hidden": true
   },
   "source": [
    "### Tree Model"
   ]
  },
  {
   "cell_type": "code",
   "execution_count": 323,
   "metadata": {
    "hidden": true,
    "scrolled": true
   },
   "outputs": [
    {
     "name": "stdout",
     "output_type": "stream",
     "text": [
      "Best Hyperparameters: {'criterion': 'entropy', 'max_depth': 40, 'min_samples_leaf': 1, 'min_samples_split': 2}\n",
      "Classification Report:\n",
      "              precision    recall  f1-score   support\n",
      "\n",
      "           0       0.89      0.88      0.89     18996\n",
      "           1       0.15      0.16      0.15      2374\n",
      "\n",
      "    accuracy                           0.80     21370\n",
      "   macro avg       0.52      0.52      0.52     21370\n",
      "weighted avg       0.81      0.80      0.81     21370\n",
      "\n"
     ]
    }
   ],
   "source": [
    "# Create the decision tree classifier\n",
    "tree_model = DecisionTreeClassifier(random_state=42)\n",
    "\n",
    "# Define the hyperparameter grid\n",
    "param_grid = {\n",
    "    'criterion': ['gini', 'entropy'],\n",
    "    'max_depth': [None, 10, 20, 30, 40, 50],\n",
    "    'min_samples_split': [2, 5, 10],\n",
    "    'min_samples_leaf': [1, 2, 4]\n",
    "}\n",
    "\n",
    "# Create the GridSearchCV object\n",
    "grid_search = GridSearchCV(tree_model, param_grid, cv=5, scoring='f1', n_jobs=-1)\n",
    "\n",
    "# Fit the grid search to the data\n",
    "grid_search.fit(X_train, y_train)\n",
    "\n",
    "# Print the best hyperparameters\n",
    "print(\"Best Hyperparameters:\", grid_search.best_params_)\n",
    "\n",
    "# Get the best model\n",
    "best_tree_model = grid_search.best_estimator_\n",
    "\n",
    "# Evaluate the best model on the test set\n",
    "y_pred = best_tree_model.predict(X_test)\n",
    "\n",
    "# Print classification report or other metrics\n",
    "from sklearn.metrics import classification_report\n",
    "\n",
    "print(\"Classification Report:\")\n",
    "print(classification_report(y_test, y_pred))"
   ]
  },
  {
   "cell_type": "code",
   "execution_count": 325,
   "metadata": {
    "hidden": true
   },
   "outputs": [
    {
     "name": "stdout",
     "output_type": "stream",
     "text": [
      "Best Hyperparameters: {'criterion': 'entropy', 'max_depth': 30, 'min_samples_leaf': 2, 'min_samples_split': 5}\n",
      "Classification Report:\n",
      "              precision    recall  f1-score   support\n",
      "\n",
      "           0       0.89      0.95      0.92     18996\n",
      "           1       0.21      0.10      0.14      2374\n",
      "\n",
      "    accuracy                           0.86     21370\n",
      "   macro avg       0.55      0.53      0.53     21370\n",
      "weighted avg       0.82      0.86      0.84     21370\n",
      "\n"
     ]
    }
   ],
   "source": [
    "# Apply SMOTE to the training data to correct for target variable imbalance\n",
    "smote = SMOTE(random_state=42)\n",
    "X_train_smote, y_train_smote = smote.fit_resample(X_train, y_train)\n",
    "\n",
    "# Create the decision tree classifier\n",
    "tree_model = DecisionTreeClassifier(random_state=42)\n",
    "\n",
    "# Create the GridSearchCV object\n",
    "grid_search = GridSearchCV(tree_model, param_grid, cv=5, scoring='f1', n_jobs=-1)\n",
    "\n",
    "# Fit the grid search to the SMOTE-transformed training data\n",
    "grid_search.fit(X_train_smote, y_train_smote)\n",
    "\n",
    "# Print the best hyperparameters\n",
    "print(\"Best Hyperparameters:\", grid_search.best_params_)\n",
    "\n",
    "# Get the best model\n",
    "best_tree_model = grid_search.best_estimator_\n",
    "\n",
    "# Evaluate the best model on the test set\n",
    "y_pred = best_tree_model.predict(X_test)\n",
    "\n",
    "# Print classification report or other metrics\n",
    "print(\"Classification Report:\")\n",
    "print(classification_report(y_test, y_pred))"
   ]
  },
  {
   "cell_type": "code",
   "execution_count": null,
   "metadata": {
    "hidden": true
   },
   "outputs": [],
   "source": [
    "# Create the AdaBoost classifier using the best decision tree as the base estimator\n",
    "adaboost_model = AdaBoostClassifier(estimator=best_tree_model, n_estimators=100, random_state=42)\n",
    "\n",
    "# Fit the AdaBoost model to the SMOTE-transformed training data\n",
    "adaboost_model.fit(X_train, y_train)\n",
    "\n",
    "# Evaluate the AdaBoost model on the test set\n",
    "y_pred_adaboost = adaboost_model.predict(X_test)\n",
    "\n",
    "print(\"Classification Report for AdaBoost Model:\")\n",
    "print(classification_report(y_test, y_pred_adaboost))"
   ]
  },
  {
   "cell_type": "code",
   "execution_count": null,
   "metadata": {
    "hidden": true
   },
   "outputs": [],
   "source": [
    "X_train"
   ]
  },
  {
   "cell_type": "code",
   "execution_count": null,
   "metadata": {
    "hidden": true
   },
   "outputs": [],
   "source": [
    "#numberK_list=np.arange(1,21)\n",
    "#high_score=0\n",
    "#nof=0           \n",
    "#score_list_train =[]\n",
    "#score_list_test =[]\n",
    "#for n in numberK_list:\n",
    "#    model = KNeighborsClassifier(n_neighbors = n).fit(X_train_enc, y_train_enc)\n",
    "#    score_train = model.score(X_train_enc, y_train_enc)\n",
    "#    score_test = model.score(X_test_enc, y_test_enc)\n",
    "#    score_list_train.append(score_train)\n",
    "#    score_list_test.append(score_test)\n",
    "#    \n",
    "#    if(score_test>high_score):\n",
    "#        high_score = score_test\n",
    "#        nof = numberK_list[n-1]\n",
    "#print(\"Best number of neighbors: %d\" %nof)\n",
    "#print(\"Mean accuracy in train with %d neighbors: %f\" % (nof, score_list_train[nof-1]))\n",
    "#print(\"Mean accuracy in validation with %d neighbors: %f\" % (nof, high_score))"
   ]
  },
  {
   "cell_type": "markdown",
   "metadata": {
    "hidden": true
   },
   "source": [
    "- Correct target variable class imbalance"
   ]
  },
  {
   "cell_type": "code",
   "execution_count": null,
   "metadata": {
    "hidden": true
   },
   "outputs": [],
   "source": [
    "# Lets try oversampling to correct target variable imbalance\n",
    "smote = SMOTE(random_state=21)\n",
    "X_resampled, y_resampled = smote.fit_resample(X_train_enc, y_train_enc)"
   ]
  },
  {
   "cell_type": "code",
   "execution_count": null,
   "metadata": {
    "hidden": true,
    "scrolled": true
   },
   "outputs": [],
   "source": [
    "tree_model = DecisionTreeClassifier()\n",
    "tree_model.fit(X_resampled,y_resampled)\n",
    "y_pred = tree_model.predict(X_test_enc)\n",
    "print(y_pred)\n",
    "cm = confusion_matrix(y_test_enc,y_pred)\n",
    "display(cm)\n",
    "f1 = f1_score(y_test_enc, y_pred)\n",
    "print(f1)"
   ]
  },
  {
   "cell_type": "markdown",
   "metadata": {
    "heading_collapsed": true,
    "hidden": true
   },
   "source": [
    "### Class Weights"
   ]
  },
  {
   "cell_type": "code",
   "execution_count": null,
   "metadata": {
    "hidden": true
   },
   "outputs": [],
   "source": [
    "# Using class weights"
   ]
  },
  {
   "cell_type": "code",
   "execution_count": null,
   "metadata": {
    "hidden": true
   },
   "outputs": [],
   "source": [
    "class_weights = compute_class_weight('balanced', classes=np.unique(y_train_enc), y=y_train_enc)\n",
    "class_weight = dict(zip(np.unique(y_train), class_weights))"
   ]
  },
  {
   "cell_type": "code",
   "execution_count": null,
   "metadata": {
    "hidden": true
   },
   "outputs": [],
   "source": [
    "tree_model_balanced = DecisionTreeClassifier(class_weight=class_weight, random_state=21)\n",
    "tree_model_balanced.fit(X_train_enc,y_train_enc)\n",
    "y_pred = tree_model_balanced.predict(X_test_enc)\n",
    "print(y_pred)\n",
    "cm = confusion_matrix(y_test_enc,y_pred)\n",
    "display(cm)\n",
    "f1 = f1_score(y_test_enc, y_pred)\n",
    "print(f1)\n",
    "print(accuracy_score(y_test_enc, y_pred))"
   ]
  },
  {
   "cell_type": "markdown",
   "metadata": {
    "hidden": true
   },
   "source": [
    "- Ensemble Learning "
   ]
  },
  {
   "cell_type": "code",
   "execution_count": null,
   "metadata": {
    "hidden": true
   },
   "outputs": [],
   "source": [
    "vot_hard = VotingClassifier(estimators=([('DT',DecisionTreeClassifier()),('LR',LogisticRegression(max_iter=1000)),('KNN',KNeighborsClassifier())]))"
   ]
  },
  {
   "cell_type": "code",
   "execution_count": null,
   "metadata": {
    "hidden": true
   },
   "outputs": [],
   "source": [
    "vot_hard.fit(X_train_enc,y_train_enc)"
   ]
  },
  {
   "cell_type": "code",
   "execution_count": null,
   "metadata": {
    "hidden": true
   },
   "outputs": [],
   "source": [
    "y_pred_vote = vot_hard.predict(X_test_enc) "
   ]
  },
  {
   "cell_type": "code",
   "execution_count": null,
   "metadata": {
    "hidden": true
   },
   "outputs": [],
   "source": [
    "cm_vote = confusion_matrix(y_test_enc,y_pred_vote)\n",
    "display(cm_vote)\n",
    "f1_vote = f1_score(y_test_enc, y_pred_vote)\n",
    "print(f1_vote)"
   ]
  },
  {
   "cell_type": "code",
   "execution_count": null,
   "metadata": {
    "hidden": true
   },
   "outputs": [],
   "source": [
    "print('Accuracy is:', accuracy_score(y_test_enc,y_pred_vote))\n",
    "\n",
    "print('Precision is:', precision_score(y_test_enc, y_pred_vote))\n",
    "\n",
    "print('Recall is:', recall_score(y_test_enc, y_pred_vote))\n",
    "\n",
    "print('F1-Score is:', f1_score(y_test_enc, y_pred_vote))"
   ]
  },
  {
   "cell_type": "code",
   "execution_count": null,
   "metadata": {
    "hidden": true
   },
   "outputs": [],
   "source": [
    "ada = AdaBoostClassifier(estimator=tree_model_balanced)"
   ]
  },
  {
   "cell_type": "code",
   "execution_count": null,
   "metadata": {
    "hidden": true
   },
   "outputs": [],
   "source": [
    "ada.fit(X_train_enc,y_train_enc)"
   ]
  },
  {
   "cell_type": "code",
   "execution_count": null,
   "metadata": {
    "hidden": true
   },
   "outputs": [],
   "source": [
    "y_pred_ada = ada.predict(X_test_enc) "
   ]
  },
  {
   "cell_type": "code",
   "execution_count": null,
   "metadata": {
    "hidden": true
   },
   "outputs": [],
   "source": [
    "print('Accuracy is:', accuracy_score(y_test_enc,y_pred_ada))\n",
    "\n",
    "print('Precision is:', precision_score(y_test_enc, y_pred_ada))\n",
    "\n",
    "print('Recall is:', recall_score(y_test_enc, y_pred_ada))\n",
    "\n",
    "print('F1-Score is:', f1_score(y_test_enc, y_pred_ada))"
   ]
  },
  {
   "cell_type": "code",
   "execution_count": null,
   "metadata": {
    "hidden": true
   },
   "outputs": [],
   "source": [
    "grad = GradientBoostingClassifier()"
   ]
  },
  {
   "cell_type": "code",
   "execution_count": null,
   "metadata": {
    "hidden": true
   },
   "outputs": [],
   "source": [
    "grad.fit(X_train_enc,y_train_enc)"
   ]
  },
  {
   "cell_type": "code",
   "execution_count": null,
   "metadata": {
    "hidden": true
   },
   "outputs": [],
   "source": [
    "y_pred_grad = grad.predict(X_test_enc)"
   ]
  },
  {
   "cell_type": "code",
   "execution_count": null,
   "metadata": {
    "hidden": true
   },
   "outputs": [],
   "source": [
    "print('Accuracy is:', accuracy_score(y_test_enc,y_pred_grad))\n",
    "\n",
    "print('Precision is:', precision_score(y_test_enc, y_pred_grad))\n",
    "\n",
    "print('Recall is:', recall_score(y_test_enc, y_pred_grad))\n",
    "\n",
    "print('F1-Score is:', f1_score(y_test_enc, y_pred_grad))"
   ]
  },
  {
   "cell_type": "code",
   "execution_count": null,
   "metadata": {
    "hidden": true
   },
   "outputs": [],
   "source": []
  },
  {
   "cell_type": "code",
   "execution_count": null,
   "metadata": {
    "hidden": true
   },
   "outputs": [],
   "source": []
  },
  {
   "cell_type": "markdown",
   "metadata": {
    "heading_collapsed": true
   },
   "source": [
    "# --Visualizations--"
   ]
  },
  {
   "cell_type": "code",
   "execution_count": null,
   "metadata": {
    "hidden": true,
    "scrolled": true
   },
   "outputs": [],
   "source": [
    "msno.bar(original)"
   ]
  },
  {
   "cell_type": "code",
   "execution_count": null,
   "metadata": {
    "hidden": true,
    "scrolled": true
   },
   "outputs": [],
   "source": [
    "msno.heatmap(original)"
   ]
  },
  {
   "cell_type": "code",
   "execution_count": null,
   "metadata": {
    "hidden": true,
    "scrolled": true
   },
   "outputs": [],
   "source": [
    "sns.heatmap(original.corr(),annot=True)\n",
    "plt.show()"
   ]
  },
  {
   "cell_type": "code",
   "execution_count": null,
   "metadata": {
    "hidden": true,
    "scrolled": true
   },
   "outputs": [],
   "source": [
    "# Visualize the distributions for numerical values\n",
    "# Calculate the number of rows and columns in the grid\n",
    "numerical_df: pd.DataFrame = original[numerical_cols].replace(\"?\", np.nan).copy()\n",
    "num_cols_per_row = 3\n",
    "num_cols = len(numerical_cols)\n",
    "num_rows = (num_cols + num_cols_per_row - 1) // num_cols_per_row\n",
    "\n",
    "# Create subplots for each column in the list\n",
    "fig, axes = plt.subplots(num_rows, num_cols_per_row, figsize=(15, 8))\n",
    "for i, col in enumerate(numerical_cols):\n",
    "    row = i // num_cols_per_row\n",
    "    col_idx = i % num_cols_per_row\n",
    "    sns.histplot(numerical_df[col], ax=axes[row, col_idx])  # You can customize plot settings as needed\n",
    "\n",
    "# Remove empty subplots (if the number of subplots is not a multiple of num_cols_per_row)\n",
    "if num_cols % num_cols_per_row != 0:\n",
    "    for i in range(num_cols, num_rows * num_cols_per_row):\n",
    "        fig.delaxes(axes[i // num_cols_per_row, i % num_cols_per_row])\n",
    "\n",
    "# Show the plots\n",
    "plt.tight_layout()\n",
    "plt.show()"
   ]
  },
  {
   "cell_type": "code",
   "execution_count": null,
   "metadata": {
    "hidden": true
   },
   "outputs": [],
   "source": [
    "sns.pairplot(numerical_df)\n",
    "plt.show()"
   ]
  },
  {
   "cell_type": "code",
   "execution_count": null,
   "metadata": {
    "hidden": true,
    "scrolled": true
   },
   "outputs": [],
   "source": [
    "categorical_df: pd.DataFrame = original[categorical_cols].replace(\"?\", np.nan).copy()\n",
    "for cat in [\n",
    "    'country',\n",
    "    'race',\n",
    "    'gender',\n",
    "    'age',  # age bracket\n",
    "    'weight', # weight bracket\n",
    "    'payer_code',\n",
    "    'admission_type',\n",
    "    'glucose_test_result',\n",
    "    'a1c_test_result',\n",
    "    'change_in_meds_during_hospitalization',\n",
    "    'prescribed_diabetes_meds',\n",
    "]:\n",
    "    sns.catplot(data=categorical_df,kind='count',x=cat)\n",
    "    plt.show()"
   ]
  }
 ],
 "metadata": {
  "kernelspec": {
   "display_name": "Python 3 (ipykernel)",
   "language": "python",
   "name": "python3"
  },
  "language_info": {
   "codemirror_mode": {
    "name": "ipython",
    "version": 3
   },
   "file_extension": ".py",
   "mimetype": "text/x-python",
   "name": "python",
   "nbconvert_exporter": "python",
   "pygments_lexer": "ipython3",
   "version": "3.11.5"
  },
  "varInspector": {
   "cols": {
    "lenName": 16,
    "lenType": 16,
    "lenVar": 40
   },
   "kernels_config": {
    "python": {
     "delete_cmd_postfix": "",
     "delete_cmd_prefix": "del ",
     "library": "var_list.py",
     "varRefreshCmd": "print(var_dic_list())"
    },
    "r": {
     "delete_cmd_postfix": ") ",
     "delete_cmd_prefix": "rm(",
     "library": "var_list.r",
     "varRefreshCmd": "cat(var_dic_list()) "
    }
   },
   "types_to_exclude": [
    "module",
    "function",
    "builtin_function_or_method",
    "instance",
    "_Feature"
   ],
   "window_display": false
  }
 },
 "nbformat": 4,
 "nbformat_minor": 4
}
